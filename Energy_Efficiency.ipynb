{
  "nbformat": 4,
  "nbformat_minor": 0,
  "metadata": {
    "colab": {
      "name": "Energy_Efficiency.ipynb",
      "provenance": [],
      "collapsed_sections": [
        "dj6gB2uvh0nd"
      ]
    },
    "kernelspec": {
      "name": "python3",
      "display_name": "Python 3"
    },
    "language_info": {
      "name": "python"
    }
  },
  "cells": [
    {
      "cell_type": "markdown",
      "source": [
        "# Import library"
      ],
      "metadata": {
        "id": "nIYoTLdQ_J-J"
      }
    },
    {
      "cell_type": "code",
      "execution_count": 2,
      "metadata": {
        "id": "RT_-npRwNl53"
      },
      "outputs": [],
      "source": [
        "import pandas as pd\n",
        "import numpy as np\n",
        "import matplotlib.pyplot as plt\n",
        "import seaborn as sns\n",
        "import plotly.express as px"
      ]
    },
    {
      "cell_type": "markdown",
      "source": [
        "# Data"
      ],
      "metadata": {
        "id": "mqwnANrrQDKt"
      }
    },
    {
      "cell_type": "code",
      "source": [
        "df=pd.read_csv('/content/ENB2012_data.xlsx - Φύλλο1.csv')"
      ],
      "metadata": {
        "id": "9JvJtlVuOREX"
      },
      "execution_count": 3,
      "outputs": []
    },
    {
      "cell_type": "code",
      "source": [
        "df"
      ],
      "metadata": {
        "colab": {
          "base_uri": "https://localhost:8080/",
          "height": 424
        },
        "id": "hLAYIj6QOYCM",
        "outputId": "d43415ee-ba41-4f1a-a5a0-91c1293e7547"
      },
      "execution_count": 4,
      "outputs": [
        {
          "output_type": "execute_result",
          "data": {
            "text/plain": [
              "       X1     X2     X3      X4   X5  X6   X7  X8     Y1     Y2\n",
              "0    0.98  514.5  294.0  110.25  7.0   2  0.0   0  15.55  21.33\n",
              "1    0.98  514.5  294.0  110.25  7.0   3  0.0   0  15.55  21.33\n",
              "2    0.98  514.5  294.0  110.25  7.0   4  0.0   0  15.55  21.33\n",
              "3    0.98  514.5  294.0  110.25  7.0   5  0.0   0  15.55  21.33\n",
              "4    0.90  563.5  318.5  122.50  7.0   2  0.0   0  20.84  28.28\n",
              "..    ...    ...    ...     ...  ...  ..  ...  ..    ...    ...\n",
              "763  0.64  784.0  343.0  220.50  3.5   5  0.4   5  17.88  21.40\n",
              "764  0.62  808.5  367.5  220.50  3.5   2  0.4   5  16.54  16.88\n",
              "765  0.62  808.5  367.5  220.50  3.5   3  0.4   5  16.44  17.11\n",
              "766  0.62  808.5  367.5  220.50  3.5   4  0.4   5  16.48  16.61\n",
              "767  0.62  808.5  367.5  220.50  3.5   5  0.4   5  16.64  16.03\n",
              "\n",
              "[768 rows x 10 columns]"
            ],
            "text/html": [
              "\n",
              "  <div id=\"df-eb87bcbf-7248-4629-8325-f62b0391960f\">\n",
              "    <div class=\"colab-df-container\">\n",
              "      <div>\n",
              "<style scoped>\n",
              "    .dataframe tbody tr th:only-of-type {\n",
              "        vertical-align: middle;\n",
              "    }\n",
              "\n",
              "    .dataframe tbody tr th {\n",
              "        vertical-align: top;\n",
              "    }\n",
              "\n",
              "    .dataframe thead th {\n",
              "        text-align: right;\n",
              "    }\n",
              "</style>\n",
              "<table border=\"1\" class=\"dataframe\">\n",
              "  <thead>\n",
              "    <tr style=\"text-align: right;\">\n",
              "      <th></th>\n",
              "      <th>X1</th>\n",
              "      <th>X2</th>\n",
              "      <th>X3</th>\n",
              "      <th>X4</th>\n",
              "      <th>X5</th>\n",
              "      <th>X6</th>\n",
              "      <th>X7</th>\n",
              "      <th>X8</th>\n",
              "      <th>Y1</th>\n",
              "      <th>Y2</th>\n",
              "    </tr>\n",
              "  </thead>\n",
              "  <tbody>\n",
              "    <tr>\n",
              "      <th>0</th>\n",
              "      <td>0.98</td>\n",
              "      <td>514.5</td>\n",
              "      <td>294.0</td>\n",
              "      <td>110.25</td>\n",
              "      <td>7.0</td>\n",
              "      <td>2</td>\n",
              "      <td>0.0</td>\n",
              "      <td>0</td>\n",
              "      <td>15.55</td>\n",
              "      <td>21.33</td>\n",
              "    </tr>\n",
              "    <tr>\n",
              "      <th>1</th>\n",
              "      <td>0.98</td>\n",
              "      <td>514.5</td>\n",
              "      <td>294.0</td>\n",
              "      <td>110.25</td>\n",
              "      <td>7.0</td>\n",
              "      <td>3</td>\n",
              "      <td>0.0</td>\n",
              "      <td>0</td>\n",
              "      <td>15.55</td>\n",
              "      <td>21.33</td>\n",
              "    </tr>\n",
              "    <tr>\n",
              "      <th>2</th>\n",
              "      <td>0.98</td>\n",
              "      <td>514.5</td>\n",
              "      <td>294.0</td>\n",
              "      <td>110.25</td>\n",
              "      <td>7.0</td>\n",
              "      <td>4</td>\n",
              "      <td>0.0</td>\n",
              "      <td>0</td>\n",
              "      <td>15.55</td>\n",
              "      <td>21.33</td>\n",
              "    </tr>\n",
              "    <tr>\n",
              "      <th>3</th>\n",
              "      <td>0.98</td>\n",
              "      <td>514.5</td>\n",
              "      <td>294.0</td>\n",
              "      <td>110.25</td>\n",
              "      <td>7.0</td>\n",
              "      <td>5</td>\n",
              "      <td>0.0</td>\n",
              "      <td>0</td>\n",
              "      <td>15.55</td>\n",
              "      <td>21.33</td>\n",
              "    </tr>\n",
              "    <tr>\n",
              "      <th>4</th>\n",
              "      <td>0.90</td>\n",
              "      <td>563.5</td>\n",
              "      <td>318.5</td>\n",
              "      <td>122.50</td>\n",
              "      <td>7.0</td>\n",
              "      <td>2</td>\n",
              "      <td>0.0</td>\n",
              "      <td>0</td>\n",
              "      <td>20.84</td>\n",
              "      <td>28.28</td>\n",
              "    </tr>\n",
              "    <tr>\n",
              "      <th>...</th>\n",
              "      <td>...</td>\n",
              "      <td>...</td>\n",
              "      <td>...</td>\n",
              "      <td>...</td>\n",
              "      <td>...</td>\n",
              "      <td>...</td>\n",
              "      <td>...</td>\n",
              "      <td>...</td>\n",
              "      <td>...</td>\n",
              "      <td>...</td>\n",
              "    </tr>\n",
              "    <tr>\n",
              "      <th>763</th>\n",
              "      <td>0.64</td>\n",
              "      <td>784.0</td>\n",
              "      <td>343.0</td>\n",
              "      <td>220.50</td>\n",
              "      <td>3.5</td>\n",
              "      <td>5</td>\n",
              "      <td>0.4</td>\n",
              "      <td>5</td>\n",
              "      <td>17.88</td>\n",
              "      <td>21.40</td>\n",
              "    </tr>\n",
              "    <tr>\n",
              "      <th>764</th>\n",
              "      <td>0.62</td>\n",
              "      <td>808.5</td>\n",
              "      <td>367.5</td>\n",
              "      <td>220.50</td>\n",
              "      <td>3.5</td>\n",
              "      <td>2</td>\n",
              "      <td>0.4</td>\n",
              "      <td>5</td>\n",
              "      <td>16.54</td>\n",
              "      <td>16.88</td>\n",
              "    </tr>\n",
              "    <tr>\n",
              "      <th>765</th>\n",
              "      <td>0.62</td>\n",
              "      <td>808.5</td>\n",
              "      <td>367.5</td>\n",
              "      <td>220.50</td>\n",
              "      <td>3.5</td>\n",
              "      <td>3</td>\n",
              "      <td>0.4</td>\n",
              "      <td>5</td>\n",
              "      <td>16.44</td>\n",
              "      <td>17.11</td>\n",
              "    </tr>\n",
              "    <tr>\n",
              "      <th>766</th>\n",
              "      <td>0.62</td>\n",
              "      <td>808.5</td>\n",
              "      <td>367.5</td>\n",
              "      <td>220.50</td>\n",
              "      <td>3.5</td>\n",
              "      <td>4</td>\n",
              "      <td>0.4</td>\n",
              "      <td>5</td>\n",
              "      <td>16.48</td>\n",
              "      <td>16.61</td>\n",
              "    </tr>\n",
              "    <tr>\n",
              "      <th>767</th>\n",
              "      <td>0.62</td>\n",
              "      <td>808.5</td>\n",
              "      <td>367.5</td>\n",
              "      <td>220.50</td>\n",
              "      <td>3.5</td>\n",
              "      <td>5</td>\n",
              "      <td>0.4</td>\n",
              "      <td>5</td>\n",
              "      <td>16.64</td>\n",
              "      <td>16.03</td>\n",
              "    </tr>\n",
              "  </tbody>\n",
              "</table>\n",
              "<p>768 rows × 10 columns</p>\n",
              "</div>\n",
              "      <button class=\"colab-df-convert\" onclick=\"convertToInteractive('df-eb87bcbf-7248-4629-8325-f62b0391960f')\"\n",
              "              title=\"Convert this dataframe to an interactive table.\"\n",
              "              style=\"display:none;\">\n",
              "        \n",
              "  <svg xmlns=\"http://www.w3.org/2000/svg\" height=\"24px\"viewBox=\"0 0 24 24\"\n",
              "       width=\"24px\">\n",
              "    <path d=\"M0 0h24v24H0V0z\" fill=\"none\"/>\n",
              "    <path d=\"M18.56 5.44l.94 2.06.94-2.06 2.06-.94-2.06-.94-.94-2.06-.94 2.06-2.06.94zm-11 1L8.5 8.5l.94-2.06 2.06-.94-2.06-.94L8.5 2.5l-.94 2.06-2.06.94zm10 10l.94 2.06.94-2.06 2.06-.94-2.06-.94-.94-2.06-.94 2.06-2.06.94z\"/><path d=\"M17.41 7.96l-1.37-1.37c-.4-.4-.92-.59-1.43-.59-.52 0-1.04.2-1.43.59L10.3 9.45l-7.72 7.72c-.78.78-.78 2.05 0 2.83L4 21.41c.39.39.9.59 1.41.59.51 0 1.02-.2 1.41-.59l7.78-7.78 2.81-2.81c.8-.78.8-2.07 0-2.86zM5.41 20L4 18.59l7.72-7.72 1.47 1.35L5.41 20z\"/>\n",
              "  </svg>\n",
              "      </button>\n",
              "      \n",
              "  <style>\n",
              "    .colab-df-container {\n",
              "      display:flex;\n",
              "      flex-wrap:wrap;\n",
              "      gap: 12px;\n",
              "    }\n",
              "\n",
              "    .colab-df-convert {\n",
              "      background-color: #E8F0FE;\n",
              "      border: none;\n",
              "      border-radius: 50%;\n",
              "      cursor: pointer;\n",
              "      display: none;\n",
              "      fill: #1967D2;\n",
              "      height: 32px;\n",
              "      padding: 0 0 0 0;\n",
              "      width: 32px;\n",
              "    }\n",
              "\n",
              "    .colab-df-convert:hover {\n",
              "      background-color: #E2EBFA;\n",
              "      box-shadow: 0px 1px 2px rgba(60, 64, 67, 0.3), 0px 1px 3px 1px rgba(60, 64, 67, 0.15);\n",
              "      fill: #174EA6;\n",
              "    }\n",
              "\n",
              "    [theme=dark] .colab-df-convert {\n",
              "      background-color: #3B4455;\n",
              "      fill: #D2E3FC;\n",
              "    }\n",
              "\n",
              "    [theme=dark] .colab-df-convert:hover {\n",
              "      background-color: #434B5C;\n",
              "      box-shadow: 0px 1px 3px 1px rgba(0, 0, 0, 0.15);\n",
              "      filter: drop-shadow(0px 1px 2px rgba(0, 0, 0, 0.3));\n",
              "      fill: #FFFFFF;\n",
              "    }\n",
              "  </style>\n",
              "\n",
              "      <script>\n",
              "        const buttonEl =\n",
              "          document.querySelector('#df-eb87bcbf-7248-4629-8325-f62b0391960f button.colab-df-convert');\n",
              "        buttonEl.style.display =\n",
              "          google.colab.kernel.accessAllowed ? 'block' : 'none';\n",
              "\n",
              "        async function convertToInteractive(key) {\n",
              "          const element = document.querySelector('#df-eb87bcbf-7248-4629-8325-f62b0391960f');\n",
              "          const dataTable =\n",
              "            await google.colab.kernel.invokeFunction('convertToInteractive',\n",
              "                                                     [key], {});\n",
              "          if (!dataTable) return;\n",
              "\n",
              "          const docLinkHtml = 'Like what you see? Visit the ' +\n",
              "            '<a target=\"_blank\" href=https://colab.research.google.com/notebooks/data_table.ipynb>data table notebook</a>'\n",
              "            + ' to learn more about interactive tables.';\n",
              "          element.innerHTML = '';\n",
              "          dataTable['output_type'] = 'display_data';\n",
              "          await google.colab.output.renderOutput(dataTable, element);\n",
              "          const docLink = document.createElement('div');\n",
              "          docLink.innerHTML = docLinkHtml;\n",
              "          element.appendChild(docLink);\n",
              "        }\n",
              "      </script>\n",
              "    </div>\n",
              "  </div>\n",
              "  "
            ]
          },
          "metadata": {},
          "execution_count": 4
        }
      ]
    },
    {
      "cell_type": "code",
      "source": [
        "df.describe()"
      ],
      "metadata": {
        "colab": {
          "base_uri": "https://localhost:8080/",
          "height": 300
        },
        "id": "bmpDd_W_Olia",
        "outputId": "88cb41db-7e07-4532-878a-9b96f0463154"
      },
      "execution_count": 5,
      "outputs": [
        {
          "output_type": "execute_result",
          "data": {
            "text/plain": [
              "               X1          X2          X3          X4         X5          X6  \\\n",
              "count  768.000000  768.000000  768.000000  768.000000  768.00000  768.000000   \n",
              "mean     0.764167  671.708333  318.500000  176.604167    5.25000    3.500000   \n",
              "std      0.105777   88.086116   43.626481   45.165950    1.75114    1.118763   \n",
              "min      0.620000  514.500000  245.000000  110.250000    3.50000    2.000000   \n",
              "25%      0.682500  606.375000  294.000000  140.875000    3.50000    2.750000   \n",
              "50%      0.750000  673.750000  318.500000  183.750000    5.25000    3.500000   \n",
              "75%      0.830000  741.125000  343.000000  220.500000    7.00000    4.250000   \n",
              "max      0.980000  808.500000  416.500000  220.500000    7.00000    5.000000   \n",
              "\n",
              "               X7         X8          Y1          Y2  \n",
              "count  768.000000  768.00000  768.000000  768.000000  \n",
              "mean     0.234375    2.81250   22.307201   24.587760  \n",
              "std      0.133221    1.55096   10.090196    9.513306  \n",
              "min      0.000000    0.00000    6.010000   10.900000  \n",
              "25%      0.100000    1.75000   12.992500   15.620000  \n",
              "50%      0.250000    3.00000   18.950000   22.080000  \n",
              "75%      0.400000    4.00000   31.667500   33.132500  \n",
              "max      0.400000    5.00000   43.100000   48.030000  "
            ],
            "text/html": [
              "\n",
              "  <div id=\"df-cca03717-19f5-4c48-bba0-629eab0f054b\">\n",
              "    <div class=\"colab-df-container\">\n",
              "      <div>\n",
              "<style scoped>\n",
              "    .dataframe tbody tr th:only-of-type {\n",
              "        vertical-align: middle;\n",
              "    }\n",
              "\n",
              "    .dataframe tbody tr th {\n",
              "        vertical-align: top;\n",
              "    }\n",
              "\n",
              "    .dataframe thead th {\n",
              "        text-align: right;\n",
              "    }\n",
              "</style>\n",
              "<table border=\"1\" class=\"dataframe\">\n",
              "  <thead>\n",
              "    <tr style=\"text-align: right;\">\n",
              "      <th></th>\n",
              "      <th>X1</th>\n",
              "      <th>X2</th>\n",
              "      <th>X3</th>\n",
              "      <th>X4</th>\n",
              "      <th>X5</th>\n",
              "      <th>X6</th>\n",
              "      <th>X7</th>\n",
              "      <th>X8</th>\n",
              "      <th>Y1</th>\n",
              "      <th>Y2</th>\n",
              "    </tr>\n",
              "  </thead>\n",
              "  <tbody>\n",
              "    <tr>\n",
              "      <th>count</th>\n",
              "      <td>768.000000</td>\n",
              "      <td>768.000000</td>\n",
              "      <td>768.000000</td>\n",
              "      <td>768.000000</td>\n",
              "      <td>768.00000</td>\n",
              "      <td>768.000000</td>\n",
              "      <td>768.000000</td>\n",
              "      <td>768.00000</td>\n",
              "      <td>768.000000</td>\n",
              "      <td>768.000000</td>\n",
              "    </tr>\n",
              "    <tr>\n",
              "      <th>mean</th>\n",
              "      <td>0.764167</td>\n",
              "      <td>671.708333</td>\n",
              "      <td>318.500000</td>\n",
              "      <td>176.604167</td>\n",
              "      <td>5.25000</td>\n",
              "      <td>3.500000</td>\n",
              "      <td>0.234375</td>\n",
              "      <td>2.81250</td>\n",
              "      <td>22.307201</td>\n",
              "      <td>24.587760</td>\n",
              "    </tr>\n",
              "    <tr>\n",
              "      <th>std</th>\n",
              "      <td>0.105777</td>\n",
              "      <td>88.086116</td>\n",
              "      <td>43.626481</td>\n",
              "      <td>45.165950</td>\n",
              "      <td>1.75114</td>\n",
              "      <td>1.118763</td>\n",
              "      <td>0.133221</td>\n",
              "      <td>1.55096</td>\n",
              "      <td>10.090196</td>\n",
              "      <td>9.513306</td>\n",
              "    </tr>\n",
              "    <tr>\n",
              "      <th>min</th>\n",
              "      <td>0.620000</td>\n",
              "      <td>514.500000</td>\n",
              "      <td>245.000000</td>\n",
              "      <td>110.250000</td>\n",
              "      <td>3.50000</td>\n",
              "      <td>2.000000</td>\n",
              "      <td>0.000000</td>\n",
              "      <td>0.00000</td>\n",
              "      <td>6.010000</td>\n",
              "      <td>10.900000</td>\n",
              "    </tr>\n",
              "    <tr>\n",
              "      <th>25%</th>\n",
              "      <td>0.682500</td>\n",
              "      <td>606.375000</td>\n",
              "      <td>294.000000</td>\n",
              "      <td>140.875000</td>\n",
              "      <td>3.50000</td>\n",
              "      <td>2.750000</td>\n",
              "      <td>0.100000</td>\n",
              "      <td>1.75000</td>\n",
              "      <td>12.992500</td>\n",
              "      <td>15.620000</td>\n",
              "    </tr>\n",
              "    <tr>\n",
              "      <th>50%</th>\n",
              "      <td>0.750000</td>\n",
              "      <td>673.750000</td>\n",
              "      <td>318.500000</td>\n",
              "      <td>183.750000</td>\n",
              "      <td>5.25000</td>\n",
              "      <td>3.500000</td>\n",
              "      <td>0.250000</td>\n",
              "      <td>3.00000</td>\n",
              "      <td>18.950000</td>\n",
              "      <td>22.080000</td>\n",
              "    </tr>\n",
              "    <tr>\n",
              "      <th>75%</th>\n",
              "      <td>0.830000</td>\n",
              "      <td>741.125000</td>\n",
              "      <td>343.000000</td>\n",
              "      <td>220.500000</td>\n",
              "      <td>7.00000</td>\n",
              "      <td>4.250000</td>\n",
              "      <td>0.400000</td>\n",
              "      <td>4.00000</td>\n",
              "      <td>31.667500</td>\n",
              "      <td>33.132500</td>\n",
              "    </tr>\n",
              "    <tr>\n",
              "      <th>max</th>\n",
              "      <td>0.980000</td>\n",
              "      <td>808.500000</td>\n",
              "      <td>416.500000</td>\n",
              "      <td>220.500000</td>\n",
              "      <td>7.00000</td>\n",
              "      <td>5.000000</td>\n",
              "      <td>0.400000</td>\n",
              "      <td>5.00000</td>\n",
              "      <td>43.100000</td>\n",
              "      <td>48.030000</td>\n",
              "    </tr>\n",
              "  </tbody>\n",
              "</table>\n",
              "</div>\n",
              "      <button class=\"colab-df-convert\" onclick=\"convertToInteractive('df-cca03717-19f5-4c48-bba0-629eab0f054b')\"\n",
              "              title=\"Convert this dataframe to an interactive table.\"\n",
              "              style=\"display:none;\">\n",
              "        \n",
              "  <svg xmlns=\"http://www.w3.org/2000/svg\" height=\"24px\"viewBox=\"0 0 24 24\"\n",
              "       width=\"24px\">\n",
              "    <path d=\"M0 0h24v24H0V0z\" fill=\"none\"/>\n",
              "    <path d=\"M18.56 5.44l.94 2.06.94-2.06 2.06-.94-2.06-.94-.94-2.06-.94 2.06-2.06.94zm-11 1L8.5 8.5l.94-2.06 2.06-.94-2.06-.94L8.5 2.5l-.94 2.06-2.06.94zm10 10l.94 2.06.94-2.06 2.06-.94-2.06-.94-.94-2.06-.94 2.06-2.06.94z\"/><path d=\"M17.41 7.96l-1.37-1.37c-.4-.4-.92-.59-1.43-.59-.52 0-1.04.2-1.43.59L10.3 9.45l-7.72 7.72c-.78.78-.78 2.05 0 2.83L4 21.41c.39.39.9.59 1.41.59.51 0 1.02-.2 1.41-.59l7.78-7.78 2.81-2.81c.8-.78.8-2.07 0-2.86zM5.41 20L4 18.59l7.72-7.72 1.47 1.35L5.41 20z\"/>\n",
              "  </svg>\n",
              "      </button>\n",
              "      \n",
              "  <style>\n",
              "    .colab-df-container {\n",
              "      display:flex;\n",
              "      flex-wrap:wrap;\n",
              "      gap: 12px;\n",
              "    }\n",
              "\n",
              "    .colab-df-convert {\n",
              "      background-color: #E8F0FE;\n",
              "      border: none;\n",
              "      border-radius: 50%;\n",
              "      cursor: pointer;\n",
              "      display: none;\n",
              "      fill: #1967D2;\n",
              "      height: 32px;\n",
              "      padding: 0 0 0 0;\n",
              "      width: 32px;\n",
              "    }\n",
              "\n",
              "    .colab-df-convert:hover {\n",
              "      background-color: #E2EBFA;\n",
              "      box-shadow: 0px 1px 2px rgba(60, 64, 67, 0.3), 0px 1px 3px 1px rgba(60, 64, 67, 0.15);\n",
              "      fill: #174EA6;\n",
              "    }\n",
              "\n",
              "    [theme=dark] .colab-df-convert {\n",
              "      background-color: #3B4455;\n",
              "      fill: #D2E3FC;\n",
              "    }\n",
              "\n",
              "    [theme=dark] .colab-df-convert:hover {\n",
              "      background-color: #434B5C;\n",
              "      box-shadow: 0px 1px 3px 1px rgba(0, 0, 0, 0.15);\n",
              "      filter: drop-shadow(0px 1px 2px rgba(0, 0, 0, 0.3));\n",
              "      fill: #FFFFFF;\n",
              "    }\n",
              "  </style>\n",
              "\n",
              "      <script>\n",
              "        const buttonEl =\n",
              "          document.querySelector('#df-cca03717-19f5-4c48-bba0-629eab0f054b button.colab-df-convert');\n",
              "        buttonEl.style.display =\n",
              "          google.colab.kernel.accessAllowed ? 'block' : 'none';\n",
              "\n",
              "        async function convertToInteractive(key) {\n",
              "          const element = document.querySelector('#df-cca03717-19f5-4c48-bba0-629eab0f054b');\n",
              "          const dataTable =\n",
              "            await google.colab.kernel.invokeFunction('convertToInteractive',\n",
              "                                                     [key], {});\n",
              "          if (!dataTable) return;\n",
              "\n",
              "          const docLinkHtml = 'Like what you see? Visit the ' +\n",
              "            '<a target=\"_blank\" href=https://colab.research.google.com/notebooks/data_table.ipynb>data table notebook</a>'\n",
              "            + ' to learn more about interactive tables.';\n",
              "          element.innerHTML = '';\n",
              "          dataTable['output_type'] = 'display_data';\n",
              "          await google.colab.output.renderOutput(dataTable, element);\n",
              "          const docLink = document.createElement('div');\n",
              "          docLink.innerHTML = docLinkHtml;\n",
              "          element.appendChild(docLink);\n",
              "        }\n",
              "      </script>\n",
              "    </div>\n",
              "  </div>\n",
              "  "
            ]
          },
          "metadata": {},
          "execution_count": 5
        }
      ]
    },
    {
      "cell_type": "markdown",
      "source": [
        "## Data cleaning "
      ],
      "metadata": {
        "id": "Kfx0QXeE8LT_"
      }
    },
    {
      "cell_type": "code",
      "source": [
        "df.info()"
      ],
      "metadata": {
        "colab": {
          "base_uri": "https://localhost:8080/"
        },
        "id": "Q0QsEhzqOrSZ",
        "outputId": "50d98f05-a812-418c-f834-86bbdfa60423"
      },
      "execution_count": 6,
      "outputs": [
        {
          "output_type": "stream",
          "name": "stdout",
          "text": [
            "<class 'pandas.core.frame.DataFrame'>\n",
            "RangeIndex: 768 entries, 0 to 767\n",
            "Data columns (total 10 columns):\n",
            " #   Column  Non-Null Count  Dtype  \n",
            "---  ------  --------------  -----  \n",
            " 0   X1      768 non-null    float64\n",
            " 1   X2      768 non-null    float64\n",
            " 2   X3      768 non-null    float64\n",
            " 3   X4      768 non-null    float64\n",
            " 4   X5      768 non-null    float64\n",
            " 5   X6      768 non-null    int64  \n",
            " 6   X7      768 non-null    float64\n",
            " 7   X8      768 non-null    int64  \n",
            " 8   Y1      768 non-null    float64\n",
            " 9   Y2      768 non-null    float64\n",
            "dtypes: float64(8), int64(2)\n",
            "memory usage: 60.1 KB\n"
          ]
        }
      ]
    },
    {
      "cell_type": "code",
      "source": [
        "df.drop_duplicates()"
      ],
      "metadata": {
        "colab": {
          "base_uri": "https://localhost:8080/",
          "height": 424
        },
        "id": "MDymd47bOxip",
        "outputId": "f367eda0-8609-4453-fa12-09267269fbe3"
      },
      "execution_count": 7,
      "outputs": [
        {
          "output_type": "execute_result",
          "data": {
            "text/plain": [
              "       X1     X2     X3      X4   X5  X6   X7  X8     Y1     Y2\n",
              "0    0.98  514.5  294.0  110.25  7.0   2  0.0   0  15.55  21.33\n",
              "1    0.98  514.5  294.0  110.25  7.0   3  0.0   0  15.55  21.33\n",
              "2    0.98  514.5  294.0  110.25  7.0   4  0.0   0  15.55  21.33\n",
              "3    0.98  514.5  294.0  110.25  7.0   5  0.0   0  15.55  21.33\n",
              "4    0.90  563.5  318.5  122.50  7.0   2  0.0   0  20.84  28.28\n",
              "..    ...    ...    ...     ...  ...  ..  ...  ..    ...    ...\n",
              "763  0.64  784.0  343.0  220.50  3.5   5  0.4   5  17.88  21.40\n",
              "764  0.62  808.5  367.5  220.50  3.5   2  0.4   5  16.54  16.88\n",
              "765  0.62  808.5  367.5  220.50  3.5   3  0.4   5  16.44  17.11\n",
              "766  0.62  808.5  367.5  220.50  3.5   4  0.4   5  16.48  16.61\n",
              "767  0.62  808.5  367.5  220.50  3.5   5  0.4   5  16.64  16.03\n",
              "\n",
              "[768 rows x 10 columns]"
            ],
            "text/html": [
              "\n",
              "  <div id=\"df-772dd0be-7ecc-4ee4-830f-cecf8bc17756\">\n",
              "    <div class=\"colab-df-container\">\n",
              "      <div>\n",
              "<style scoped>\n",
              "    .dataframe tbody tr th:only-of-type {\n",
              "        vertical-align: middle;\n",
              "    }\n",
              "\n",
              "    .dataframe tbody tr th {\n",
              "        vertical-align: top;\n",
              "    }\n",
              "\n",
              "    .dataframe thead th {\n",
              "        text-align: right;\n",
              "    }\n",
              "</style>\n",
              "<table border=\"1\" class=\"dataframe\">\n",
              "  <thead>\n",
              "    <tr style=\"text-align: right;\">\n",
              "      <th></th>\n",
              "      <th>X1</th>\n",
              "      <th>X2</th>\n",
              "      <th>X3</th>\n",
              "      <th>X4</th>\n",
              "      <th>X5</th>\n",
              "      <th>X6</th>\n",
              "      <th>X7</th>\n",
              "      <th>X8</th>\n",
              "      <th>Y1</th>\n",
              "      <th>Y2</th>\n",
              "    </tr>\n",
              "  </thead>\n",
              "  <tbody>\n",
              "    <tr>\n",
              "      <th>0</th>\n",
              "      <td>0.98</td>\n",
              "      <td>514.5</td>\n",
              "      <td>294.0</td>\n",
              "      <td>110.25</td>\n",
              "      <td>7.0</td>\n",
              "      <td>2</td>\n",
              "      <td>0.0</td>\n",
              "      <td>0</td>\n",
              "      <td>15.55</td>\n",
              "      <td>21.33</td>\n",
              "    </tr>\n",
              "    <tr>\n",
              "      <th>1</th>\n",
              "      <td>0.98</td>\n",
              "      <td>514.5</td>\n",
              "      <td>294.0</td>\n",
              "      <td>110.25</td>\n",
              "      <td>7.0</td>\n",
              "      <td>3</td>\n",
              "      <td>0.0</td>\n",
              "      <td>0</td>\n",
              "      <td>15.55</td>\n",
              "      <td>21.33</td>\n",
              "    </tr>\n",
              "    <tr>\n",
              "      <th>2</th>\n",
              "      <td>0.98</td>\n",
              "      <td>514.5</td>\n",
              "      <td>294.0</td>\n",
              "      <td>110.25</td>\n",
              "      <td>7.0</td>\n",
              "      <td>4</td>\n",
              "      <td>0.0</td>\n",
              "      <td>0</td>\n",
              "      <td>15.55</td>\n",
              "      <td>21.33</td>\n",
              "    </tr>\n",
              "    <tr>\n",
              "      <th>3</th>\n",
              "      <td>0.98</td>\n",
              "      <td>514.5</td>\n",
              "      <td>294.0</td>\n",
              "      <td>110.25</td>\n",
              "      <td>7.0</td>\n",
              "      <td>5</td>\n",
              "      <td>0.0</td>\n",
              "      <td>0</td>\n",
              "      <td>15.55</td>\n",
              "      <td>21.33</td>\n",
              "    </tr>\n",
              "    <tr>\n",
              "      <th>4</th>\n",
              "      <td>0.90</td>\n",
              "      <td>563.5</td>\n",
              "      <td>318.5</td>\n",
              "      <td>122.50</td>\n",
              "      <td>7.0</td>\n",
              "      <td>2</td>\n",
              "      <td>0.0</td>\n",
              "      <td>0</td>\n",
              "      <td>20.84</td>\n",
              "      <td>28.28</td>\n",
              "    </tr>\n",
              "    <tr>\n",
              "      <th>...</th>\n",
              "      <td>...</td>\n",
              "      <td>...</td>\n",
              "      <td>...</td>\n",
              "      <td>...</td>\n",
              "      <td>...</td>\n",
              "      <td>...</td>\n",
              "      <td>...</td>\n",
              "      <td>...</td>\n",
              "      <td>...</td>\n",
              "      <td>...</td>\n",
              "    </tr>\n",
              "    <tr>\n",
              "      <th>763</th>\n",
              "      <td>0.64</td>\n",
              "      <td>784.0</td>\n",
              "      <td>343.0</td>\n",
              "      <td>220.50</td>\n",
              "      <td>3.5</td>\n",
              "      <td>5</td>\n",
              "      <td>0.4</td>\n",
              "      <td>5</td>\n",
              "      <td>17.88</td>\n",
              "      <td>21.40</td>\n",
              "    </tr>\n",
              "    <tr>\n",
              "      <th>764</th>\n",
              "      <td>0.62</td>\n",
              "      <td>808.5</td>\n",
              "      <td>367.5</td>\n",
              "      <td>220.50</td>\n",
              "      <td>3.5</td>\n",
              "      <td>2</td>\n",
              "      <td>0.4</td>\n",
              "      <td>5</td>\n",
              "      <td>16.54</td>\n",
              "      <td>16.88</td>\n",
              "    </tr>\n",
              "    <tr>\n",
              "      <th>765</th>\n",
              "      <td>0.62</td>\n",
              "      <td>808.5</td>\n",
              "      <td>367.5</td>\n",
              "      <td>220.50</td>\n",
              "      <td>3.5</td>\n",
              "      <td>3</td>\n",
              "      <td>0.4</td>\n",
              "      <td>5</td>\n",
              "      <td>16.44</td>\n",
              "      <td>17.11</td>\n",
              "    </tr>\n",
              "    <tr>\n",
              "      <th>766</th>\n",
              "      <td>0.62</td>\n",
              "      <td>808.5</td>\n",
              "      <td>367.5</td>\n",
              "      <td>220.50</td>\n",
              "      <td>3.5</td>\n",
              "      <td>4</td>\n",
              "      <td>0.4</td>\n",
              "      <td>5</td>\n",
              "      <td>16.48</td>\n",
              "      <td>16.61</td>\n",
              "    </tr>\n",
              "    <tr>\n",
              "      <th>767</th>\n",
              "      <td>0.62</td>\n",
              "      <td>808.5</td>\n",
              "      <td>367.5</td>\n",
              "      <td>220.50</td>\n",
              "      <td>3.5</td>\n",
              "      <td>5</td>\n",
              "      <td>0.4</td>\n",
              "      <td>5</td>\n",
              "      <td>16.64</td>\n",
              "      <td>16.03</td>\n",
              "    </tr>\n",
              "  </tbody>\n",
              "</table>\n",
              "<p>768 rows × 10 columns</p>\n",
              "</div>\n",
              "      <button class=\"colab-df-convert\" onclick=\"convertToInteractive('df-772dd0be-7ecc-4ee4-830f-cecf8bc17756')\"\n",
              "              title=\"Convert this dataframe to an interactive table.\"\n",
              "              style=\"display:none;\">\n",
              "        \n",
              "  <svg xmlns=\"http://www.w3.org/2000/svg\" height=\"24px\"viewBox=\"0 0 24 24\"\n",
              "       width=\"24px\">\n",
              "    <path d=\"M0 0h24v24H0V0z\" fill=\"none\"/>\n",
              "    <path d=\"M18.56 5.44l.94 2.06.94-2.06 2.06-.94-2.06-.94-.94-2.06-.94 2.06-2.06.94zm-11 1L8.5 8.5l.94-2.06 2.06-.94-2.06-.94L8.5 2.5l-.94 2.06-2.06.94zm10 10l.94 2.06.94-2.06 2.06-.94-2.06-.94-.94-2.06-.94 2.06-2.06.94z\"/><path d=\"M17.41 7.96l-1.37-1.37c-.4-.4-.92-.59-1.43-.59-.52 0-1.04.2-1.43.59L10.3 9.45l-7.72 7.72c-.78.78-.78 2.05 0 2.83L4 21.41c.39.39.9.59 1.41.59.51 0 1.02-.2 1.41-.59l7.78-7.78 2.81-2.81c.8-.78.8-2.07 0-2.86zM5.41 20L4 18.59l7.72-7.72 1.47 1.35L5.41 20z\"/>\n",
              "  </svg>\n",
              "      </button>\n",
              "      \n",
              "  <style>\n",
              "    .colab-df-container {\n",
              "      display:flex;\n",
              "      flex-wrap:wrap;\n",
              "      gap: 12px;\n",
              "    }\n",
              "\n",
              "    .colab-df-convert {\n",
              "      background-color: #E8F0FE;\n",
              "      border: none;\n",
              "      border-radius: 50%;\n",
              "      cursor: pointer;\n",
              "      display: none;\n",
              "      fill: #1967D2;\n",
              "      height: 32px;\n",
              "      padding: 0 0 0 0;\n",
              "      width: 32px;\n",
              "    }\n",
              "\n",
              "    .colab-df-convert:hover {\n",
              "      background-color: #E2EBFA;\n",
              "      box-shadow: 0px 1px 2px rgba(60, 64, 67, 0.3), 0px 1px 3px 1px rgba(60, 64, 67, 0.15);\n",
              "      fill: #174EA6;\n",
              "    }\n",
              "\n",
              "    [theme=dark] .colab-df-convert {\n",
              "      background-color: #3B4455;\n",
              "      fill: #D2E3FC;\n",
              "    }\n",
              "\n",
              "    [theme=dark] .colab-df-convert:hover {\n",
              "      background-color: #434B5C;\n",
              "      box-shadow: 0px 1px 3px 1px rgba(0, 0, 0, 0.15);\n",
              "      filter: drop-shadow(0px 1px 2px rgba(0, 0, 0, 0.3));\n",
              "      fill: #FFFFFF;\n",
              "    }\n",
              "  </style>\n",
              "\n",
              "      <script>\n",
              "        const buttonEl =\n",
              "          document.querySelector('#df-772dd0be-7ecc-4ee4-830f-cecf8bc17756 button.colab-df-convert');\n",
              "        buttonEl.style.display =\n",
              "          google.colab.kernel.accessAllowed ? 'block' : 'none';\n",
              "\n",
              "        async function convertToInteractive(key) {\n",
              "          const element = document.querySelector('#df-772dd0be-7ecc-4ee4-830f-cecf8bc17756');\n",
              "          const dataTable =\n",
              "            await google.colab.kernel.invokeFunction('convertToInteractive',\n",
              "                                                     [key], {});\n",
              "          if (!dataTable) return;\n",
              "\n",
              "          const docLinkHtml = 'Like what you see? Visit the ' +\n",
              "            '<a target=\"_blank\" href=https://colab.research.google.com/notebooks/data_table.ipynb>data table notebook</a>'\n",
              "            + ' to learn more about interactive tables.';\n",
              "          element.innerHTML = '';\n",
              "          dataTable['output_type'] = 'display_data';\n",
              "          await google.colab.output.renderOutput(dataTable, element);\n",
              "          const docLink = document.createElement('div');\n",
              "          docLink.innerHTML = docLinkHtml;\n",
              "          element.appendChild(docLink);\n",
              "        }\n",
              "      </script>\n",
              "    </div>\n",
              "  </div>\n",
              "  "
            ]
          },
          "metadata": {},
          "execution_count": 7
        }
      ]
    },
    {
      "cell_type": "code",
      "source": [
        "df1=df.copy()"
      ],
      "metadata": {
        "id": "uYmX8lCXO5HR"
      },
      "execution_count": 8,
      "outputs": []
    },
    {
      "cell_type": "code",
      "source": [
        "df1.tail()"
      ],
      "metadata": {
        "colab": {
          "base_uri": "https://localhost:8080/",
          "height": 206
        },
        "id": "G0GOiqTOO9C4",
        "outputId": "b3b6bbcf-ecf0-46b4-a0bf-ede1a05c5ca9"
      },
      "execution_count": 9,
      "outputs": [
        {
          "output_type": "execute_result",
          "data": {
            "text/plain": [
              "       X1     X2     X3     X4   X5  X6   X7  X8     Y1     Y2\n",
              "763  0.64  784.0  343.0  220.5  3.5   5  0.4   5  17.88  21.40\n",
              "764  0.62  808.5  367.5  220.5  3.5   2  0.4   5  16.54  16.88\n",
              "765  0.62  808.5  367.5  220.5  3.5   3  0.4   5  16.44  17.11\n",
              "766  0.62  808.5  367.5  220.5  3.5   4  0.4   5  16.48  16.61\n",
              "767  0.62  808.5  367.5  220.5  3.5   5  0.4   5  16.64  16.03"
            ],
            "text/html": [
              "\n",
              "  <div id=\"df-f73f7a24-44b5-4c37-905d-8e1c21102507\">\n",
              "    <div class=\"colab-df-container\">\n",
              "      <div>\n",
              "<style scoped>\n",
              "    .dataframe tbody tr th:only-of-type {\n",
              "        vertical-align: middle;\n",
              "    }\n",
              "\n",
              "    .dataframe tbody tr th {\n",
              "        vertical-align: top;\n",
              "    }\n",
              "\n",
              "    .dataframe thead th {\n",
              "        text-align: right;\n",
              "    }\n",
              "</style>\n",
              "<table border=\"1\" class=\"dataframe\">\n",
              "  <thead>\n",
              "    <tr style=\"text-align: right;\">\n",
              "      <th></th>\n",
              "      <th>X1</th>\n",
              "      <th>X2</th>\n",
              "      <th>X3</th>\n",
              "      <th>X4</th>\n",
              "      <th>X5</th>\n",
              "      <th>X6</th>\n",
              "      <th>X7</th>\n",
              "      <th>X8</th>\n",
              "      <th>Y1</th>\n",
              "      <th>Y2</th>\n",
              "    </tr>\n",
              "  </thead>\n",
              "  <tbody>\n",
              "    <tr>\n",
              "      <th>763</th>\n",
              "      <td>0.64</td>\n",
              "      <td>784.0</td>\n",
              "      <td>343.0</td>\n",
              "      <td>220.5</td>\n",
              "      <td>3.5</td>\n",
              "      <td>5</td>\n",
              "      <td>0.4</td>\n",
              "      <td>5</td>\n",
              "      <td>17.88</td>\n",
              "      <td>21.40</td>\n",
              "    </tr>\n",
              "    <tr>\n",
              "      <th>764</th>\n",
              "      <td>0.62</td>\n",
              "      <td>808.5</td>\n",
              "      <td>367.5</td>\n",
              "      <td>220.5</td>\n",
              "      <td>3.5</td>\n",
              "      <td>2</td>\n",
              "      <td>0.4</td>\n",
              "      <td>5</td>\n",
              "      <td>16.54</td>\n",
              "      <td>16.88</td>\n",
              "    </tr>\n",
              "    <tr>\n",
              "      <th>765</th>\n",
              "      <td>0.62</td>\n",
              "      <td>808.5</td>\n",
              "      <td>367.5</td>\n",
              "      <td>220.5</td>\n",
              "      <td>3.5</td>\n",
              "      <td>3</td>\n",
              "      <td>0.4</td>\n",
              "      <td>5</td>\n",
              "      <td>16.44</td>\n",
              "      <td>17.11</td>\n",
              "    </tr>\n",
              "    <tr>\n",
              "      <th>766</th>\n",
              "      <td>0.62</td>\n",
              "      <td>808.5</td>\n",
              "      <td>367.5</td>\n",
              "      <td>220.5</td>\n",
              "      <td>3.5</td>\n",
              "      <td>4</td>\n",
              "      <td>0.4</td>\n",
              "      <td>5</td>\n",
              "      <td>16.48</td>\n",
              "      <td>16.61</td>\n",
              "    </tr>\n",
              "    <tr>\n",
              "      <th>767</th>\n",
              "      <td>0.62</td>\n",
              "      <td>808.5</td>\n",
              "      <td>367.5</td>\n",
              "      <td>220.5</td>\n",
              "      <td>3.5</td>\n",
              "      <td>5</td>\n",
              "      <td>0.4</td>\n",
              "      <td>5</td>\n",
              "      <td>16.64</td>\n",
              "      <td>16.03</td>\n",
              "    </tr>\n",
              "  </tbody>\n",
              "</table>\n",
              "</div>\n",
              "      <button class=\"colab-df-convert\" onclick=\"convertToInteractive('df-f73f7a24-44b5-4c37-905d-8e1c21102507')\"\n",
              "              title=\"Convert this dataframe to an interactive table.\"\n",
              "              style=\"display:none;\">\n",
              "        \n",
              "  <svg xmlns=\"http://www.w3.org/2000/svg\" height=\"24px\"viewBox=\"0 0 24 24\"\n",
              "       width=\"24px\">\n",
              "    <path d=\"M0 0h24v24H0V0z\" fill=\"none\"/>\n",
              "    <path d=\"M18.56 5.44l.94 2.06.94-2.06 2.06-.94-2.06-.94-.94-2.06-.94 2.06-2.06.94zm-11 1L8.5 8.5l.94-2.06 2.06-.94-2.06-.94L8.5 2.5l-.94 2.06-2.06.94zm10 10l.94 2.06.94-2.06 2.06-.94-2.06-.94-.94-2.06-.94 2.06-2.06.94z\"/><path d=\"M17.41 7.96l-1.37-1.37c-.4-.4-.92-.59-1.43-.59-.52 0-1.04.2-1.43.59L10.3 9.45l-7.72 7.72c-.78.78-.78 2.05 0 2.83L4 21.41c.39.39.9.59 1.41.59.51 0 1.02-.2 1.41-.59l7.78-7.78 2.81-2.81c.8-.78.8-2.07 0-2.86zM5.41 20L4 18.59l7.72-7.72 1.47 1.35L5.41 20z\"/>\n",
              "  </svg>\n",
              "      </button>\n",
              "      \n",
              "  <style>\n",
              "    .colab-df-container {\n",
              "      display:flex;\n",
              "      flex-wrap:wrap;\n",
              "      gap: 12px;\n",
              "    }\n",
              "\n",
              "    .colab-df-convert {\n",
              "      background-color: #E8F0FE;\n",
              "      border: none;\n",
              "      border-radius: 50%;\n",
              "      cursor: pointer;\n",
              "      display: none;\n",
              "      fill: #1967D2;\n",
              "      height: 32px;\n",
              "      padding: 0 0 0 0;\n",
              "      width: 32px;\n",
              "    }\n",
              "\n",
              "    .colab-df-convert:hover {\n",
              "      background-color: #E2EBFA;\n",
              "      box-shadow: 0px 1px 2px rgba(60, 64, 67, 0.3), 0px 1px 3px 1px rgba(60, 64, 67, 0.15);\n",
              "      fill: #174EA6;\n",
              "    }\n",
              "\n",
              "    [theme=dark] .colab-df-convert {\n",
              "      background-color: #3B4455;\n",
              "      fill: #D2E3FC;\n",
              "    }\n",
              "\n",
              "    [theme=dark] .colab-df-convert:hover {\n",
              "      background-color: #434B5C;\n",
              "      box-shadow: 0px 1px 3px 1px rgba(0, 0, 0, 0.15);\n",
              "      filter: drop-shadow(0px 1px 2px rgba(0, 0, 0, 0.3));\n",
              "      fill: #FFFFFF;\n",
              "    }\n",
              "  </style>\n",
              "\n",
              "      <script>\n",
              "        const buttonEl =\n",
              "          document.querySelector('#df-f73f7a24-44b5-4c37-905d-8e1c21102507 button.colab-df-convert');\n",
              "        buttonEl.style.display =\n",
              "          google.colab.kernel.accessAllowed ? 'block' : 'none';\n",
              "\n",
              "        async function convertToInteractive(key) {\n",
              "          const element = document.querySelector('#df-f73f7a24-44b5-4c37-905d-8e1c21102507');\n",
              "          const dataTable =\n",
              "            await google.colab.kernel.invokeFunction('convertToInteractive',\n",
              "                                                     [key], {});\n",
              "          if (!dataTable) return;\n",
              "\n",
              "          const docLinkHtml = 'Like what you see? Visit the ' +\n",
              "            '<a target=\"_blank\" href=https://colab.research.google.com/notebooks/data_table.ipynb>data table notebook</a>'\n",
              "            + ' to learn more about interactive tables.';\n",
              "          element.innerHTML = '';\n",
              "          dataTable['output_type'] = 'display_data';\n",
              "          await google.colab.output.renderOutput(dataTable, element);\n",
              "          const docLink = document.createElement('div');\n",
              "          docLink.innerHTML = docLinkHtml;\n",
              "          element.appendChild(docLink);\n",
              "        }\n",
              "      </script>\n",
              "    </div>\n",
              "  </div>\n",
              "  "
            ]
          },
          "metadata": {},
          "execution_count": 9
        }
      ]
    },
    {
      "cell_type": "code",
      "source": [
        "df1. columns = ['Relative_Compactness', 'Surface_Area', 'Wall_Area', 'Roof_Area','Overall_Height','Orientation','Glazing_Area','Glazing_Area_Distribution','Heating_Load','Cooling_Load']"
      ],
      "metadata": {
        "id": "Z5u4QhWCPKZJ"
      },
      "execution_count": 10,
      "outputs": []
    },
    {
      "cell_type": "code",
      "source": [
        "df1.head()"
      ],
      "metadata": {
        "colab": {
          "base_uri": "https://localhost:8080/",
          "height": 206
        },
        "id": "WRK_O-cpP9T9",
        "outputId": "ba1c17f9-7fa9-4b88-9dcc-275add6ae4ac"
      },
      "execution_count": 11,
      "outputs": [
        {
          "output_type": "execute_result",
          "data": {
            "text/plain": [
              "   Relative_Compactness  Surface_Area  Wall_Area  Roof_Area  Overall_Height  \\\n",
              "0                  0.98         514.5      294.0     110.25             7.0   \n",
              "1                  0.98         514.5      294.0     110.25             7.0   \n",
              "2                  0.98         514.5      294.0     110.25             7.0   \n",
              "3                  0.98         514.5      294.0     110.25             7.0   \n",
              "4                  0.90         563.5      318.5     122.50             7.0   \n",
              "\n",
              "   Orientation  Glazing_Area  Glazing_Area_Distribution  Heating_Load  \\\n",
              "0            2           0.0                          0         15.55   \n",
              "1            3           0.0                          0         15.55   \n",
              "2            4           0.0                          0         15.55   \n",
              "3            5           0.0                          0         15.55   \n",
              "4            2           0.0                          0         20.84   \n",
              "\n",
              "   Cooling_Load  \n",
              "0         21.33  \n",
              "1         21.33  \n",
              "2         21.33  \n",
              "3         21.33  \n",
              "4         28.28  "
            ],
            "text/html": [
              "\n",
              "  <div id=\"df-229ab0a1-59e2-433e-8bd7-9095aa2803c4\">\n",
              "    <div class=\"colab-df-container\">\n",
              "      <div>\n",
              "<style scoped>\n",
              "    .dataframe tbody tr th:only-of-type {\n",
              "        vertical-align: middle;\n",
              "    }\n",
              "\n",
              "    .dataframe tbody tr th {\n",
              "        vertical-align: top;\n",
              "    }\n",
              "\n",
              "    .dataframe thead th {\n",
              "        text-align: right;\n",
              "    }\n",
              "</style>\n",
              "<table border=\"1\" class=\"dataframe\">\n",
              "  <thead>\n",
              "    <tr style=\"text-align: right;\">\n",
              "      <th></th>\n",
              "      <th>Relative_Compactness</th>\n",
              "      <th>Surface_Area</th>\n",
              "      <th>Wall_Area</th>\n",
              "      <th>Roof_Area</th>\n",
              "      <th>Overall_Height</th>\n",
              "      <th>Orientation</th>\n",
              "      <th>Glazing_Area</th>\n",
              "      <th>Glazing_Area_Distribution</th>\n",
              "      <th>Heating_Load</th>\n",
              "      <th>Cooling_Load</th>\n",
              "    </tr>\n",
              "  </thead>\n",
              "  <tbody>\n",
              "    <tr>\n",
              "      <th>0</th>\n",
              "      <td>0.98</td>\n",
              "      <td>514.5</td>\n",
              "      <td>294.0</td>\n",
              "      <td>110.25</td>\n",
              "      <td>7.0</td>\n",
              "      <td>2</td>\n",
              "      <td>0.0</td>\n",
              "      <td>0</td>\n",
              "      <td>15.55</td>\n",
              "      <td>21.33</td>\n",
              "    </tr>\n",
              "    <tr>\n",
              "      <th>1</th>\n",
              "      <td>0.98</td>\n",
              "      <td>514.5</td>\n",
              "      <td>294.0</td>\n",
              "      <td>110.25</td>\n",
              "      <td>7.0</td>\n",
              "      <td>3</td>\n",
              "      <td>0.0</td>\n",
              "      <td>0</td>\n",
              "      <td>15.55</td>\n",
              "      <td>21.33</td>\n",
              "    </tr>\n",
              "    <tr>\n",
              "      <th>2</th>\n",
              "      <td>0.98</td>\n",
              "      <td>514.5</td>\n",
              "      <td>294.0</td>\n",
              "      <td>110.25</td>\n",
              "      <td>7.0</td>\n",
              "      <td>4</td>\n",
              "      <td>0.0</td>\n",
              "      <td>0</td>\n",
              "      <td>15.55</td>\n",
              "      <td>21.33</td>\n",
              "    </tr>\n",
              "    <tr>\n",
              "      <th>3</th>\n",
              "      <td>0.98</td>\n",
              "      <td>514.5</td>\n",
              "      <td>294.0</td>\n",
              "      <td>110.25</td>\n",
              "      <td>7.0</td>\n",
              "      <td>5</td>\n",
              "      <td>0.0</td>\n",
              "      <td>0</td>\n",
              "      <td>15.55</td>\n",
              "      <td>21.33</td>\n",
              "    </tr>\n",
              "    <tr>\n",
              "      <th>4</th>\n",
              "      <td>0.90</td>\n",
              "      <td>563.5</td>\n",
              "      <td>318.5</td>\n",
              "      <td>122.50</td>\n",
              "      <td>7.0</td>\n",
              "      <td>2</td>\n",
              "      <td>0.0</td>\n",
              "      <td>0</td>\n",
              "      <td>20.84</td>\n",
              "      <td>28.28</td>\n",
              "    </tr>\n",
              "  </tbody>\n",
              "</table>\n",
              "</div>\n",
              "      <button class=\"colab-df-convert\" onclick=\"convertToInteractive('df-229ab0a1-59e2-433e-8bd7-9095aa2803c4')\"\n",
              "              title=\"Convert this dataframe to an interactive table.\"\n",
              "              style=\"display:none;\">\n",
              "        \n",
              "  <svg xmlns=\"http://www.w3.org/2000/svg\" height=\"24px\"viewBox=\"0 0 24 24\"\n",
              "       width=\"24px\">\n",
              "    <path d=\"M0 0h24v24H0V0z\" fill=\"none\"/>\n",
              "    <path d=\"M18.56 5.44l.94 2.06.94-2.06 2.06-.94-2.06-.94-.94-2.06-.94 2.06-2.06.94zm-11 1L8.5 8.5l.94-2.06 2.06-.94-2.06-.94L8.5 2.5l-.94 2.06-2.06.94zm10 10l.94 2.06.94-2.06 2.06-.94-2.06-.94-.94-2.06-.94 2.06-2.06.94z\"/><path d=\"M17.41 7.96l-1.37-1.37c-.4-.4-.92-.59-1.43-.59-.52 0-1.04.2-1.43.59L10.3 9.45l-7.72 7.72c-.78.78-.78 2.05 0 2.83L4 21.41c.39.39.9.59 1.41.59.51 0 1.02-.2 1.41-.59l7.78-7.78 2.81-2.81c.8-.78.8-2.07 0-2.86zM5.41 20L4 18.59l7.72-7.72 1.47 1.35L5.41 20z\"/>\n",
              "  </svg>\n",
              "      </button>\n",
              "      \n",
              "  <style>\n",
              "    .colab-df-container {\n",
              "      display:flex;\n",
              "      flex-wrap:wrap;\n",
              "      gap: 12px;\n",
              "    }\n",
              "\n",
              "    .colab-df-convert {\n",
              "      background-color: #E8F0FE;\n",
              "      border: none;\n",
              "      border-radius: 50%;\n",
              "      cursor: pointer;\n",
              "      display: none;\n",
              "      fill: #1967D2;\n",
              "      height: 32px;\n",
              "      padding: 0 0 0 0;\n",
              "      width: 32px;\n",
              "    }\n",
              "\n",
              "    .colab-df-convert:hover {\n",
              "      background-color: #E2EBFA;\n",
              "      box-shadow: 0px 1px 2px rgba(60, 64, 67, 0.3), 0px 1px 3px 1px rgba(60, 64, 67, 0.15);\n",
              "      fill: #174EA6;\n",
              "    }\n",
              "\n",
              "    [theme=dark] .colab-df-convert {\n",
              "      background-color: #3B4455;\n",
              "      fill: #D2E3FC;\n",
              "    }\n",
              "\n",
              "    [theme=dark] .colab-df-convert:hover {\n",
              "      background-color: #434B5C;\n",
              "      box-shadow: 0px 1px 3px 1px rgba(0, 0, 0, 0.15);\n",
              "      filter: drop-shadow(0px 1px 2px rgba(0, 0, 0, 0.3));\n",
              "      fill: #FFFFFF;\n",
              "    }\n",
              "  </style>\n",
              "\n",
              "      <script>\n",
              "        const buttonEl =\n",
              "          document.querySelector('#df-229ab0a1-59e2-433e-8bd7-9095aa2803c4 button.colab-df-convert');\n",
              "        buttonEl.style.display =\n",
              "          google.colab.kernel.accessAllowed ? 'block' : 'none';\n",
              "\n",
              "        async function convertToInteractive(key) {\n",
              "          const element = document.querySelector('#df-229ab0a1-59e2-433e-8bd7-9095aa2803c4');\n",
              "          const dataTable =\n",
              "            await google.colab.kernel.invokeFunction('convertToInteractive',\n",
              "                                                     [key], {});\n",
              "          if (!dataTable) return;\n",
              "\n",
              "          const docLinkHtml = 'Like what you see? Visit the ' +\n",
              "            '<a target=\"_blank\" href=https://colab.research.google.com/notebooks/data_table.ipynb>data table notebook</a>'\n",
              "            + ' to learn more about interactive tables.';\n",
              "          element.innerHTML = '';\n",
              "          dataTable['output_type'] = 'display_data';\n",
              "          await google.colab.output.renderOutput(dataTable, element);\n",
              "          const docLink = document.createElement('div');\n",
              "          docLink.innerHTML = docLinkHtml;\n",
              "          element.appendChild(docLink);\n",
              "        }\n",
              "      </script>\n",
              "    </div>\n",
              "  </div>\n",
              "  "
            ]
          },
          "metadata": {},
          "execution_count": 11
        }
      ]
    },
    {
      "cell_type": "markdown",
      "source": [
        "## Distribution_Plot"
      ],
      "metadata": {
        "id": "QZOTngA7QGTs"
      }
    },
    {
      "cell_type": "code",
      "source": [
        "sns.countplot(data=df1,x='Relative_Compactness')"
      ],
      "metadata": {
        "colab": {
          "base_uri": "https://localhost:8080/",
          "height": 297
        },
        "id": "K7Xkg476TXmc",
        "outputId": "9d17728b-a5b9-41a7-f784-0e7e2f2a0bfd"
      },
      "execution_count": 12,
      "outputs": [
        {
          "output_type": "execute_result",
          "data": {
            "text/plain": [
              "<matplotlib.axes._subplots.AxesSubplot at 0x7f49c68d8ed0>"
            ]
          },
          "metadata": {},
          "execution_count": 12
        },
        {
          "output_type": "display_data",
          "data": {
            "text/plain": [
              "<Figure size 432x288 with 1 Axes>"
            ],
            "image/png": "[encoded data removed]"
          },
          "metadata": {
            "needs_background": "light"
          }
        }
      ]
    },
    {
      "cell_type": "code",
      "source": [
        "sns.countplot(data=df1,x='Surface_Area')"
      ],
      "metadata": {
        "colab": {
          "base_uri": "https://localhost:8080/",
          "height": 297
        },
        "id": "mwiXO10_UEPa",
        "outputId": "8cc51bc1-45a4-4333-9735-15beca4e3cd8"
      },
      "execution_count": 13,
      "outputs": [
        {
          "output_type": "execute_result",
          "data": {
            "text/plain": [
              "<matplotlib.axes._subplots.AxesSubplot at 0x7f49c68074d0>"
            ]
          },
          "metadata": {},
          "execution_count": 13
        },
        {
          "output_type": "display_data",
          "data": {
            "text/plain": [
              "<Figure size 432x288 with 1 Axes>"
            ],
            "image/png": "[encoded data removed]"
          },
          "metadata": {
            "needs_background": "light"
          }
        }
      ]
    },
    {
      "cell_type": "code",
      "source": [
        "sns.countplot(data=df1,x='Wall_Area')"
      ],
      "metadata": {
        "colab": {
          "base_uri": "https://localhost:8080/",
          "height": 300
        },
        "id": "1cpN7_DlUKdB",
        "outputId": "fcffceaa-2a2a-4f5b-f4b8-c5f84a939bd4"
      },
      "execution_count": 14,
      "outputs": [
        {
          "output_type": "execute_result",
          "data": {
            "text/plain": [
              "<matplotlib.axes._subplots.AxesSubplot at 0x7f49c67e3450>"
            ]
          },
          "metadata": {},
          "execution_count": 14
        },
        {
          "output_type": "display_data",
          "data": {
            "text/plain": [
              "<Figure size 432x288 with 1 Axes>"
            ],
            "image/png": "[encoded data removed]"
          },
          "metadata": {
            "needs_background": "light"
          }
        }
      ]
    },
    {
      "cell_type": "code",
      "source": [
        "sns.countplot(data=df1,x='Roof_Area')"
      ],
      "metadata": {
        "colab": {
          "base_uri": "https://localhost:8080/",
          "height": 300
        },
        "id": "M4GCmFluUWpx",
        "outputId": "653c71a1-3a73-4a08-f6aa-776e5a05308c"
      },
      "execution_count": 15,
      "outputs": [
        {
          "output_type": "execute_result",
          "data": {
            "text/plain": [
              "<matplotlib.axes._subplots.AxesSubplot at 0x7f49c624de10>"
            ]
          },
          "metadata": {},
          "execution_count": 15
        },
        {
          "output_type": "display_data",
          "data": {
            "text/plain": [
              "<Figure size 432x288 with 1 Axes>"
            ],
            "image/png": "[encoded data removed]"
          },
          "metadata": {
            "needs_background": "light"
          }
        }
      ]
    },
    {
      "cell_type": "code",
      "source": [
        "sns.countplot(data=df1,x='Overall_Height')"
      ],
      "metadata": {
        "colab": {
          "base_uri": "https://localhost:8080/",
          "height": 300
        },
        "id": "ilp9GfnfUdap",
        "outputId": "5f22a621-e896-48c0-e3e9-0e4ca391e652"
      },
      "execution_count": 16,
      "outputs": [
        {
          "output_type": "execute_result",
          "data": {
            "text/plain": [
              "<matplotlib.axes._subplots.AxesSubplot at 0x7f49c61e8050>"
            ]
          },
          "metadata": {},
          "execution_count": 16
        },
        {
          "output_type": "display_data",
          "data": {
            "text/plain": [
              "<Figure size 432x288 with 1 Axes>"
            ],
            "image/png": "[encoded data removed]"
          },
          "metadata": {
            "needs_background": "light"
          }
        }
      ]
    },
    {
      "cell_type": "code",
      "source": [
        "sns.countplot(data=df1,x='Orientation')"
      ],
      "metadata": {
        "colab": {
          "base_uri": "https://localhost:8080/",
          "height": 299
        },
        "id": "jHpeOT33Uqiy",
        "outputId": "9ba8503b-f094-4e65-ba82-bff8364cf70a"
      },
      "execution_count": 17,
      "outputs": [
        {
          "output_type": "execute_result",
          "data": {
            "text/plain": [
              "<matplotlib.axes._subplots.AxesSubplot at 0x7f49c6157150>"
            ]
          },
          "metadata": {},
          "execution_count": 17
        },
        {
          "output_type": "display_data",
          "data": {
            "text/plain": [
              "<Figure size 432x288 with 1 Axes>"
            ],
            "image/png": "[encoded data removed]"
          },
          "metadata": {
            "needs_background": "light"
          }
        }
      ]
    },
    {
      "cell_type": "code",
      "source": [
        "df1['Glazing_Area'].unique()"
      ],
      "metadata": {
        "colab": {
          "base_uri": "https://localhost:8080/"
        },
        "id": "mYYkbL0IU8Pg",
        "outputId": "c0b3264f-643a-4d7b-d298-e086ab4efd96"
      },
      "execution_count": 18,
      "outputs": [
        {
          "output_type": "execute_result",
          "data": {
            "text/plain": [
              "array([0.  , 0.1 , 0.25, 0.4 ])"
            ]
          },
          "metadata": {},
          "execution_count": 18
        }
      ]
    },
    {
      "cell_type": "code",
      "source": [
        "sns.countplot(data=df1,x='Glazing_Area')"
      ],
      "metadata": {
        "colab": {
          "base_uri": "https://localhost:8080/",
          "height": 300
        },
        "id": "ICWpxhn2Uuno",
        "outputId": "2ffc23bb-0786-48e2-b878-a693ac417d9d"
      },
      "execution_count": 19,
      "outputs": [
        {
          "output_type": "execute_result",
          "data": {
            "text/plain": [
              "<matplotlib.axes._subplots.AxesSubplot at 0x7f49c612df50>"
            ]
          },
          "metadata": {},
          "execution_count": 19
        },
        {
          "output_type": "display_data",
          "data": {
            "text/plain": [
              "<Figure size 432x288 with 1 Axes>"
            ],
            "image/png": "[encoded data removed]"
          },
          "metadata": {
            "needs_background": "light"
          }
        }
      ]
    },
    {
      "cell_type": "code",
      "source": [
        "df1['Glazing_Area_Distribution'].unique()"
      ],
      "metadata": {
        "colab": {
          "base_uri": "https://localhost:8080/"
        },
        "id": "K1BLsIbIVJqY",
        "outputId": "1a82c01d-5206-4bf8-c649-3f6615361d10"
      },
      "execution_count": 20,
      "outputs": [
        {
          "output_type": "execute_result",
          "data": {
            "text/plain": [
              "array([0, 1, 2, 3, 4, 5])"
            ]
          },
          "metadata": {},
          "execution_count": 20
        }
      ]
    },
    {
      "cell_type": "code",
      "source": [
        "sns.countplot(data=df1,x='Glazing_Area')"
      ],
      "metadata": {
        "colab": {
          "base_uri": "https://localhost:8080/",
          "height": 300
        },
        "id": "QNmIBXaBVNJX",
        "outputId": "35862f12-0535-4892-db47-3cf2b2835977"
      },
      "execution_count": 21,
      "outputs": [
        {
          "output_type": "execute_result",
          "data": {
            "text/plain": [
              "<matplotlib.axes._subplots.AxesSubplot at 0x7f49c60a6b10>"
            ]
          },
          "metadata": {},
          "execution_count": 21
        },
        {
          "output_type": "display_data",
          "data": {
            "text/plain": [
              "<Figure size 432x288 with 1 Axes>"
            ],
            "image/png": "[encoded data removed]"
          },
          "metadata": {
            "needs_background": "light"
          }
        }
      ]
    },
    {
      "cell_type": "code",
      "source": [
        "df1['Heating_Load'].unique()"
      ],
      "metadata": {
        "id": "npb5WME1VdoO"
      },
      "execution_count": null,
      "outputs": []
    },
    {
      "cell_type": "code",
      "source": [
        "fx=px.scatter(df1,x='Heating_Load')\n",
        "fx.show()"
      ],
      "metadata": {
        "colab": {
          "base_uri": "https://localhost:8080/",
          "height": 542
        },
        "id": "ETKi92F2Vi0G",
        "outputId": "18b977fa-3aaf-44d7-b490-041a5c3fd76a"
      },
      "execution_count": 23,
      "outputs": [
        {
          "output_type": "display_data",
          "data": {
            "text/html": [
              "<html>\n",
              "<head><meta charset=\"utf-8\" /></head>\n",
              "<body>\n",
              "    <div>            <script src=\"https://cdnjs.cloudflare.com/ajax/libs/mathjax/2.7.5/MathJax.js?config=TeX-AMS-MML_SVG\"></script><script type=\"text/javascript\">if (window.MathJax) {MathJax.Hub.Config({SVG: {font: \"STIX-Web\"}});}</script>                <script type=\"text/javascript\">window.PlotlyConfig = {MathJaxConfig: 'local'};</script>\n",
              "        <script src=\"https://cdn.plot.ly/plotly-2.8.3.min.js\"></script>                <div id=\"6a4b6d09-c8fb-4f3d-b03e-57e7f0b86faf\" class=\"plotly-graph-div\" style=\"height:525px; width:100%;\"></div>            <script type=\"text/javascript\">                                    window.PLOTLYENV=window.PLOTLYENV || {};                                    if (document.getElementById(\"6a4b6d09-c8fb-4f3d-b03e-57e7f0b86faf\")) {                    Plotly.newPlot(                        \"6a4b6d09-c8fb-4f3d-b03e-57e7f0b86faf\",                        [{\"hovertemplate\":\"Heating_Load=%{x}<br>index=%{y}<extra></extra>\",\"legendgroup\":\"\",\"marker\":{\"color\":\"#636efa\",\"symbol\":\"circle\"},\"mode\":\"markers\",\"name\":\"\",\"orientation\":\"h\",\"showlegend\":false,\"x\":[15.55,15.55,15.55,15.55,20.84,21.46,20.71,19.68,19.5,19.95,19.34,18.31,17.05,17.41,16.95,15.98,28.52,29.9,29.63,28.75,24.77,23.93,24.77,23.93,6.07,6.05,6.01,6.04,6.37,6.4,6.37,6.4,6.85,6.79,6.77,6.81,7.18,7.1,7.1,7.1,10.85,10.54,10.77,10.56,8.6,8.49,8.45,8.5,24.58,24.63,24.63,24.59,29.03,29.87,29.14,28.09,26.28,26.91,26.37,25.27,23.53,24.03,23.54,22.58,35.56,37.12,36.9,35.94,32.96,32.12,32.94,32.21,10.36,10.43,10.36,10.39,10.71,10.8,10.7,10.75,11.11,11.13,11.09,11.16,11.68,11.69,11.7,11.69,15.41,15.2,15.42,15.21,12.96,12.97,12.93,13.02,24.29,24.31,24.13,24.25,28.88,29.68,28.83,27.9,26.48,27.02,26.33,25.36,23.75,24.23,23.67,22.79,35.65,37.26,36.97,36.03,33.16,32.4,33.12,32.41,10.42,10.46,10.32,10.45,10.64,10.72,10.55,10.68,11.45,11.46,11.32,11.49,11.45,11.42,11.33,11.43,15.41,15.18,15.34,15.19,12.88,13.0,12.97,13.04,24.28,24.4,24.11,24.35,28.07,29.01,29.62,29.05,25.41,26.47,26.89,26.46,22.93,23.84,24.17,23.87,35.78,35.48,36.97,36.7,32.52,33.28,32.33,33.24,10.39,10.34,10.35,10.38,10.77,10.68,10.68,10.7,11.22,11.16,11.1,11.14,11.59,11.6,11.53,11.61,15.16,15.36,15.12,15.36,12.68,12.63,12.71,12.73,24.38,24.23,24.04,24.32,29.06,28.05,28.86,29.79,26.44,25.37,26.33,27.03,23.8,22.8,23.59,24.24,36.86,35.89,35.45,37.1,33.08,32.38,33.09,32.31,10.08,10.15,10.07,10.14,10.66,10.68,10.53,10.72,11.18,11.22,11.07,11.2,11.44,11.42,11.33,11.43,15.4,15.19,15.32,15.16,12.85,13.04,13.0,13.0,24.35,24.33,24.03,24.26,29.83,29.08,28.03,29.02,27.03,26.45,25.36,26.45,24.37,23.89,22.89,23.86,37.03,36.71,36.77,35.48,32.31,33.21,32.46,33.27,10.47,10.37,10.34,10.39,10.78,10.7,10.67,13.69,11.21,11.14,11.11,11.16,11.38,11.34,11.22,11.34,15.16,15.37,15.12,15.36,12.59,12.74,12.8,12.62,28.15,28.15,28.37,28.41,32.68,33.48,32.84,32.0,29.54,30.05,29.6,28.66,26.84,27.27,26.97,26.19,38.67,40.03,39.86,39.04,36.96,36.13,36.91,36.43,12.43,12.5,12.41,12.45,12.57,12.65,12.57,12.63,12.78,12.93,12.73,12.72,13.17,13.18,13.17,13.18,17.5,17.35,17.52,17.37,15.09,15.12,15.08,15.16,28.67,28.57,28.18,28.6,32.46,33.27,32.33,31.66,29.34,29.87,29.27,28.4,25.74,25.98,25.38,24.94,38.57,40.19,39.97,38.98,36.95,36.28,36.86,36.45,12.35,12.45,12.16,12.3,12.33,12.29,12.2,12.49,12.85,12.87,12.73,12.95,13.05,12.93,12.77,13.0,17.14,16.84,17.02,17.11,14.34,14.66,14.6,14.6,28.67,28.56,28.17,28.63,31.63,32.4,32.68,32.29,28.4,29.4,29.43,29.07,24.7,25.48,25.37,25.17,39.04,38.35,39.81,39.83,35.99,36.59,35.64,36.52,11.8,12.03,11.98,11.69,12.41,12.28,12.1,12.19,12.34,12.46,12.31,12.12,12.97,13.01,12.74,12.84,16.83,16.93,16.66,16.86,13.91,14.34,13.95,13.99,28.7,28.55,28.15,28.62,32.67,31.69,32.07,33.28,29.47,28.42,29.08,29.88,25.66,24.96,25.43,26.0,40.0,38.84,38.33,40.12,36.95,36.45,36.81,36.26,12.32,12.3,12.18,12.43,12.36,12.49,12.17,12.28,12.91,12.95,12.67,12.86,12.95,13.0,12.86,12.92,16.99,16.69,16.56,16.62,14.33,14.61,14.61,14.65,28.69,28.58,28.15,28.61,33.13,32.31,31.53,32.46,29.71,29.09,28.31,29.39,25.7,25.17,24.6,25.49,39.89,39.83,39.01,38.65,35.69,36.64,36.06,36.7,12.12,11.67,11.64,12.02,12.27,12.19,12.25,12.27,12.47,12.12,12.18,12.47,12.93,12.82,12.78,13.02,16.73,16.86,16.76,16.92,13.68,13.99,14.16,13.86,32.26,32.26,32.49,32.53,36.47,37.24,36.66,35.96,31.89,32.39,32.09,31.29,29.22,29.91,29.53,28.65,41.4,42.62,42.5,41.67,40.78,39.97,40.71,40.43,14.52,14.61,14.5,14.55,14.51,14.6,14.5,14.58,14.51,14.7,14.42,14.42,15.23,15.23,15.23,15.23,19.52,19.36,19.48,19.42,15.09,17.17,17.14,17.14,32.82,32.71,32.24,32.72,35.84,36.57,36.06,35.69,32.48,32.74,32.13,31.64,28.95,29.49,28.64,28.01,41.64,43.1,42.74,41.92,40.78,40.15,40.57,40.42,14.54,14.45,14.18,14.5,14.7,14.66,14.4,14.71,14.75,14.71,14.33,14.62,15.34,15.29,15.09,15.3,19.2,18.88,18.9,19.12,16.76,17.23,17.26,17.15,32.82,32.69,32.23,32.75,34.24,34.95,35.05,34.29,31.28,32.12,32.05,31.84,28.67,29.67,29.47,28.91,41.26,41.3,42.49,42.08,39.32,39.84,38.89,39.68,13.97,14.22,14.1,13.78,14.07,14.03,13.94,13.86,14.32,14.56,14.33,14.08,15.16,15.18,14.72,14.9,18.48,18.71,18.48,18.46,16.47,16.35,16.55,16.74,32.85,32.67,32.21,32.74,36.45,35.73,35.4,36.57,32.38,31.66,32.15,32.75,28.93,28.05,28.64,29.52,42.77,41.73,41.32,42.96,40.68,40.4,40.6,40.11,14.37,14.48,14.32,14.44,14.6,14.7,14.47,14.66,14.54,14.62,14.53,14.71,15.34,15.29,15.09,15.3,19.06,19.13,19.0,18.84,16.44,16.9,16.94,16.77,32.84,32.72,32.21,32.73,35.67,35.01,34.72,35.24,32.31,31.81,31.12,32.06,30.0,29.5,29.06,29.92,42.11,41.96,41.09,40.79,38.82,39.72,39.31,39.86,14.41,14.19,14.17,14.39,12.43,12.63,12.76,12.42,14.12,14.28,14.37,14.21,14.96,14.92,14.92,15.16,17.69,18.19,18.16,17.88,16.54,16.44,16.48,16.64],\"xaxis\":\"x\",\"y\":[0,1,2,3,4,5,6,7,8,9,10,11,12,13,14,15,16,17,18,19,20,21,22,23,24,25,26,27,28,29,30,31,32,33,34,35,36,37,38,39,40,41,42,43,44,45,46,47,48,49,50,51,52,53,54,55,56,57,58,59,60,61,62,63,64,65,66,67,68,69,70,71,72,73,74,75,76,77,78,79,80,81,82,83,84,85,86,87,88,89,90,91,92,93,94,95,96,97,98,99,100,101,102,103,104,105,106,107,108,109,110,111,112,113,114,115,116,117,118,119,120,121,122,123,124,125,126,127,128,129,130,131,132,133,134,135,136,137,138,139,140,141,142,143,144,145,146,147,148,149,150,151,152,153,154,155,156,157,158,159,160,161,162,163,164,165,166,167,168,169,170,171,172,173,174,175,176,177,178,179,180,181,182,183,184,185,186,187,188,189,190,191,192,193,194,195,196,197,198,199,200,201,202,203,204,205,206,207,208,209,210,211,212,213,214,215,216,217,218,219,220,221,222,223,224,225,226,227,228,229,230,231,232,233,234,235,236,237,238,239,240,241,242,243,244,245,246,247,248,249,250,251,252,253,254,255,256,257,258,259,260,261,262,263,264,265,266,267,268,269,270,271,272,273,274,275,276,277,278,279,280,281,282,283,284,285,286,287,288,289,290,291,292,293,294,295,296,297,298,299,300,301,302,303,304,305,306,307,308,309,310,311,312,313,314,315,316,317,318,319,320,321,322,323,324,325,326,327,328,329,330,331,332,333,334,335,336,337,338,339,340,341,342,343,344,345,346,347,348,349,350,351,352,353,354,355,356,357,358,359,360,361,362,363,364,365,366,367,368,369,370,371,372,373,374,375,376,377,378,379,380,381,382,383,384,385,386,387,388,389,390,391,392,393,394,395,396,397,398,399,400,401,402,403,404,405,406,407,408,409,410,411,412,413,414,415,416,417,418,419,420,421,422,423,424,425,426,427,428,429,430,431,432,433,434,435,436,437,438,439,440,441,442,443,444,445,446,447,448,449,450,451,452,453,454,455,456,457,458,459,460,461,462,463,464,465,466,467,468,469,470,471,472,473,474,475,476,477,478,479,480,481,482,483,484,485,486,487,488,489,490,491,492,493,494,495,496,497,498,499,500,501,502,503,504,505,506,507,508,509,510,511,512,513,514,515,516,517,518,519,520,521,522,523,524,525,526,527,528,529,530,531,532,533,534,535,536,537,538,539,540,541,542,543,544,545,546,547,548,549,550,551,552,553,554,555,556,557,558,559,560,561,562,563,564,565,566,567,568,569,570,571,572,573,574,575,576,577,578,579,580,581,582,583,584,585,586,587,588,589,590,591,592,593,594,595,596,597,598,599,600,601,602,603,604,605,606,607,608,609,610,611,612,613,614,615,616,617,618,619,620,621,622,623,624,625,626,627,628,629,630,631,632,633,634,635,636,637,638,639,640,641,642,643,644,645,646,647,648,649,650,651,652,653,654,655,656,657,658,659,660,661,662,663,664,665,666,667,668,669,670,671,672,673,674,675,676,677,678,679,680,681,682,683,684,685,686,687,688,689,690,691,692,693,694,695,696,697,698,699,700,701,702,703,704,705,706,707,708,709,710,711,712,713,714,715,716,717,718,719,720,721,722,723,724,725,726,727,728,729,730,731,732,733,734,735,736,737,738,739,740,741,742,743,744,745,746,747,748,749,750,751,752,753,754,755,756,757,758,759,760,761,762,763,764,765,766,767],\"yaxis\":\"y\",\"type\":\"scatter\"}],                        {\"template\":{\"data\":{\"bar\":[{\"error_x\":{\"color\":\"#2a3f5f\"},\"error_y\":{\"color\":\"#2a3f5f\"},\"marker\":{\"line\":{\"color\":\"#E5ECF6\",\"width\":0.5},\"pattern\":{\"fillmode\":\"overlay\",\"size\":10,\"solidity\":0.2}},\"type\":\"bar\"}],\"barpolar\":[{\"marker\":{\"line\":{\"color\":\"#E5ECF6\",\"width\":0.5},\"pattern\":{\"fillmode\":\"overlay\",\"size\":10,\"solidity\":0.2}},\"type\":\"barpolar\"}],\"carpet\":[{\"aaxis\":{\"endlinecolor\":\"#2a3f5f\",\"gridcolor\":\"white\",\"linecolor\":\"white\",\"minorgridcolor\":\"white\",\"startlinecolor\":\"#2a3f5f\"},\"baxis\":{\"endlinecolor\":\"#2a3f5f\",\"gridcolor\":\"white\",\"linecolor\":\"white\",\"minorgridcolor\":\"white\",\"startlinecolor\":\"#2a3f5f\"},\"type\":\"carpet\"}],\"choropleth\":[{\"colorbar\":{\"outlinewidth\":0,\"ticks\":\"\"},\"type\":\"choropleth\"}],\"contour\":[{\"colorbar\":{\"outlinewidth\":0,\"ticks\":\"\"},\"colorscale\":[[0.0,\"#0d0887\"],[0.1111111111111111,\"#46039f\"],[0.2222222222222222,\"#7201a8\"],[0.3333333333333333,\"#9c179e\"],[0.4444444444444444,\"#bd3786\"],[0.5555555555555556,\"#d8576b\"],[0.6666666666666666,\"#ed7953\"],[0.7777777777777778,\"#fb9f3a\"],[0.8888888888888888,\"#fdca26\"],[1.0,\"#f0f921\"]],\"type\":\"contour\"}],\"contourcarpet\":[{\"colorbar\":{\"outlinewidth\":0,\"ticks\":\"\"},\"type\":\"contourcarpet\"}],\"heatmap\":[{\"colorbar\":{\"outlinewidth\":0,\"ticks\":\"\"},\"colorscale\":[[0.0,\"#0d0887\"],[0.1111111111111111,\"#46039f\"],[0.2222222222222222,\"#7201a8\"],[0.3333333333333333,\"#9c179e\"],[0.4444444444444444,\"#bd3786\"],[0.5555555555555556,\"#d8576b\"],[0.6666666666666666,\"#ed7953\"],[0.7777777777777778,\"#fb9f3a\"],[0.8888888888888888,\"#fdca26\"],[1.0,\"#f0f921\"]],\"type\":\"heatmap\"}],\"heatmapgl\":[{\"colorbar\":{\"outlinewidth\":0,\"ticks\":\"\"},\"colorscale\":[[0.0,\"#0d0887\"],[0.1111111111111111,\"#46039f\"],[0.2222222222222222,\"#7201a8\"],[0.3333333333333333,\"#9c179e\"],[0.4444444444444444,\"#bd3786\"],[0.5555555555555556,\"#d8576b\"],[0.6666666666666666,\"#ed7953\"],[0.7777777777777778,\"#fb9f3a\"],[0.8888888888888888,\"#fdca26\"],[1.0,\"#f0f921\"]],\"type\":\"heatmapgl\"}],\"histogram\":[{\"marker\":{\"pattern\":{\"fillmode\":\"overlay\",\"size\":10,\"solidity\":0.2}},\"type\":\"histogram\"}],\"histogram2d\":[{\"colorbar\":{\"outlinewidth\":0,\"ticks\":\"\"},\"colorscale\":[[0.0,\"#0d0887\"],[0.1111111111111111,\"#46039f\"],[0.2222222222222222,\"#7201a8\"],[0.3333333333333333,\"#9c179e\"],[0.4444444444444444,\"#bd3786\"],[0.5555555555555556,\"#d8576b\"],[0.6666666666666666,\"#ed7953\"],[0.7777777777777778,\"#fb9f3a\"],[0.8888888888888888,\"#fdca26\"],[1.0,\"#f0f921\"]],\"type\":\"histogram2d\"}],\"histogram2dcontour\":[{\"colorbar\":{\"outlinewidth\":0,\"ticks\":\"\"},\"colorscale\":[[0.0,\"#0d0887\"],[0.1111111111111111,\"#46039f\"],[0.2222222222222222,\"#7201a8\"],[0.3333333333333333,\"#9c179e\"],[0.4444444444444444,\"#bd3786\"],[0.5555555555555556,\"#d8576b\"],[0.6666666666666666,\"#ed7953\"],[0.7777777777777778,\"#fb9f3a\"],[0.8888888888888888,\"#fdca26\"],[1.0,\"#f0f921\"]],\"type\":\"histogram2dcontour\"}],\"mesh3d\":[{\"colorbar\":{\"outlinewidth\":0,\"ticks\":\"\"},\"type\":\"mesh3d\"}],\"parcoords\":[{\"line\":{\"colorbar\":{\"outlinewidth\":0,\"ticks\":\"\"}},\"type\":\"parcoords\"}],\"pie\":[{\"automargin\":true,\"type\":\"pie\"}],\"scatter\":[{\"marker\":{\"colorbar\":{\"outlinewidth\":0,\"ticks\":\"\"}},\"type\":\"scatter\"}],\"scatter3d\":[{\"line\":{\"colorbar\":{\"outlinewidth\":0,\"ticks\":\"\"}},\"marker\":{\"colorbar\":{\"outlinewidth\":0,\"ticks\":\"\"}},\"type\":\"scatter3d\"}],\"scattercarpet\":[{\"marker\":{\"colorbar\":{\"outlinewidth\":0,\"ticks\":\"\"}},\"type\":\"scattercarpet\"}],\"scattergeo\":[{\"marker\":{\"colorbar\":{\"outlinewidth\":0,\"ticks\":\"\"}},\"type\":\"scattergeo\"}],\"scattergl\":[{\"marker\":{\"colorbar\":{\"outlinewidth\":0,\"ticks\":\"\"}},\"type\":\"scattergl\"}],\"scattermapbox\":[{\"marker\":{\"colorbar\":{\"outlinewidth\":0,\"ticks\":\"\"}},\"type\":\"scattermapbox\"}],\"scatterpolar\":[{\"marker\":{\"colorbar\":{\"outlinewidth\":0,\"ticks\":\"\"}},\"type\":\"scatterpolar\"}],\"scatterpolargl\":[{\"marker\":{\"colorbar\":{\"outlinewidth\":0,\"ticks\":\"\"}},\"type\":\"scatterpolargl\"}],\"scatterternary\":[{\"marker\":{\"colorbar\":{\"outlinewidth\":0,\"ticks\":\"\"}},\"type\":\"scatterternary\"}],\"surface\":[{\"colorbar\":{\"outlinewidth\":0,\"ticks\":\"\"},\"colorscale\":[[0.0,\"#0d0887\"],[0.1111111111111111,\"#46039f\"],[0.2222222222222222,\"#7201a8\"],[0.3333333333333333,\"#9c179e\"],[0.4444444444444444,\"#bd3786\"],[0.5555555555555556,\"#d8576b\"],[0.6666666666666666,\"#ed7953\"],[0.7777777777777778,\"#fb9f3a\"],[0.8888888888888888,\"#fdca26\"],[1.0,\"#f0f921\"]],\"type\":\"surface\"}],\"table\":[{\"cells\":{\"fill\":{\"color\":\"#EBF0F8\"},\"line\":{\"color\":\"white\"}},\"header\":{\"fill\":{\"color\":\"#C8D4E3\"},\"line\":{\"color\":\"white\"}},\"type\":\"table\"}]},\"layout\":{\"annotationdefaults\":{\"arrowcolor\":\"#2a3f5f\",\"arrowhead\":0,\"arrowwidth\":1},\"autotypenumbers\":\"strict\",\"coloraxis\":{\"colorbar\":{\"outlinewidth\":0,\"ticks\":\"\"}},\"colorscale\":{\"diverging\":[[0,\"#8e0152\"],[0.1,\"#c51b7d\"],[0.2,\"#de77ae\"],[0.3,\"#f1b6da\"],[0.4,\"#fde0ef\"],[0.5,\"#f7f7f7\"],[0.6,\"#e6f5d0\"],[0.7,\"#b8e186\"],[0.8,\"#7fbc41\"],[0.9,\"#4d9221\"],[1,\"#276419\"]],\"sequential\":[[0.0,\"#0d0887\"],[0.1111111111111111,\"#46039f\"],[0.2222222222222222,\"#7201a8\"],[0.3333333333333333,\"#9c179e\"],[0.4444444444444444,\"#bd3786\"],[0.5555555555555556,\"#d8576b\"],[0.6666666666666666,\"#ed7953\"],[0.7777777777777778,\"#fb9f3a\"],[0.8888888888888888,\"#fdca26\"],[1.0,\"#f0f921\"]],\"sequentialminus\":[[0.0,\"#0d0887\"],[0.1111111111111111,\"#46039f\"],[0.2222222222222222,\"#7201a8\"],[0.3333333333333333,\"#9c179e\"],[0.4444444444444444,\"#bd3786\"],[0.5555555555555556,\"#d8576b\"],[0.6666666666666666,\"#ed7953\"],[0.7777777777777778,\"#fb9f3a\"],[0.8888888888888888,\"#fdca26\"],[1.0,\"#f0f921\"]]},\"colorway\":[\"#636efa\",\"#EF553B\",\"#00cc96\",\"#ab63fa\",\"#FFA15A\",\"#19d3f3\",\"#FF6692\",\"#B6E880\",\"#FF97FF\",\"#FECB52\"],\"font\":{\"color\":\"#2a3f5f\"},\"geo\":{\"bgcolor\":\"white\",\"lakecolor\":\"white\",\"landcolor\":\"#E5ECF6\",\"showlakes\":true,\"showland\":true,\"subunitcolor\":\"white\"},\"hoverlabel\":{\"align\":\"left\"},\"hovermode\":\"closest\",\"mapbox\":{\"style\":\"light\"},\"paper_bgcolor\":\"white\",\"plot_bgcolor\":\"#E5ECF6\",\"polar\":{\"angularaxis\":{\"gridcolor\":\"white\",\"linecolor\":\"white\",\"ticks\":\"\"},\"bgcolor\":\"#E5ECF6\",\"radialaxis\":{\"gridcolor\":\"white\",\"linecolor\":\"white\",\"ticks\":\"\"}},\"scene\":{\"xaxis\":{\"backgroundcolor\":\"#E5ECF6\",\"gridcolor\":\"white\",\"gridwidth\":2,\"linecolor\":\"white\",\"showbackground\":true,\"ticks\":\"\",\"zerolinecolor\":\"white\"},\"yaxis\":{\"backgroundcolor\":\"#E5ECF6\",\"gridcolor\":\"white\",\"gridwidth\":2,\"linecolor\":\"white\",\"showbackground\":true,\"ticks\":\"\",\"zerolinecolor\":\"white\"},\"zaxis\":{\"backgroundcolor\":\"#E5ECF6\",\"gridcolor\":\"white\",\"gridwidth\":2,\"linecolor\":\"white\",\"showbackground\":true,\"ticks\":\"\",\"zerolinecolor\":\"white\"}},\"shapedefaults\":{\"line\":{\"color\":\"#2a3f5f\"}},\"ternary\":{\"aaxis\":{\"gridcolor\":\"white\",\"linecolor\":\"white\",\"ticks\":\"\"},\"baxis\":{\"gridcolor\":\"white\",\"linecolor\":\"white\",\"ticks\":\"\"},\"bgcolor\":\"#E5ECF6\",\"caxis\":{\"gridcolor\":\"white\",\"linecolor\":\"white\",\"ticks\":\"\"}},\"title\":{\"x\":0.05},\"xaxis\":{\"automargin\":true,\"gridcolor\":\"white\",\"linecolor\":\"white\",\"ticks\":\"\",\"title\":{\"standoff\":15},\"zerolinecolor\":\"white\",\"zerolinewidth\":2},\"yaxis\":{\"automargin\":true,\"gridcolor\":\"white\",\"linecolor\":\"white\",\"ticks\":\"\",\"title\":{\"standoff\":15},\"zerolinecolor\":\"white\",\"zerolinewidth\":2}}},\"xaxis\":{\"anchor\":\"y\",\"domain\":[0.0,1.0],\"title\":{\"text\":\"Heating_Load\"}},\"yaxis\":{\"anchor\":\"x\",\"domain\":[0.0,1.0],\"title\":{\"text\":\"index\"}},\"legend\":{\"tracegroupgap\":0},\"margin\":{\"t\":60}},                        {\"responsive\": true}                    ).then(function(){\n",
              "                            \n",
              "var gd = document.getElementById('6a4b6d09-c8fb-4f3d-b03e-57e7f0b86faf');\n",
              "var x = new MutationObserver(function (mutations, observer) {{\n",
              "        var display = window.getComputedStyle(gd).display;\n",
              "        if (!display || display === 'none') {{\n",
              "            console.log([gd, 'removed!']);\n",
              "            Plotly.purge(gd);\n",
              "            observer.disconnect();\n",
              "        }}\n",
              "}});\n",
              "\n",
              "// Listen for the removal of the full notebook cells\n",
              "var notebookContainer = gd.closest('#notebook-container');\n",
              "if (notebookContainer) {{\n",
              "    x.observe(notebookContainer, {childList: true});\n",
              "}}\n",
              "\n",
              "// Listen for the clearing of the current output cell\n",
              "var outputEl = gd.closest('.output');\n",
              "if (outputEl) {{\n",
              "    x.observe(outputEl, {childList: true});\n",
              "}}\n",
              "\n",
              "                        })                };                            </script>        </div>\n",
              "</body>\n",
              "</html>"
            ]
          },
          "metadata": {}
        }
      ]
    },
    {
      "cell_type": "code",
      "source": [
        "fx=px.scatter(df1,x='Cooling_Load')\n",
        "fx.show()"
      ],
      "metadata": {
        "colab": {
          "base_uri": "https://localhost:8080/",
          "height": 542
        },
        "id": "a4BmCwvgVwkd",
        "outputId": "1afc36da-67b8-4bca-926b-7085abb47356"
      },
      "execution_count": 24,
      "outputs": [
        {
          "output_type": "display_data",
          "data": {
            "text/html": [
              "<html>\n",
              "<head><meta charset=\"utf-8\" /></head>\n",
              "<body>\n",
              "    <div>            <script src=\"https://cdnjs.cloudflare.com/ajax/libs/mathjax/2.7.5/MathJax.js?config=TeX-AMS-MML_SVG\"></script><script type=\"text/javascript\">if (window.MathJax) {MathJax.Hub.Config({SVG: {font: \"STIX-Web\"}});}</script>                <script type=\"text/javascript\">window.PlotlyConfig = {MathJaxConfig: 'local'};</script>\n",
              "        <script src=\"https://cdn.plot.ly/plotly-2.8.3.min.js\"></script>                <div id=\"f112aea3-41b2-4020-8f48-9bee6ebd50a7\" class=\"plotly-graph-div\" style=\"height:525px; width:100%;\"></div>            <script type=\"text/javascript\">                                    window.PLOTLYENV=window.PLOTLYENV || {};                                    if (document.getElementById(\"f112aea3-41b2-4020-8f48-9bee6ebd50a7\")) {                    Plotly.newPlot(                        \"f112aea3-41b2-4020-8f48-9bee6ebd50a7\",                        [{\"hovertemplate\":\"Cooling_Load=%{x}<br>index=%{y}<extra></extra>\",\"legendgroup\":\"\",\"marker\":{\"color\":\"#636efa\",\"symbol\":\"circle\"},\"mode\":\"markers\",\"name\":\"\",\"orientation\":\"h\",\"showlegend\":false,\"x\":[21.33,21.33,21.33,21.33,28.28,25.38,25.16,29.6,27.3,21.97,23.49,27.87,23.77,21.46,21.16,24.93,37.73,31.27,30.93,39.44,29.79,29.68,29.79,29.4,10.9,11.19,10.94,11.17,11.27,11.72,11.29,11.67,11.74,12.05,11.73,11.93,12.4,12.23,12.4,12.14,16.78,16.8,16.75,16.67,12.07,12.22,12.08,12.04,26.47,26.37,26.44,26.29,32.92,29.87,29.58,34.33,30.89,25.6,27.03,31.73,27.31,24.91,24.61,28.51,41.68,35.28,34.43,43.33,33.87,34.07,34.14,33.67,13.43,13.71,13.48,13.7,13.8,14.28,13.87,14.27,14.28,14.61,14.3,14.45,13.9,13.72,13.88,13.65,19.37,19.43,19.34,19.32,14.34,14.5,14.33,14.27,25.95,25.63,26.13,25.89,32.54,29.44,29.36,34.2,30.91,25.63,27.36,31.9,27.38,25.02,24.8,28.79,41.07,34.62,33.87,42.86,33.91,34.07,34.17,33.78,13.39,13.72,13.57,13.79,13.67,14.11,13.8,14.21,13.2,13.54,13.32,13.51,14.86,14.75,15.0,14.74,19.23,19.34,19.32,19.3,14.37,14.57,14.27,14.24,25.68,26.02,25.84,26.14,34.14,32.85,30.08,29.67,31.73,31.01,25.9,27.4,28.68,27.54,25.35,24.93,43.12,41.22,35.1,34.29,33.85,34.11,34.48,34.5,13.6,13.36,13.65,13.49,14.14,13.77,14.3,13.87,14.44,14.27,14.67,14.4,13.46,13.7,13.59,13.83,19.14,19.18,19.37,19.29,14.09,14.23,14.14,13.89,25.91,25.72,26.18,25.87,29.34,33.91,32.83,29.92,27.17,31.76,31.06,25.81,24.61,28.61,27.57,25.16,34.25,43.3,41.86,35.29,34.11,33.62,33.89,34.05,13.2,13.36,13.21,13.53,13.67,14.12,13.79,14.2,14.29,14.49,14.42,14.73,14.86,14.67,15.0,14.83,19.24,19.25,19.42,19.48,14.37,14.34,14.28,14.47,25.64,25.98,25.88,26.18,29.82,29.52,34.45,33.01,25.82,27.33,32.04,31.28,25.11,24.77,28.88,27.69,34.99,34.18,43.14,41.26,34.25,34.35,33.64,33.88,13.65,13.44,13.72,13.5,14.18,13.75,14.26,13.89,14.55,14.28,14.46,14.39,14.54,14.81,14.65,14.87,19.24,19.18,19.26,19.29,14.24,13.97,13.99,14.15,29.79,29.79,29.28,29.49,36.12,33.17,32.71,37.58,33.98,28.61,30.12,34.73,30.17,27.84,27.25,31.39,43.8,37.81,36.85,45.52,36.85,37.58,37.45,36.62,15.19,15.5,15.28,15.5,15.42,15.85,15.44,15.81,15.21,15.63,15.48,15.78,16.39,16.27,16.39,16.19,21.13,21.19,21.09,21.08,15.77,15.95,15.77,15.76,29.62,29.69,30.18,30.02,35.56,32.64,32.77,37.72,33.37,27.89,29.9,34.52,28.27,26.96,26.72,29.88,43.86,37.41,36.77,45.97,36.87,37.35,37.28,36.81,14.73,15.1,15.18,15.44,14.91,15.4,14.94,15.32,15.52,15.85,15.66,15.99,15.89,15.85,16.22,15.87,20.47,20.56,20.48,20.43,15.32,15.64,15.14,15.3,29.43,29.78,30.1,30.19,36.35,35.1,32.83,32.46,33.52,32.93,28.38,29.82,28.77,27.76,26.95,26.41,45.13,43.66,37.76,36.87,36.07,36.44,37.28,37.29,14.49,13.79,14.72,14.76,14.92,14.74,15.57,14.94,14.92,14.38,15.44,15.17,15.53,15.8,16.14,16.26,19.87,20.03,20.46,20.28,14.89,14.96,14.89,14.35,29.61,29.59,30.19,30.12,32.12,37.12,36.16,33.16,29.45,34.19,33.93,28.31,26.3,29.43,28.76,27.34,36.26,45.48,44.16,37.26,37.2,36.76,37.05,37.51,14.92,15.24,15.03,15.35,14.67,15.09,15.2,15.64,15.37,15.73,15.83,16.13,15.95,15.59,16.17,16.14,19.65,19.76,20.37,19.9,15.41,15.56,15.07,15.38,29.53,29.77,30.0,30.2,32.25,32.0,37.19,35.62,28.02,29.43,34.15,33.47,26.53,26.08,29.31,28.14,37.54,36.66,45.28,43.73,36.93,37.01,35.73,36.15,14.48,14.58,14.81,14.03,15.27,14.71,15.23,14.97,15.14,14.97,15.22,14.6,15.83,16.03,15.8,16.06,20.13,20.01,20.19,20.29,15.19,14.61,14.61,14.75,33.37,33.34,32.83,33.04,39.28,36.38,35.92,40.99,35.99,30.66,31.7,36.73,31.71,29.13,28.99,33.54,45.29,39.07,38.35,46.94,39.55,40.85,40.63,39.48,16.94,17.25,17.03,17.25,17.1,17.51,17.12,17.47,16.5,17.0,16.87,17.2,18.14,18.03,18.14,17.95,22.72,22.73,22.72,22.53,17.2,17.21,17.15,17.2,32.96,33.13,33.94,33.78,38.35,35.39,34.94,40.66,35.48,30.53,32.28,36.86,30.34,27.93,28.95,32.92,45.59,39.41,38.84,48.03,39.48,40.4,40.47,39.7,16.43,16.93,16.99,17.03,16.77,17.37,17.27,17.51,16.44,17.01,17.23,17.22,17.85,17.89,18.36,18.15,21.72,22.07,22.09,21.93,17.36,17.38,16.86,16.99,32.78,33.24,33.86,34.0,37.26,35.04,33.82,33.31,35.22,34.7,30.11,31.6,32.43,30.65,29.77,29.64,46.44,44.18,38.81,38.23,38.17,38.48,39.66,40.1,16.08,15.39,16.57,16.6,16.11,15.47,16.7,16.1,16.35,15.84,16.99,17.02,17.04,17.63,18.1,18.22,20.78,20.72,21.54,21.53,16.9,17.14,16.56,16.0,32.95,33.06,33.95,33.88,33.98,39.92,39.22,36.1,31.53,36.2,36.21,31.0,28.2,32.35,31.14,28.43,38.33,47.59,46.23,39.56,40.36,39.67,39.85,40.77,16.61,16.74,16.9,17.32,16.85,17.2,17.23,17.74,16.81,16.88,16.9,17.39,17.86,17.82,18.36,18.24,21.68,21.54,22.25,22.49,17.1,16.79,16.58,16.79,32.88,33.23,33.76,34.01,33.94,33.14,38.79,37.27,29.69,31.2,36.26,35.71,29.93,29.56,33.84,32.54,38.56,37.7,47.01,44.87,39.37,39.8,37.79,38.18,16.69,16.62,16.94,16.7,15.59,14.58,15.33,15.31,16.63,15.87,16.54,16.74,17.64,17.79,17.55,18.06,20.82,20.21,20.71,21.4,16.88,17.11,16.61,16.03],\"xaxis\":\"x\",\"y\":[0,1,2,3,4,5,6,7,8,9,10,11,12,13,14,15,16,17,18,19,20,21,22,23,24,25,26,27,28,29,30,31,32,33,34,35,36,37,38,39,40,41,42,43,44,45,46,47,48,49,50,51,52,53,54,55,56,57,58,59,60,61,62,63,64,65,66,67,68,69,70,71,72,73,74,75,76,77,78,79,80,81,82,83,84,85,86,87,88,89,90,91,92,93,94,95,96,97,98,99,100,101,102,103,104,105,106,107,108,109,110,111,112,113,114,115,116,117,118,119,120,121,122,123,124,125,126,127,128,129,130,131,132,133,134,135,136,137,138,139,140,141,142,143,144,145,146,147,148,149,150,151,152,153,154,155,156,157,158,159,160,161,162,163,164,165,166,167,168,169,170,171,172,173,174,175,176,177,178,179,180,181,182,183,184,185,186,187,188,189,190,191,192,193,194,195,196,197,198,199,200,201,202,203,204,205,206,207,208,209,210,211,212,213,214,215,216,217,218,219,220,221,222,223,224,225,226,227,228,229,230,231,232,233,234,235,236,237,238,239,240,241,242,243,244,245,246,247,248,249,250,251,252,253,254,255,256,257,258,259,260,261,262,263,264,265,266,267,268,269,270,271,272,273,274,275,276,277,278,279,280,281,282,283,284,285,286,287,288,289,290,291,292,293,294,295,296,297,298,299,300,301,302,303,304,305,306,307,308,309,310,311,312,313,314,315,316,317,318,319,320,321,322,323,324,325,326,327,328,329,330,331,332,333,334,335,336,337,338,339,340,341,342,343,344,345,346,347,348,349,350,351,352,353,354,355,356,357,358,359,360,361,362,363,364,365,366,367,368,369,370,371,372,373,374,375,376,377,378,379,380,381,382,383,384,385,386,387,388,389,390,391,392,393,394,395,396,397,398,399,400,401,402,403,404,405,406,407,408,409,410,411,412,413,414,415,416,417,418,419,420,421,422,423,424,425,426,427,428,429,430,431,432,433,434,435,436,437,438,439,440,441,442,443,444,445,446,447,448,449,450,451,452,453,454,455,456,457,458,459,460,461,462,463,464,465,466,467,468,469,470,471,472,473,474,475,476,477,478,479,480,481,482,483,484,485,486,487,488,489,490,491,492,493,494,495,496,497,498,499,500,501,502,503,504,505,506,507,508,509,510,511,512,513,514,515,516,517,518,519,520,521,522,523,524,525,526,527,528,529,530,531,532,533,534,535,536,537,538,539,540,541,542,543,544,545,546,547,548,549,550,551,552,553,554,555,556,557,558,559,560,561,562,563,564,565,566,567,568,569,570,571,572,573,574,575,576,577,578,579,580,581,582,583,584,585,586,587,588,589,590,591,592,593,594,595,596,597,598,599,600,601,602,603,604,605,606,607,608,609,610,611,612,613,614,615,616,617,618,619,620,621,622,623,624,625,626,627,628,629,630,631,632,633,634,635,636,637,638,639,640,641,642,643,644,645,646,647,648,649,650,651,652,653,654,655,656,657,658,659,660,661,662,663,664,665,666,667,668,669,670,671,672,673,674,675,676,677,678,679,680,681,682,683,684,685,686,687,688,689,690,691,692,693,694,695,696,697,698,699,700,701,702,703,704,705,706,707,708,709,710,711,712,713,714,715,716,717,718,719,720,721,722,723,724,725,726,727,728,729,730,731,732,733,734,735,736,737,738,739,740,741,742,743,744,745,746,747,748,749,750,751,752,753,754,755,756,757,758,759,760,761,762,763,764,765,766,767],\"yaxis\":\"y\",\"type\":\"scatter\"}],                        {\"template\":{\"data\":{\"bar\":[{\"error_x\":{\"color\":\"#2a3f5f\"},\"error_y\":{\"color\":\"#2a3f5f\"},\"marker\":{\"line\":{\"color\":\"#E5ECF6\",\"width\":0.5},\"pattern\":{\"fillmode\":\"overlay\",\"size\":10,\"solidity\":0.2}},\"type\":\"bar\"}],\"barpolar\":[{\"marker\":{\"line\":{\"color\":\"#E5ECF6\",\"width\":0.5},\"pattern\":{\"fillmode\":\"overlay\",\"size\":10,\"solidity\":0.2}},\"type\":\"barpolar\"}],\"carpet\":[{\"aaxis\":{\"endlinecolor\":\"#2a3f5f\",\"gridcolor\":\"white\",\"linecolor\":\"white\",\"minorgridcolor\":\"white\",\"startlinecolor\":\"#2a3f5f\"},\"baxis\":{\"endlinecolor\":\"#2a3f5f\",\"gridcolor\":\"white\",\"linecolor\":\"white\",\"minorgridcolor\":\"white\",\"startlinecolor\":\"#2a3f5f\"},\"type\":\"carpet\"}],\"choropleth\":[{\"colorbar\":{\"outlinewidth\":0,\"ticks\":\"\"},\"type\":\"choropleth\"}],\"contour\":[{\"colorbar\":{\"outlinewidth\":0,\"ticks\":\"\"},\"colorscale\":[[0.0,\"#0d0887\"],[0.1111111111111111,\"#46039f\"],[0.2222222222222222,\"#7201a8\"],[0.3333333333333333,\"#9c179e\"],[0.4444444444444444,\"#bd3786\"],[0.5555555555555556,\"#d8576b\"],[0.6666666666666666,\"#ed7953\"],[0.7777777777777778,\"#fb9f3a\"],[0.8888888888888888,\"#fdca26\"],[1.0,\"#f0f921\"]],\"type\":\"contour\"}],\"contourcarpet\":[{\"colorbar\":{\"outlinewidth\":0,\"ticks\":\"\"},\"type\":\"contourcarpet\"}],\"heatmap\":[{\"colorbar\":{\"outlinewidth\":0,\"ticks\":\"\"},\"colorscale\":[[0.0,\"#0d0887\"],[0.1111111111111111,\"#46039f\"],[0.2222222222222222,\"#7201a8\"],[0.3333333333333333,\"#9c179e\"],[0.4444444444444444,\"#bd3786\"],[0.5555555555555556,\"#d8576b\"],[0.6666666666666666,\"#ed7953\"],[0.7777777777777778,\"#fb9f3a\"],[0.8888888888888888,\"#fdca26\"],[1.0,\"#f0f921\"]],\"type\":\"heatmap\"}],\"heatmapgl\":[{\"colorbar\":{\"outlinewidth\":0,\"ticks\":\"\"},\"colorscale\":[[0.0,\"#0d0887\"],[0.1111111111111111,\"#46039f\"],[0.2222222222222222,\"#7201a8\"],[0.3333333333333333,\"#9c179e\"],[0.4444444444444444,\"#bd3786\"],[0.5555555555555556,\"#d8576b\"],[0.6666666666666666,\"#ed7953\"],[0.7777777777777778,\"#fb9f3a\"],[0.8888888888888888,\"#fdca26\"],[1.0,\"#f0f921\"]],\"type\":\"heatmapgl\"}],\"histogram\":[{\"marker\":{\"pattern\":{\"fillmode\":\"overlay\",\"size\":10,\"solidity\":0.2}},\"type\":\"histogram\"}],\"histogram2d\":[{\"colorbar\":{\"outlinewidth\":0,\"ticks\":\"\"},\"colorscale\":[[0.0,\"#0d0887\"],[0.1111111111111111,\"#46039f\"],[0.2222222222222222,\"#7201a8\"],[0.3333333333333333,\"#9c179e\"],[0.4444444444444444,\"#bd3786\"],[0.5555555555555556,\"#d8576b\"],[0.6666666666666666,\"#ed7953\"],[0.7777777777777778,\"#fb9f3a\"],[0.8888888888888888,\"#fdca26\"],[1.0,\"#f0f921\"]],\"type\":\"histogram2d\"}],\"histogram2dcontour\":[{\"colorbar\":{\"outlinewidth\":0,\"ticks\":\"\"},\"colorscale\":[[0.0,\"#0d0887\"],[0.1111111111111111,\"#46039f\"],[0.2222222222222222,\"#7201a8\"],[0.3333333333333333,\"#9c179e\"],[0.4444444444444444,\"#bd3786\"],[0.5555555555555556,\"#d8576b\"],[0.6666666666666666,\"#ed7953\"],[0.7777777777777778,\"#fb9f3a\"],[0.8888888888888888,\"#fdca26\"],[1.0,\"#f0f921\"]],\"type\":\"histogram2dcontour\"}],\"mesh3d\":[{\"colorbar\":{\"outlinewidth\":0,\"ticks\":\"\"},\"type\":\"mesh3d\"}],\"parcoords\":[{\"line\":{\"colorbar\":{\"outlinewidth\":0,\"ticks\":\"\"}},\"type\":\"parcoords\"}],\"pie\":[{\"automargin\":true,\"type\":\"pie\"}],\"scatter\":[{\"marker\":{\"colorbar\":{\"outlinewidth\":0,\"ticks\":\"\"}},\"type\":\"scatter\"}],\"scatter3d\":[{\"line\":{\"colorbar\":{\"outlinewidth\":0,\"ticks\":\"\"}},\"marker\":{\"colorbar\":{\"outlinewidth\":0,\"ticks\":\"\"}},\"type\":\"scatter3d\"}],\"scattercarpet\":[{\"marker\":{\"colorbar\":{\"outlinewidth\":0,\"ticks\":\"\"}},\"type\":\"scattercarpet\"}],\"scattergeo\":[{\"marker\":{\"colorbar\":{\"outlinewidth\":0,\"ticks\":\"\"}},\"type\":\"scattergeo\"}],\"scattergl\":[{\"marker\":{\"colorbar\":{\"outlinewidth\":0,\"ticks\":\"\"}},\"type\":\"scattergl\"}],\"scattermapbox\":[{\"marker\":{\"colorbar\":{\"outlinewidth\":0,\"ticks\":\"\"}},\"type\":\"scattermapbox\"}],\"scatterpolar\":[{\"marker\":{\"colorbar\":{\"outlinewidth\":0,\"ticks\":\"\"}},\"type\":\"scatterpolar\"}],\"scatterpolargl\":[{\"marker\":{\"colorbar\":{\"outlinewidth\":0,\"ticks\":\"\"}},\"type\":\"scatterpolargl\"}],\"scatterternary\":[{\"marker\":{\"colorbar\":{\"outlinewidth\":0,\"ticks\":\"\"}},\"type\":\"scatterternary\"}],\"surface\":[{\"colorbar\":{\"outlinewidth\":0,\"ticks\":\"\"},\"colorscale\":[[0.0,\"#0d0887\"],[0.1111111111111111,\"#46039f\"],[0.2222222222222222,\"#7201a8\"],[0.3333333333333333,\"#9c179e\"],[0.4444444444444444,\"#bd3786\"],[0.5555555555555556,\"#d8576b\"],[0.6666666666666666,\"#ed7953\"],[0.7777777777777778,\"#fb9f3a\"],[0.8888888888888888,\"#fdca26\"],[1.0,\"#f0f921\"]],\"type\":\"surface\"}],\"table\":[{\"cells\":{\"fill\":{\"color\":\"#EBF0F8\"},\"line\":{\"color\":\"white\"}},\"header\":{\"fill\":{\"color\":\"#C8D4E3\"},\"line\":{\"color\":\"white\"}},\"type\":\"table\"}]},\"layout\":{\"annotationdefaults\":{\"arrowcolor\":\"#2a3f5f\",\"arrowhead\":0,\"arrowwidth\":1},\"autotypenumbers\":\"strict\",\"coloraxis\":{\"colorbar\":{\"outlinewidth\":0,\"ticks\":\"\"}},\"colorscale\":{\"diverging\":[[0,\"#8e0152\"],[0.1,\"#c51b7d\"],[0.2,\"#de77ae\"],[0.3,\"#f1b6da\"],[0.4,\"#fde0ef\"],[0.5,\"#f7f7f7\"],[0.6,\"#e6f5d0\"],[0.7,\"#b8e186\"],[0.8,\"#7fbc41\"],[0.9,\"#4d9221\"],[1,\"#276419\"]],\"sequential\":[[0.0,\"#0d0887\"],[0.1111111111111111,\"#46039f\"],[0.2222222222222222,\"#7201a8\"],[0.3333333333333333,\"#9c179e\"],[0.4444444444444444,\"#bd3786\"],[0.5555555555555556,\"#d8576b\"],[0.6666666666666666,\"#ed7953\"],[0.7777777777777778,\"#fb9f3a\"],[0.8888888888888888,\"#fdca26\"],[1.0,\"#f0f921\"]],\"sequentialminus\":[[0.0,\"#0d0887\"],[0.1111111111111111,\"#46039f\"],[0.2222222222222222,\"#7201a8\"],[0.3333333333333333,\"#9c179e\"],[0.4444444444444444,\"#bd3786\"],[0.5555555555555556,\"#d8576b\"],[0.6666666666666666,\"#ed7953\"],[0.7777777777777778,\"#fb9f3a\"],[0.8888888888888888,\"#fdca26\"],[1.0,\"#f0f921\"]]},\"colorway\":[\"#636efa\",\"#EF553B\",\"#00cc96\",\"#ab63fa\",\"#FFA15A\",\"#19d3f3\",\"#FF6692\",\"#B6E880\",\"#FF97FF\",\"#FECB52\"],\"font\":{\"color\":\"#2a3f5f\"},\"geo\":{\"bgcolor\":\"white\",\"lakecolor\":\"white\",\"landcolor\":\"#E5ECF6\",\"showlakes\":true,\"showland\":true,\"subunitcolor\":\"white\"},\"hoverlabel\":{\"align\":\"left\"},\"hovermode\":\"closest\",\"mapbox\":{\"style\":\"light\"},\"paper_bgcolor\":\"white\",\"plot_bgcolor\":\"#E5ECF6\",\"polar\":{\"angularaxis\":{\"gridcolor\":\"white\",\"linecolor\":\"white\",\"ticks\":\"\"},\"bgcolor\":\"#E5ECF6\",\"radialaxis\":{\"gridcolor\":\"white\",\"linecolor\":\"white\",\"ticks\":\"\"}},\"scene\":{\"xaxis\":{\"backgroundcolor\":\"#E5ECF6\",\"gridcolor\":\"white\",\"gridwidth\":2,\"linecolor\":\"white\",\"showbackground\":true,\"ticks\":\"\",\"zerolinecolor\":\"white\"},\"yaxis\":{\"backgroundcolor\":\"#E5ECF6\",\"gridcolor\":\"white\",\"gridwidth\":2,\"linecolor\":\"white\",\"showbackground\":true,\"ticks\":\"\",\"zerolinecolor\":\"white\"},\"zaxis\":{\"backgroundcolor\":\"#E5ECF6\",\"gridcolor\":\"white\",\"gridwidth\":2,\"linecolor\":\"white\",\"showbackground\":true,\"ticks\":\"\",\"zerolinecolor\":\"white\"}},\"shapedefaults\":{\"line\":{\"color\":\"#2a3f5f\"}},\"ternary\":{\"aaxis\":{\"gridcolor\":\"white\",\"linecolor\":\"white\",\"ticks\":\"\"},\"baxis\":{\"gridcolor\":\"white\",\"linecolor\":\"white\",\"ticks\":\"\"},\"bgcolor\":\"#E5ECF6\",\"caxis\":{\"gridcolor\":\"white\",\"linecolor\":\"white\",\"ticks\":\"\"}},\"title\":{\"x\":0.05},\"xaxis\":{\"automargin\":true,\"gridcolor\":\"white\",\"linecolor\":\"white\",\"ticks\":\"\",\"title\":{\"standoff\":15},\"zerolinecolor\":\"white\",\"zerolinewidth\":2},\"yaxis\":{\"automargin\":true,\"gridcolor\":\"white\",\"linecolor\":\"white\",\"ticks\":\"\",\"title\":{\"standoff\":15},\"zerolinecolor\":\"white\",\"zerolinewidth\":2}}},\"xaxis\":{\"anchor\":\"y\",\"domain\":[0.0,1.0],\"title\":{\"text\":\"Cooling_Load\"}},\"yaxis\":{\"anchor\":\"x\",\"domain\":[0.0,1.0],\"title\":{\"text\":\"index\"}},\"legend\":{\"tracegroupgap\":0},\"margin\":{\"t\":60}},                        {\"responsive\": true}                    ).then(function(){\n",
              "                            \n",
              "var gd = document.getElementById('f112aea3-41b2-4020-8f48-9bee6ebd50a7');\n",
              "var x = new MutationObserver(function (mutations, observer) {{\n",
              "        var display = window.getComputedStyle(gd).display;\n",
              "        if (!display || display === 'none') {{\n",
              "            console.log([gd, 'removed!']);\n",
              "            Plotly.purge(gd);\n",
              "            observer.disconnect();\n",
              "        }}\n",
              "}});\n",
              "\n",
              "// Listen for the removal of the full notebook cells\n",
              "var notebookContainer = gd.closest('#notebook-container');\n",
              "if (notebookContainer) {{\n",
              "    x.observe(notebookContainer, {childList: true});\n",
              "}}\n",
              "\n",
              "// Listen for the clearing of the current output cell\n",
              "var outputEl = gd.closest('.output');\n",
              "if (outputEl) {{\n",
              "    x.observe(outputEl, {childList: true});\n",
              "}}\n",
              "\n",
              "                        })                };                            </script>        </div>\n",
              "</body>\n",
              "</html>"
            ]
          },
          "metadata": {}
        }
      ]
    },
    {
      "cell_type": "markdown",
      "source": [
        "## EDA"
      ],
      "metadata": {
        "id": "1cd8QQAAV2Km"
      }
    },
    {
      "cell_type": "code",
      "source": [
        "sns.catplot(x=\"Relative_Compactness\", y=\"Heating_Load\",kind='box',data=df1)"
      ],
      "metadata": {
        "colab": {
          "base_uri": "https://localhost:8080/",
          "height": 386
        },
        "id": "ZU-po5fnXNuu",
        "outputId": "556194bb-36fe-4f02-868b-e8e6562bbad3"
      },
      "execution_count": 25,
      "outputs": [
        {
          "output_type": "execute_result",
          "data": {
            "text/plain": [
              "<seaborn.axisgrid.FacetGrid at 0x7f49c53f1090>"
            ]
          },
          "metadata": {},
          "execution_count": 25
        },
        {
          "output_type": "display_data",
          "data": {
            "text/plain": [
              "<Figure size 360x360 with 1 Axes>"
            ],
            "image/png": "[encoded data removed]"
          },
          "metadata": {
            "needs_background": "light"
          }
        }
      ]
    },
    {
      "cell_type": "code",
      "source": [
        "sns.catplot(x=\"Relative_Compactness\", y=\"Cooling_Load\", kind=\"box\", data=df1)"
      ],
      "metadata": {
        "colab": {
          "base_uri": "https://localhost:8080/",
          "height": 386
        },
        "id": "PF1XWJroXf5h",
        "outputId": "a48b75b7-0f41-4654-e408-44c48dd3a02e"
      },
      "execution_count": 26,
      "outputs": [
        {
          "output_type": "execute_result",
          "data": {
            "text/plain": [
              "<seaborn.axisgrid.FacetGrid at 0x7f49c29d8610>"
            ]
          },
          "metadata": {},
          "execution_count": 26
        },
        {
          "output_type": "display_data",
          "data": {
            "text/plain": [
              "<Figure size 360x360 with 1 Axes>"
            ],
            "image/png": "[encoded data removed]"
          },
          "metadata": {
            "needs_background": "light"
          }
        }
      ]
    },
    {
      "cell_type": "code",
      "source": [
        "df1.columns"
      ],
      "metadata": {
        "colab": {
          "base_uri": "https://localhost:8080/"
        },
        "id": "hYChw06LWdX0",
        "outputId": "50d43db0-ca1d-4103-9fcf-958a34ec9022"
      },
      "execution_count": 27,
      "outputs": [
        {
          "output_type": "execute_result",
          "data": {
            "text/plain": [
              "Index(['Relative_Compactness', 'Surface_Area', 'Wall_Area', 'Roof_Area',\n",
              "       'Overall_Height', 'Orientation', 'Glazing_Area',\n",
              "       'Glazing_Area_Distribution', 'Heating_Load', 'Cooling_Load'],\n",
              "      dtype='object')"
            ]
          },
          "metadata": {},
          "execution_count": 27
        }
      ]
    },
    {
      "cell_type": "code",
      "source": [
        "fx=px.scatter(df1,y='Heating_Load',x='Surface_Area',color='Heating_Load')\n",
        "fx.show()"
      ],
      "metadata": {
        "colab": {
          "base_uri": "https://localhost:8080/",
          "height": 542
        },
        "id": "pcqHwHXEWS0E",
        "outputId": "090d3607-19a3-42ab-daf2-d258e118b8d6"
      },
      "execution_count": 28,
      "outputs": [
        {
          "output_type": "display_data",
          "data": {
            "text/html": [
              "<html>\n",
              "<head><meta charset=\"utf-8\" /></head>\n",
              "<body>\n",
              "    <div>            <script src=\"https://cdnjs.cloudflare.com/ajax/libs/mathjax/2.7.5/MathJax.js?config=TeX-AMS-MML_SVG\"></script><script type=\"text/javascript\">if (window.MathJax) {MathJax.Hub.Config({SVG: {font: \"STIX-Web\"}});}</script>                <script type=\"text/javascript\">window.PlotlyConfig = {MathJaxConfig: 'local'};</script>\n",
              "        <script src=\"https://cdn.plot.ly/plotly-2.8.3.min.js\"></script>                <div id=\"b6712b85-519a-45a8-ab92-dd23d048d12b\" class=\"plotly-graph-div\" style=\"height:525px; width:100%;\"></div>            <script type=\"text/javascript\">                                    window.PLOTLYENV=window.PLOTLYENV || {};                                    if (document.getElementById(\"b6712b85-519a-45a8-ab92-dd23d048d12b\")) {                    Plotly.newPlot(                        \"b6712b85-519a-45a8-ab92-dd23d048d12b\",                        [{\"hovertemplate\":\"Surface_Area=%{x}<br>Heating_Load=%{marker.color}<extra></extra>\",\"legendgroup\":\"\",\"marker\":{\"color\":[15.55,15.55,15.55,15.55,20.84,21.46,20.71,19.68,19.5,19.95,19.34,18.31,17.05,17.41,16.95,15.98,28.52,29.9,29.63,28.75,24.77,23.93,24.77,23.93,6.07,6.05,6.01,6.04,6.37,6.4,6.37,6.4,6.85,6.79,6.77,6.81,7.18,7.1,7.1,7.1,10.85,10.54,10.77,10.56,8.6,8.49,8.45,8.5,24.58,24.63,24.63,24.59,29.03,29.87,29.14,28.09,26.28,26.91,26.37,25.27,23.53,24.03,23.54,22.58,35.56,37.12,36.9,35.94,32.96,32.12,32.94,32.21,10.36,10.43,10.36,10.39,10.71,10.8,10.7,10.75,11.11,11.13,11.09,11.16,11.68,11.69,11.7,11.69,15.41,15.2,15.42,15.21,12.96,12.97,12.93,13.02,24.29,24.31,24.13,24.25,28.88,29.68,28.83,27.9,26.48,27.02,26.33,25.36,23.75,24.23,23.67,22.79,35.65,37.26,36.97,36.03,33.16,32.4,33.12,32.41,10.42,10.46,10.32,10.45,10.64,10.72,10.55,10.68,11.45,11.46,11.32,11.49,11.45,11.42,11.33,11.43,15.41,15.18,15.34,15.19,12.88,13.0,12.97,13.04,24.28,24.4,24.11,24.35,28.07,29.01,29.62,29.05,25.41,26.47,26.89,26.46,22.93,23.84,24.17,23.87,35.78,35.48,36.97,36.7,32.52,33.28,32.33,33.24,10.39,10.34,10.35,10.38,10.77,10.68,10.68,10.7,11.22,11.16,11.1,11.14,11.59,11.6,11.53,11.61,15.16,15.36,15.12,15.36,12.68,12.63,12.71,12.73,24.38,24.23,24.04,24.32,29.06,28.05,28.86,29.79,26.44,25.37,26.33,27.03,23.8,22.8,23.59,24.24,36.86,35.89,35.45,37.1,33.08,32.38,33.09,32.31,10.08,10.15,10.07,10.14,10.66,10.68,10.53,10.72,11.18,11.22,11.07,11.2,11.44,11.42,11.33,11.43,15.4,15.19,15.32,15.16,12.85,13.04,13.0,13.0,24.35,24.33,24.03,24.26,29.83,29.08,28.03,29.02,27.03,26.45,25.36,26.45,24.37,23.89,22.89,23.86,37.03,36.71,36.77,35.48,32.31,33.21,32.46,33.27,10.47,10.37,10.34,10.39,10.78,10.7,10.67,13.69,11.21,11.14,11.11,11.16,11.38,11.34,11.22,11.34,15.16,15.37,15.12,15.36,12.59,12.74,12.8,12.62,28.15,28.15,28.37,28.41,32.68,33.48,32.84,32.0,29.54,30.05,29.6,28.66,26.84,27.27,26.97,26.19,38.67,40.03,39.86,39.04,36.96,36.13,36.91,36.43,12.43,12.5,12.41,12.45,12.57,12.65,12.57,12.63,12.78,12.93,12.73,12.72,13.17,13.18,13.17,13.18,17.5,17.35,17.52,17.37,15.09,15.12,15.08,15.16,28.67,28.57,28.18,28.6,32.46,33.27,32.33,31.66,29.34,29.87,29.27,28.4,25.74,25.98,25.38,24.94,38.57,40.19,39.97,38.98,36.95,36.28,36.86,36.45,12.35,12.45,12.16,12.3,12.33,12.29,12.2,12.49,12.85,12.87,12.73,12.95,13.05,12.93,12.77,13.0,17.14,16.84,17.02,17.11,14.34,14.66,14.6,14.6,28.67,28.56,28.17,28.63,31.63,32.4,32.68,32.29,28.4,29.4,29.43,29.07,24.7,25.48,25.37,25.17,39.04,38.35,39.81,39.83,35.99,36.59,35.64,36.52,11.8,12.03,11.98,11.69,12.41,12.28,12.1,12.19,12.34,12.46,12.31,12.12,12.97,13.01,12.74,12.84,16.83,16.93,16.66,16.86,13.91,14.34,13.95,13.99,28.7,28.55,28.15,28.62,32.67,31.69,32.07,33.28,29.47,28.42,29.08,29.88,25.66,24.96,25.43,26.0,40.0,38.84,38.33,40.12,36.95,36.45,36.81,36.26,12.32,12.3,12.18,12.43,12.36,12.49,12.17,12.28,12.91,12.95,12.67,12.86,12.95,13.0,12.86,12.92,16.99,16.69,16.56,16.62,14.33,14.61,14.61,14.65,28.69,28.58,28.15,28.61,33.13,32.31,31.53,32.46,29.71,29.09,28.31,29.39,25.7,25.17,24.6,25.49,39.89,39.83,39.01,38.65,35.69,36.64,36.06,36.7,12.12,11.67,11.64,12.02,12.27,12.19,12.25,12.27,12.47,12.12,12.18,12.47,12.93,12.82,12.78,13.02,16.73,16.86,16.76,16.92,13.68,13.99,14.16,13.86,32.26,32.26,32.49,32.53,36.47,37.24,36.66,35.96,31.89,32.39,32.09,31.29,29.22,29.91,29.53,28.65,41.4,42.62,42.5,41.67,40.78,39.97,40.71,40.43,14.52,14.61,14.5,14.55,14.51,14.6,14.5,14.58,14.51,14.7,14.42,14.42,15.23,15.23,15.23,15.23,19.52,19.36,19.48,19.42,15.09,17.17,17.14,17.14,32.82,32.71,32.24,32.72,35.84,36.57,36.06,35.69,32.48,32.74,32.13,31.64,28.95,29.49,28.64,28.01,41.64,43.1,42.74,41.92,40.78,40.15,40.57,40.42,14.54,14.45,14.18,14.5,14.7,14.66,14.4,14.71,14.75,14.71,14.33,14.62,15.34,15.29,15.09,15.3,19.2,18.88,18.9,19.12,16.76,17.23,17.26,17.15,32.82,32.69,32.23,32.75,34.24,34.95,35.05,34.29,31.28,32.12,32.05,31.84,28.67,29.67,29.47,28.91,41.26,41.3,42.49,42.08,39.32,39.84,38.89,39.68,13.97,14.22,14.1,13.78,14.07,14.03,13.94,13.86,14.32,14.56,14.33,14.08,15.16,15.18,14.72,14.9,18.48,18.71,18.48,18.46,16.47,16.35,16.55,16.74,32.85,32.67,32.21,32.74,36.45,35.73,35.4,36.57,32.38,31.66,32.15,32.75,28.93,28.05,28.64,29.52,42.77,41.73,41.32,42.96,40.68,40.4,40.6,40.11,14.37,14.48,14.32,14.44,14.6,14.7,14.47,14.66,14.54,14.62,14.53,14.71,15.34,15.29,15.09,15.3,19.06,19.13,19.0,18.84,16.44,16.9,16.94,16.77,32.84,32.72,32.21,32.73,35.67,35.01,34.72,35.24,32.31,31.81,31.12,32.06,30.0,29.5,29.06,29.92,42.11,41.96,41.09,40.79,38.82,39.72,39.31,39.86,14.41,14.19,14.17,14.39,12.43,12.63,12.76,12.42,14.12,14.28,14.37,14.21,14.96,14.92,14.92,15.16,17.69,18.19,18.16,17.88,16.54,16.44,16.48,16.64],\"coloraxis\":\"coloraxis\",\"symbol\":\"circle\"},\"mode\":\"markers\",\"name\":\"\",\"orientation\":\"v\",\"showlegend\":false,\"x\":[514.5,514.5,514.5,514.5,563.5,563.5,563.5,563.5,588.0,588.0,588.0,588.0,612.5,612.5,612.5,612.5,637.0,637.0,637.0,637.0,661.5,661.5,661.5,661.5,686.0,686.0,686.0,686.0,710.5,710.5,710.5,710.5,735.0,735.0,735.0,735.0,759.5,759.5,759.5,759.5,784.0,784.0,784.0,784.0,808.5,808.5,808.5,808.5,514.5,514.5,514.5,514.5,563.5,563.5,563.5,563.5,588.0,588.0,588.0,588.0,612.5,612.5,612.5,612.5,637.0,637.0,637.0,637.0,661.5,661.5,661.5,661.5,686.0,686.0,686.0,686.0,710.5,710.5,710.5,710.5,735.0,735.0,735.0,735.0,759.5,759.5,759.5,759.5,784.0,784.0,784.0,784.0,808.5,808.5,808.5,808.5,514.5,514.5,514.5,514.5,563.5,563.5,563.5,563.5,588.0,588.0,588.0,588.0,612.5,612.5,612.5,612.5,637.0,637.0,637.0,637.0,661.5,661.5,661.5,661.5,686.0,686.0,686.0,686.0,710.5,710.5,710.5,710.5,735.0,735.0,735.0,735.0,759.5,759.5,759.5,759.5,784.0,784.0,784.0,784.0,808.5,808.5,808.5,808.5,514.5,514.5,514.5,514.5,563.5,563.5,563.5,563.5,588.0,588.0,588.0,588.0,612.5,612.5,612.5,612.5,637.0,637.0,637.0,637.0,661.5,661.5,661.5,661.5,686.0,686.0,686.0,686.0,710.5,710.5,710.5,710.5,735.0,735.0,735.0,735.0,759.5,759.5,759.5,759.5,784.0,784.0,784.0,784.0,808.5,808.5,808.5,808.5,514.5,514.5,514.5,514.5,563.5,563.5,563.5,563.5,588.0,588.0,588.0,588.0,612.5,612.5,612.5,612.5,637.0,637.0,637.0,637.0,661.5,661.5,661.5,661.5,686.0,686.0,686.0,686.0,710.5,710.5,710.5,710.5,735.0,735.0,735.0,735.0,759.5,759.5,759.5,759.5,784.0,784.0,784.0,784.0,808.5,808.5,808.5,808.5,514.5,514.5,514.5,514.5,563.5,563.5,563.5,563.5,588.0,588.0,588.0,588.0,612.5,612.5,612.5,612.5,637.0,637.0,637.0,637.0,661.5,661.5,661.5,661.5,686.0,686.0,686.0,686.0,710.5,710.5,710.5,710.5,735.0,735.0,735.0,735.0,759.5,759.5,759.5,759.5,784.0,784.0,784.0,784.0,808.5,808.5,808.5,808.5,514.5,514.5,514.5,514.5,563.5,563.5,563.5,563.5,588.0,588.0,588.0,588.0,612.5,612.5,612.5,612.5,637.0,637.0,637.0,637.0,661.5,661.5,661.5,661.5,686.0,686.0,686.0,686.0,710.5,710.5,710.5,710.5,735.0,735.0,735.0,735.0,759.5,759.5,759.5,759.5,784.0,784.0,784.0,784.0,808.5,808.5,808.5,808.5,514.5,514.5,514.5,514.5,563.5,563.5,563.5,563.5,588.0,588.0,588.0,588.0,612.5,612.5,612.5,612.5,637.0,637.0,637.0,637.0,661.5,661.5,661.5,661.5,686.0,686.0,686.0,686.0,710.5,710.5,710.5,710.5,735.0,735.0,735.0,735.0,759.5,759.5,759.5,759.5,784.0,784.0,784.0,784.0,808.5,808.5,808.5,808.5,514.5,514.5,514.5,514.5,563.5,563.5,563.5,563.5,588.0,588.0,588.0,588.0,612.5,612.5,612.5,612.5,637.0,637.0,637.0,637.0,661.5,661.5,661.5,661.5,686.0,686.0,686.0,686.0,710.5,710.5,710.5,710.5,735.0,735.0,735.0,735.0,759.5,759.5,759.5,759.5,784.0,784.0,784.0,784.0,808.5,808.5,808.5,808.5,514.5,514.5,514.5,514.5,563.5,563.5,563.5,563.5,588.0,588.0,588.0,588.0,612.5,612.5,612.5,612.5,637.0,637.0,637.0,637.0,661.5,661.5,661.5,661.5,686.0,686.0,686.0,686.0,710.5,710.5,710.5,710.5,735.0,735.0,735.0,735.0,759.5,759.5,759.5,759.5,784.0,784.0,784.0,784.0,808.5,808.5,808.5,808.5,514.5,514.5,514.5,514.5,563.5,563.5,563.5,563.5,588.0,588.0,588.0,588.0,612.5,612.5,612.5,612.5,637.0,637.0,637.0,637.0,661.5,661.5,661.5,661.5,686.0,686.0,686.0,686.0,710.5,710.5,710.5,710.5,735.0,735.0,735.0,735.0,759.5,759.5,759.5,759.5,784.0,784.0,784.0,784.0,808.5,808.5,808.5,808.5,514.5,514.5,514.5,514.5,563.5,563.5,563.5,563.5,588.0,588.0,588.0,588.0,612.5,612.5,612.5,612.5,637.0,637.0,637.0,637.0,661.5,661.5,661.5,661.5,686.0,686.0,686.0,686.0,710.5,710.5,710.5,710.5,735.0,735.0,735.0,735.0,759.5,759.5,759.5,759.5,784.0,784.0,784.0,784.0,808.5,808.5,808.5,808.5,514.5,514.5,514.5,514.5,563.5,563.5,563.5,563.5,588.0,588.0,588.0,588.0,612.5,612.5,612.5,612.5,637.0,637.0,637.0,637.0,661.5,661.5,661.5,661.5,686.0,686.0,686.0,686.0,710.5,710.5,710.5,710.5,735.0,735.0,735.0,735.0,759.5,759.5,759.5,759.5,784.0,784.0,784.0,784.0,808.5,808.5,808.5,808.5,514.5,514.5,514.5,514.5,563.5,563.5,563.5,563.5,588.0,588.0,588.0,588.0,612.5,612.5,612.5,612.5,637.0,637.0,637.0,637.0,661.5,661.5,661.5,661.5,686.0,686.0,686.0,686.0,710.5,710.5,710.5,710.5,735.0,735.0,735.0,735.0,759.5,759.5,759.5,759.5,784.0,784.0,784.0,784.0,808.5,808.5,808.5,808.5,514.5,514.5,514.5,514.5,563.5,563.5,563.5,563.5,588.0,588.0,588.0,588.0,612.5,612.5,612.5,612.5,637.0,637.0,637.0,637.0,661.5,661.5,661.5,661.5,686.0,686.0,686.0,686.0,710.5,710.5,710.5,710.5,735.0,735.0,735.0,735.0,759.5,759.5,759.5,759.5,784.0,784.0,784.0,784.0,808.5,808.5,808.5,808.5,514.5,514.5,514.5,514.5,563.5,563.5,563.5,563.5,588.0,588.0,588.0,588.0,612.5,612.5,612.5,612.5,637.0,637.0,637.0,637.0,661.5,661.5,661.5,661.5,686.0,686.0,686.0,686.0,710.5,710.5,710.5,710.5,735.0,735.0,735.0,735.0,759.5,759.5,759.5,759.5,784.0,784.0,784.0,784.0,808.5,808.5,808.5,808.5],\"xaxis\":\"x\",\"y\":[15.55,15.55,15.55,15.55,20.84,21.46,20.71,19.68,19.5,19.95,19.34,18.31,17.05,17.41,16.95,15.98,28.52,29.9,29.63,28.75,24.77,23.93,24.77,23.93,6.07,6.05,6.01,6.04,6.37,6.4,6.37,6.4,6.85,6.79,6.77,6.81,7.18,7.1,7.1,7.1,10.85,10.54,10.77,10.56,8.6,8.49,8.45,8.5,24.58,24.63,24.63,24.59,29.03,29.87,29.14,28.09,26.28,26.91,26.37,25.27,23.53,24.03,23.54,22.58,35.56,37.12,36.9,35.94,32.96,32.12,32.94,32.21,10.36,10.43,10.36,10.39,10.71,10.8,10.7,10.75,11.11,11.13,11.09,11.16,11.68,11.69,11.7,11.69,15.41,15.2,15.42,15.21,12.96,12.97,12.93,13.02,24.29,24.31,24.13,24.25,28.88,29.68,28.83,27.9,26.48,27.02,26.33,25.36,23.75,24.23,23.67,22.79,35.65,37.26,36.97,36.03,33.16,32.4,33.12,32.41,10.42,10.46,10.32,10.45,10.64,10.72,10.55,10.68,11.45,11.46,11.32,11.49,11.45,11.42,11.33,11.43,15.41,15.18,15.34,15.19,12.88,13.0,12.97,13.04,24.28,24.4,24.11,24.35,28.07,29.01,29.62,29.05,25.41,26.47,26.89,26.46,22.93,23.84,24.17,23.87,35.78,35.48,36.97,36.7,32.52,33.28,32.33,33.24,10.39,10.34,10.35,10.38,10.77,10.68,10.68,10.7,11.22,11.16,11.1,11.14,11.59,11.6,11.53,11.61,15.16,15.36,15.12,15.36,12.68,12.63,12.71,12.73,24.38,24.23,24.04,24.32,29.06,28.05,28.86,29.79,26.44,25.37,26.33,27.03,23.8,22.8,23.59,24.24,36.86,35.89,35.45,37.1,33.08,32.38,33.09,32.31,10.08,10.15,10.07,10.14,10.66,10.68,10.53,10.72,11.18,11.22,11.07,11.2,11.44,11.42,11.33,11.43,15.4,15.19,15.32,15.16,12.85,13.04,13.0,13.0,24.35,24.33,24.03,24.26,29.83,29.08,28.03,29.02,27.03,26.45,25.36,26.45,24.37,23.89,22.89,23.86,37.03,36.71,36.77,35.48,32.31,33.21,32.46,33.27,10.47,10.37,10.34,10.39,10.78,10.7,10.67,13.69,11.21,11.14,11.11,11.16,11.38,11.34,11.22,11.34,15.16,15.37,15.12,15.36,12.59,12.74,12.8,12.62,28.15,28.15,28.37,28.41,32.68,33.48,32.84,32.0,29.54,30.05,29.6,28.66,26.84,27.27,26.97,26.19,38.67,40.03,39.86,39.04,36.96,36.13,36.91,36.43,12.43,12.5,12.41,12.45,12.57,12.65,12.57,12.63,12.78,12.93,12.73,12.72,13.17,13.18,13.17,13.18,17.5,17.35,17.52,17.37,15.09,15.12,15.08,15.16,28.67,28.57,28.18,28.6,32.46,33.27,32.33,31.66,29.34,29.87,29.27,28.4,25.74,25.98,25.38,24.94,38.57,40.19,39.97,38.98,36.95,36.28,36.86,36.45,12.35,12.45,12.16,12.3,12.33,12.29,12.2,12.49,12.85,12.87,12.73,12.95,13.05,12.93,12.77,13.0,17.14,16.84,17.02,17.11,14.34,14.66,14.6,14.6,28.67,28.56,28.17,28.63,31.63,32.4,32.68,32.29,28.4,29.4,29.43,29.07,24.7,25.48,25.37,25.17,39.04,38.35,39.81,39.83,35.99,36.59,35.64,36.52,11.8,12.03,11.98,11.69,12.41,12.28,12.1,12.19,12.34,12.46,12.31,12.12,12.97,13.01,12.74,12.84,16.83,16.93,16.66,16.86,13.91,14.34,13.95,13.99,28.7,28.55,28.15,28.62,32.67,31.69,32.07,33.28,29.47,28.42,29.08,29.88,25.66,24.96,25.43,26.0,40.0,38.84,38.33,40.12,36.95,36.45,36.81,36.26,12.32,12.3,12.18,12.43,12.36,12.49,12.17,12.28,12.91,12.95,12.67,12.86,12.95,13.0,12.86,12.92,16.99,16.69,16.56,16.62,14.33,14.61,14.61,14.65,28.69,28.58,28.15,28.61,33.13,32.31,31.53,32.46,29.71,29.09,28.31,29.39,25.7,25.17,24.6,25.49,39.89,39.83,39.01,38.65,35.69,36.64,36.06,36.7,12.12,11.67,11.64,12.02,12.27,12.19,12.25,12.27,12.47,12.12,12.18,12.47,12.93,12.82,12.78,13.02,16.73,16.86,16.76,16.92,13.68,13.99,14.16,13.86,32.26,32.26,32.49,32.53,36.47,37.24,36.66,35.96,31.89,32.39,32.09,31.29,29.22,29.91,29.53,28.65,41.4,42.62,42.5,41.67,40.78,39.97,40.71,40.43,14.52,14.61,14.5,14.55,14.51,14.6,14.5,14.58,14.51,14.7,14.42,14.42,15.23,15.23,15.23,15.23,19.52,19.36,19.48,19.42,15.09,17.17,17.14,17.14,32.82,32.71,32.24,32.72,35.84,36.57,36.06,35.69,32.48,32.74,32.13,31.64,28.95,29.49,28.64,28.01,41.64,43.1,42.74,41.92,40.78,40.15,40.57,40.42,14.54,14.45,14.18,14.5,14.7,14.66,14.4,14.71,14.75,14.71,14.33,14.62,15.34,15.29,15.09,15.3,19.2,18.88,18.9,19.12,16.76,17.23,17.26,17.15,32.82,32.69,32.23,32.75,34.24,34.95,35.05,34.29,31.28,32.12,32.05,31.84,28.67,29.67,29.47,28.91,41.26,41.3,42.49,42.08,39.32,39.84,38.89,39.68,13.97,14.22,14.1,13.78,14.07,14.03,13.94,13.86,14.32,14.56,14.33,14.08,15.16,15.18,14.72,14.9,18.48,18.71,18.48,18.46,16.47,16.35,16.55,16.74,32.85,32.67,32.21,32.74,36.45,35.73,35.4,36.57,32.38,31.66,32.15,32.75,28.93,28.05,28.64,29.52,42.77,41.73,41.32,42.96,40.68,40.4,40.6,40.11,14.37,14.48,14.32,14.44,14.6,14.7,14.47,14.66,14.54,14.62,14.53,14.71,15.34,15.29,15.09,15.3,19.06,19.13,19.0,18.84,16.44,16.9,16.94,16.77,32.84,32.72,32.21,32.73,35.67,35.01,34.72,35.24,32.31,31.81,31.12,32.06,30.0,29.5,29.06,29.92,42.11,41.96,41.09,40.79,38.82,39.72,39.31,39.86,14.41,14.19,14.17,14.39,12.43,12.63,12.76,12.42,14.12,14.28,14.37,14.21,14.96,14.92,14.92,15.16,17.69,18.19,18.16,17.88,16.54,16.44,16.48,16.64],\"yaxis\":\"y\",\"type\":\"scatter\"}],                        {\"template\":{\"data\":{\"bar\":[{\"error_x\":{\"color\":\"#2a3f5f\"},\"error_y\":{\"color\":\"#2a3f5f\"},\"marker\":{\"line\":{\"color\":\"#E5ECF6\",\"width\":0.5},\"pattern\":{\"fillmode\":\"overlay\",\"size\":10,\"solidity\":0.2}},\"type\":\"bar\"}],\"barpolar\":[{\"marker\":{\"line\":{\"color\":\"#E5ECF6\",\"width\":0.5},\"pattern\":{\"fillmode\":\"overlay\",\"size\":10,\"solidity\":0.2}},\"type\":\"barpolar\"}],\"carpet\":[{\"aaxis\":{\"endlinecolor\":\"#2a3f5f\",\"gridcolor\":\"white\",\"linecolor\":\"white\",\"minorgridcolor\":\"white\",\"startlinecolor\":\"#2a3f5f\"},\"baxis\":{\"endlinecolor\":\"#2a3f5f\",\"gridcolor\":\"white\",\"linecolor\":\"white\",\"minorgridcolor\":\"white\",\"startlinecolor\":\"#2a3f5f\"},\"type\":\"carpet\"}],\"choropleth\":[{\"colorbar\":{\"outlinewidth\":0,\"ticks\":\"\"},\"type\":\"choropleth\"}],\"contour\":[{\"colorbar\":{\"outlinewidth\":0,\"ticks\":\"\"},\"colorscale\":[[0.0,\"#0d0887\"],[0.1111111111111111,\"#46039f\"],[0.2222222222222222,\"#7201a8\"],[0.3333333333333333,\"#9c179e\"],[0.4444444444444444,\"#bd3786\"],[0.5555555555555556,\"#d8576b\"],[0.6666666666666666,\"#ed7953\"],[0.7777777777777778,\"#fb9f3a\"],[0.8888888888888888,\"#fdca26\"],[1.0,\"#f0f921\"]],\"type\":\"contour\"}],\"contourcarpet\":[{\"colorbar\":{\"outlinewidth\":0,\"ticks\":\"\"},\"type\":\"contourcarpet\"}],\"heatmap\":[{\"colorbar\":{\"outlinewidth\":0,\"ticks\":\"\"},\"colorscale\":[[0.0,\"#0d0887\"],[0.1111111111111111,\"#46039f\"],[0.2222222222222222,\"#7201a8\"],[0.3333333333333333,\"#9c179e\"],[0.4444444444444444,\"#bd3786\"],[0.5555555555555556,\"#d8576b\"],[0.6666666666666666,\"#ed7953\"],[0.7777777777777778,\"#fb9f3a\"],[0.8888888888888888,\"#fdca26\"],[1.0,\"#f0f921\"]],\"type\":\"heatmap\"}],\"heatmapgl\":[{\"colorbar\":{\"outlinewidth\":0,\"ticks\":\"\"},\"colorscale\":[[0.0,\"#0d0887\"],[0.1111111111111111,\"#46039f\"],[0.2222222222222222,\"#7201a8\"],[0.3333333333333333,\"#9c179e\"],[0.4444444444444444,\"#bd3786\"],[0.5555555555555556,\"#d8576b\"],[0.6666666666666666,\"#ed7953\"],[0.7777777777777778,\"#fb9f3a\"],[0.8888888888888888,\"#fdca26\"],[1.0,\"#f0f921\"]],\"type\":\"heatmapgl\"}],\"histogram\":[{\"marker\":{\"pattern\":{\"fillmode\":\"overlay\",\"size\":10,\"solidity\":0.2}},\"type\":\"histogram\"}],\"histogram2d\":[{\"colorbar\":{\"outlinewidth\":0,\"ticks\":\"\"},\"colorscale\":[[0.0,\"#0d0887\"],[0.1111111111111111,\"#46039f\"],[0.2222222222222222,\"#7201a8\"],[0.3333333333333333,\"#9c179e\"],[0.4444444444444444,\"#bd3786\"],[0.5555555555555556,\"#d8576b\"],[0.6666666666666666,\"#ed7953\"],[0.7777777777777778,\"#fb9f3a\"],[0.8888888888888888,\"#fdca26\"],[1.0,\"#f0f921\"]],\"type\":\"histogram2d\"}],\"histogram2dcontour\":[{\"colorbar\":{\"outlinewidth\":0,\"ticks\":\"\"},\"colorscale\":[[0.0,\"#0d0887\"],[0.1111111111111111,\"#46039f\"],[0.2222222222222222,\"#7201a8\"],[0.3333333333333333,\"#9c179e\"],[0.4444444444444444,\"#bd3786\"],[0.5555555555555556,\"#d8576b\"],[0.6666666666666666,\"#ed7953\"],[0.7777777777777778,\"#fb9f3a\"],[0.8888888888888888,\"#fdca26\"],[1.0,\"#f0f921\"]],\"type\":\"histogram2dcontour\"}],\"mesh3d\":[{\"colorbar\":{\"outlinewidth\":0,\"ticks\":\"\"},\"type\":\"mesh3d\"}],\"parcoords\":[{\"line\":{\"colorbar\":{\"outlinewidth\":0,\"ticks\":\"\"}},\"type\":\"parcoords\"}],\"pie\":[{\"automargin\":true,\"type\":\"pie\"}],\"scatter\":[{\"marker\":{\"colorbar\":{\"outlinewidth\":0,\"ticks\":\"\"}},\"type\":\"scatter\"}],\"scatter3d\":[{\"line\":{\"colorbar\":{\"outlinewidth\":0,\"ticks\":\"\"}},\"marker\":{\"colorbar\":{\"outlinewidth\":0,\"ticks\":\"\"}},\"type\":\"scatter3d\"}],\"scattercarpet\":[{\"marker\":{\"colorbar\":{\"outlinewidth\":0,\"ticks\":\"\"}},\"type\":\"scattercarpet\"}],\"scattergeo\":[{\"marker\":{\"colorbar\":{\"outlinewidth\":0,\"ticks\":\"\"}},\"type\":\"scattergeo\"}],\"scattergl\":[{\"marker\":{\"colorbar\":{\"outlinewidth\":0,\"ticks\":\"\"}},\"type\":\"scattergl\"}],\"scattermapbox\":[{\"marker\":{\"colorbar\":{\"outlinewidth\":0,\"ticks\":\"\"}},\"type\":\"scattermapbox\"}],\"scatterpolar\":[{\"marker\":{\"colorbar\":{\"outlinewidth\":0,\"ticks\":\"\"}},\"type\":\"scatterpolar\"}],\"scatterpolargl\":[{\"marker\":{\"colorbar\":{\"outlinewidth\":0,\"ticks\":\"\"}},\"type\":\"scatterpolargl\"}],\"scatterternary\":[{\"marker\":{\"colorbar\":{\"outlinewidth\":0,\"ticks\":\"\"}},\"type\":\"scatterternary\"}],\"surface\":[{\"colorbar\":{\"outlinewidth\":0,\"ticks\":\"\"},\"colorscale\":[[0.0,\"#0d0887\"],[0.1111111111111111,\"#46039f\"],[0.2222222222222222,\"#7201a8\"],[0.3333333333333333,\"#9c179e\"],[0.4444444444444444,\"#bd3786\"],[0.5555555555555556,\"#d8576b\"],[0.6666666666666666,\"#ed7953\"],[0.7777777777777778,\"#fb9f3a\"],[0.8888888888888888,\"#fdca26\"],[1.0,\"#f0f921\"]],\"type\":\"surface\"}],\"table\":[{\"cells\":{\"fill\":{\"color\":\"#EBF0F8\"},\"line\":{\"color\":\"white\"}},\"header\":{\"fill\":{\"color\":\"#C8D4E3\"},\"line\":{\"color\":\"white\"}},\"type\":\"table\"}]},\"layout\":{\"annotationdefaults\":{\"arrowcolor\":\"#2a3f5f\",\"arrowhead\":0,\"arrowwidth\":1},\"autotypenumbers\":\"strict\",\"coloraxis\":{\"colorbar\":{\"outlinewidth\":0,\"ticks\":\"\"}},\"colorscale\":{\"diverging\":[[0,\"#8e0152\"],[0.1,\"#c51b7d\"],[0.2,\"#de77ae\"],[0.3,\"#f1b6da\"],[0.4,\"#fde0ef\"],[0.5,\"#f7f7f7\"],[0.6,\"#e6f5d0\"],[0.7,\"#b8e186\"],[0.8,\"#7fbc41\"],[0.9,\"#4d9221\"],[1,\"#276419\"]],\"sequential\":[[0.0,\"#0d0887\"],[0.1111111111111111,\"#46039f\"],[0.2222222222222222,\"#7201a8\"],[0.3333333333333333,\"#9c179e\"],[0.4444444444444444,\"#bd3786\"],[0.5555555555555556,\"#d8576b\"],[0.6666666666666666,\"#ed7953\"],[0.7777777777777778,\"#fb9f3a\"],[0.8888888888888888,\"#fdca26\"],[1.0,\"#f0f921\"]],\"sequentialminus\":[[0.0,\"#0d0887\"],[0.1111111111111111,\"#46039f\"],[0.2222222222222222,\"#7201a8\"],[0.3333333333333333,\"#9c179e\"],[0.4444444444444444,\"#bd3786\"],[0.5555555555555556,\"#d8576b\"],[0.6666666666666666,\"#ed7953\"],[0.7777777777777778,\"#fb9f3a\"],[0.8888888888888888,\"#fdca26\"],[1.0,\"#f0f921\"]]},\"colorway\":[\"#636efa\",\"#EF553B\",\"#00cc96\",\"#ab63fa\",\"#FFA15A\",\"#19d3f3\",\"#FF6692\",\"#B6E880\",\"#FF97FF\",\"#FECB52\"],\"font\":{\"color\":\"#2a3f5f\"},\"geo\":{\"bgcolor\":\"white\",\"lakecolor\":\"white\",\"landcolor\":\"#E5ECF6\",\"showlakes\":true,\"showland\":true,\"subunitcolor\":\"white\"},\"hoverlabel\":{\"align\":\"left\"},\"hovermode\":\"closest\",\"mapbox\":{\"style\":\"light\"},\"paper_bgcolor\":\"white\",\"plot_bgcolor\":\"#E5ECF6\",\"polar\":{\"angularaxis\":{\"gridcolor\":\"white\",\"linecolor\":\"white\",\"ticks\":\"\"},\"bgcolor\":\"#E5ECF6\",\"radialaxis\":{\"gridcolor\":\"white\",\"linecolor\":\"white\",\"ticks\":\"\"}},\"scene\":{\"xaxis\":{\"backgroundcolor\":\"#E5ECF6\",\"gridcolor\":\"white\",\"gridwidth\":2,\"linecolor\":\"white\",\"showbackground\":true,\"ticks\":\"\",\"zerolinecolor\":\"white\"},\"yaxis\":{\"backgroundcolor\":\"#E5ECF6\",\"gridcolor\":\"white\",\"gridwidth\":2,\"linecolor\":\"white\",\"showbackground\":true,\"ticks\":\"\",\"zerolinecolor\":\"white\"},\"zaxis\":{\"backgroundcolor\":\"#E5ECF6\",\"gridcolor\":\"white\",\"gridwidth\":2,\"linecolor\":\"white\",\"showbackground\":true,\"ticks\":\"\",\"zerolinecolor\":\"white\"}},\"shapedefaults\":{\"line\":{\"color\":\"#2a3f5f\"}},\"ternary\":{\"aaxis\":{\"gridcolor\":\"white\",\"linecolor\":\"white\",\"ticks\":\"\"},\"baxis\":{\"gridcolor\":\"white\",\"linecolor\":\"white\",\"ticks\":\"\"},\"bgcolor\":\"#E5ECF6\",\"caxis\":{\"gridcolor\":\"white\",\"linecolor\":\"white\",\"ticks\":\"\"}},\"title\":{\"x\":0.05},\"xaxis\":{\"automargin\":true,\"gridcolor\":\"white\",\"linecolor\":\"white\",\"ticks\":\"\",\"title\":{\"standoff\":15},\"zerolinecolor\":\"white\",\"zerolinewidth\":2},\"yaxis\":{\"automargin\":true,\"gridcolor\":\"white\",\"linecolor\":\"white\",\"ticks\":\"\",\"title\":{\"standoff\":15},\"zerolinecolor\":\"white\",\"zerolinewidth\":2}}},\"xaxis\":{\"anchor\":\"y\",\"domain\":[0.0,1.0],\"title\":{\"text\":\"Surface_Area\"}},\"yaxis\":{\"anchor\":\"x\",\"domain\":[0.0,1.0],\"title\":{\"text\":\"Heating_Load\"}},\"coloraxis\":{\"colorbar\":{\"title\":{\"text\":\"Heating_Load\"}},\"colorscale\":[[0.0,\"#0d0887\"],[0.1111111111111111,\"#46039f\"],[0.2222222222222222,\"#7201a8\"],[0.3333333333333333,\"#9c179e\"],[0.4444444444444444,\"#bd3786\"],[0.5555555555555556,\"#d8576b\"],[0.6666666666666666,\"#ed7953\"],[0.7777777777777778,\"#fb9f3a\"],[0.8888888888888888,\"#fdca26\"],[1.0,\"#f0f921\"]]},\"legend\":{\"tracegroupgap\":0},\"margin\":{\"t\":60}},                        {\"responsive\": true}                    ).then(function(){\n",
              "                            \n",
              "var gd = document.getElementById('b6712b85-519a-45a8-ab92-dd23d048d12b');\n",
              "var x = new MutationObserver(function (mutations, observer) {{\n",
              "        var display = window.getComputedStyle(gd).display;\n",
              "        if (!display || display === 'none') {{\n",
              "            console.log([gd, 'removed!']);\n",
              "            Plotly.purge(gd);\n",
              "            observer.disconnect();\n",
              "        }}\n",
              "}});\n",
              "\n",
              "// Listen for the removal of the full notebook cells\n",
              "var notebookContainer = gd.closest('#notebook-container');\n",
              "if (notebookContainer) {{\n",
              "    x.observe(notebookContainer, {childList: true});\n",
              "}}\n",
              "\n",
              "// Listen for the clearing of the current output cell\n",
              "var outputEl = gd.closest('.output');\n",
              "if (outputEl) {{\n",
              "    x.observe(outputEl, {childList: true});\n",
              "}}\n",
              "\n",
              "                        })                };                            </script>        </div>\n",
              "</body>\n",
              "</html>"
            ]
          },
          "metadata": {}
        }
      ]
    },
    {
      "cell_type": "code",
      "source": [
        "sns.catplot(x=\"Surface_Area\", y=\"Cooling_Load\", kind=\"box\", data=df1)"
      ],
      "metadata": {
        "colab": {
          "base_uri": "https://localhost:8080/",
          "height": 386
        },
        "id": "WpP2Lq89YYKQ",
        "outputId": "4e5c3e14-9f57-457a-aed8-45565f984b89"
      },
      "execution_count": 29,
      "outputs": [
        {
          "output_type": "execute_result",
          "data": {
            "text/plain": [
              "<seaborn.axisgrid.FacetGrid at 0x7f49c5b1add0>"
            ]
          },
          "metadata": {},
          "execution_count": 29
        },
        {
          "output_type": "display_data",
          "data": {
            "text/plain": [
              "<Figure size 360x360 with 1 Axes>"
            ],
            "image/png": "[encoded data removed]"
          },
          "metadata": {
            "needs_background": "light"
          }
        }
      ]
    },
    {
      "cell_type": "code",
      "source": [
        "sns.catplot(x=\"Wall_Area\", y=\"Cooling_Load\", kind=\"box\", data=df1)"
      ],
      "metadata": {
        "colab": {
          "base_uri": "https://localhost:8080/",
          "height": 386
        },
        "id": "D27Ez2s1YdNO",
        "outputId": "e92a1083-f409-4576-bc54-53cae3af8502"
      },
      "execution_count": 30,
      "outputs": [
        {
          "output_type": "execute_result",
          "data": {
            "text/plain": [
              "<seaborn.axisgrid.FacetGrid at 0x7f49c29c4f50>"
            ]
          },
          "metadata": {},
          "execution_count": 30
        },
        {
          "output_type": "display_data",
          "data": {
            "text/plain": [
              "<Figure size 360x360 with 1 Axes>"
            ],
            "image/png": "[encoded data removed]"
          },
          "metadata": {
            "needs_background": "light"
          }
        }
      ]
    },
    {
      "cell_type": "code",
      "source": [
        "sns.catplot(x=\"Wall_Area\", y=\"Heating_Load\", kind=\"box\", data=df1)"
      ],
      "metadata": {
        "colab": {
          "base_uri": "https://localhost:8080/",
          "height": 386
        },
        "id": "nLtFM-dgYjge",
        "outputId": "ef0adbaa-ed77-41a3-c1b9-f3f5e9b9d148"
      },
      "execution_count": 31,
      "outputs": [
        {
          "output_type": "execute_result",
          "data": {
            "text/plain": [
              "<seaborn.axisgrid.FacetGrid at 0x7f49c2676a90>"
            ]
          },
          "metadata": {},
          "execution_count": 31
        },
        {
          "output_type": "display_data",
          "data": {
            "text/plain": [
              "<Figure size 360x360 with 1 Axes>"
            ],
            "image/png": "[encoded data removed]"
          },
          "metadata": {
            "needs_background": "light"
          }
        }
      ]
    },
    {
      "cell_type": "code",
      "source": [
        "sns.catplot(x=\"Roof_Area\", y=\"Heating_Load\", kind=\"box\", data=df1)"
      ],
      "metadata": {
        "colab": {
          "base_uri": "https://localhost:8080/",
          "height": 386
        },
        "id": "5CLRPP3-YvIe",
        "outputId": "2b3e0b7d-1c1b-4563-880e-86eef26ea27b"
      },
      "execution_count": 32,
      "outputs": [
        {
          "output_type": "execute_result",
          "data": {
            "text/plain": [
              "<seaborn.axisgrid.FacetGrid at 0x7f49c25df5d0>"
            ]
          },
          "metadata": {},
          "execution_count": 32
        },
        {
          "output_type": "display_data",
          "data": {
            "text/plain": [
              "<Figure size 360x360 with 1 Axes>"
            ],
            "image/png": "[encoded data removed]"
          },
          "metadata": {
            "needs_background": "light"
          }
        }
      ]
    },
    {
      "cell_type": "code",
      "source": [
        "sns.catplot(x=\"Roof_Area\", y=\"Cooling_Load\", kind=\"box\", data=df1)"
      ],
      "metadata": {
        "colab": {
          "base_uri": "https://localhost:8080/",
          "height": 386
        },
        "id": "rtpCjO3HY0H3",
        "outputId": "21895beb-c88c-4757-b939-7db215cae3c3"
      },
      "execution_count": 33,
      "outputs": [
        {
          "output_type": "execute_result",
          "data": {
            "text/plain": [
              "<seaborn.axisgrid.FacetGrid at 0x7f49c26755d0>"
            ]
          },
          "metadata": {},
          "execution_count": 33
        },
        {
          "output_type": "display_data",
          "data": {
            "text/plain": [
              "<Figure size 360x360 with 1 Axes>"
            ],
            "image/png": "[encoded data removed]"
          },
          "metadata": {
            "needs_background": "light"
          }
        }
      ]
    },
    {
      "cell_type": "code",
      "source": [
        "sns.catplot(x=\"Overall_Height\", y=\"Heating_Load\", kind=\"box\", data=df1)"
      ],
      "metadata": {
        "colab": {
          "base_uri": "https://localhost:8080/",
          "height": 386
        },
        "id": "fTiqjHnqZAxs",
        "outputId": "f3f7eb59-96ce-4b21-8a7b-969d491cf918"
      },
      "execution_count": 34,
      "outputs": [
        {
          "output_type": "execute_result",
          "data": {
            "text/plain": [
              "<seaborn.axisgrid.FacetGrid at 0x7f49c258bb90>"
            ]
          },
          "metadata": {},
          "execution_count": 34
        },
        {
          "output_type": "display_data",
          "data": {
            "text/plain": [
              "<Figure size 360x360 with 1 Axes>"
            ],
            "image/png": "[encoded data removed]"
          },
          "metadata": {
            "needs_background": "light"
          }
        }
      ]
    },
    {
      "cell_type": "code",
      "source": [
        "sns.catplot(x=\"Overall_Height\", y=\"Cooling_Load\", kind=\"box\", data=df1)"
      ],
      "metadata": {
        "colab": {
          "base_uri": "https://localhost:8080/",
          "height": 386
        },
        "id": "rimjmCjgZBP0",
        "outputId": "3cc3a3f7-bfa4-4e36-bee1-286fe333dabe"
      },
      "execution_count": 35,
      "outputs": [
        {
          "output_type": "execute_result",
          "data": {
            "text/plain": [
              "<seaborn.axisgrid.FacetGrid at 0x7f49c22c5d50>"
            ]
          },
          "metadata": {},
          "execution_count": 35
        },
        {
          "output_type": "display_data",
          "data": {
            "text/plain": [
              "<Figure size 360x360 with 1 Axes>"
            ],
            "image/png": "[encoded data removed]"
          },
          "metadata": {
            "needs_background": "light"
          }
        }
      ]
    },
    {
      "cell_type": "code",
      "source": [
        "sns.catplot(x=\"Orientation\", y=\"Heating_Load\", kind=\"box\", data=df1)"
      ],
      "metadata": {
        "colab": {
          "base_uri": "https://localhost:8080/",
          "height": 386
        },
        "id": "UfNYunU-ZWfb",
        "outputId": "87c06e54-6e67-4ad7-f28b-4caead8017d2"
      },
      "execution_count": 36,
      "outputs": [
        {
          "output_type": "execute_result",
          "data": {
            "text/plain": [
              "<seaborn.axisgrid.FacetGrid at 0x7f49c24638d0>"
            ]
          },
          "metadata": {},
          "execution_count": 36
        },
        {
          "output_type": "display_data",
          "data": {
            "text/plain": [
              "<Figure size 360x360 with 1 Axes>"
            ],
            "image/png": "[encoded data removed]"
          },
          "metadata": {
            "needs_background": "light"
          }
        }
      ]
    },
    {
      "cell_type": "code",
      "source": [
        "sns.catplot(x=\"Orientation\", y=\"Cooling_Load\", kind=\"box\", data=df1)"
      ],
      "metadata": {
        "colab": {
          "base_uri": "https://localhost:8080/",
          "height": 386
        },
        "id": "GZuhIHhQZY_r",
        "outputId": "bc3411b9-1a1e-4d76-d7b6-81525f4d0ab6"
      },
      "execution_count": 37,
      "outputs": [
        {
          "output_type": "execute_result",
          "data": {
            "text/plain": [
              "<seaborn.axisgrid.FacetGrid at 0x7f49c21c0790>"
            ]
          },
          "metadata": {},
          "execution_count": 37
        },
        {
          "output_type": "display_data",
          "data": {
            "text/plain": [
              "<Figure size 360x360 with 1 Axes>"
            ],
            "image/png": "[encoded data removed]"
          },
          "metadata": {
            "needs_background": "light"
          }
        }
      ]
    },
    {
      "cell_type": "code",
      "source": [
        "sns.catplot(x=\"Glazing_Area\", y=\"Heating_Load\", kind=\"box\", data=df1)"
      ],
      "metadata": {
        "colab": {
          "base_uri": "https://localhost:8080/",
          "height": 386
        },
        "id": "A66GjWC-Zgvr",
        "outputId": "4af9ad30-bc8c-4c40-955b-5c69da95b65e"
      },
      "execution_count": 38,
      "outputs": [
        {
          "output_type": "execute_result",
          "data": {
            "text/plain": [
              "<seaborn.axisgrid.FacetGrid at 0x7f49c2095350>"
            ]
          },
          "metadata": {},
          "execution_count": 38
        },
        {
          "output_type": "display_data",
          "data": {
            "text/plain": [
              "<Figure size 360x360 with 1 Axes>"
            ],
            "image/png": "[encoded data removed]"
          },
          "metadata": {
            "needs_background": "light"
          }
        }
      ]
    },
    {
      "cell_type": "code",
      "source": [
        "sns.catplot(x=\"Glazing_Area\", y=\"Cooling_Load\", kind=\"box\", data=df1)"
      ],
      "metadata": {
        "colab": {
          "base_uri": "https://localhost:8080/",
          "height": 386
        },
        "id": "0_TlyJpmZi2L",
        "outputId": "71347e9b-9bba-406a-8fd7-4a3fd9b2b920"
      },
      "execution_count": 39,
      "outputs": [
        {
          "output_type": "execute_result",
          "data": {
            "text/plain": [
              "<seaborn.axisgrid.FacetGrid at 0x7f49c2100810>"
            ]
          },
          "metadata": {},
          "execution_count": 39
        },
        {
          "output_type": "display_data",
          "data": {
            "text/plain": [
              "<Figure size 360x360 with 1 Axes>"
            ],
            "image/png": "[encoded data removed]"
          },
          "metadata": {
            "needs_background": "light"
          }
        }
      ]
    },
    {
      "cell_type": "code",
      "source": [
        "sns.catplot(x=\"Glazing_Area_Distribution\", y=\"Heating_Load\", kind=\"box\", data=df1)"
      ],
      "metadata": {
        "colab": {
          "base_uri": "https://localhost:8080/",
          "height": 386
        },
        "id": "yAn2UfL6ZjZr",
        "outputId": "86008702-5103-4a94-9207-ff752672b5e2"
      },
      "execution_count": 40,
      "outputs": [
        {
          "output_type": "execute_result",
          "data": {
            "text/plain": [
              "<seaborn.axisgrid.FacetGrid at 0x7f49c202ec50>"
            ]
          },
          "metadata": {},
          "execution_count": 40
        },
        {
          "output_type": "display_data",
          "data": {
            "text/plain": [
              "<Figure size 360x360 with 1 Axes>"
            ],
            "image/png": "[encoded data removed]"
          },
          "metadata": {
            "needs_background": "light"
          }
        }
      ]
    },
    {
      "cell_type": "code",
      "source": [
        "sns.catplot(x=\"Glazing_Area_Distribution\", y=\"Cooling_Load\", kind=\"box\", data=df1)"
      ],
      "metadata": {
        "colab": {
          "base_uri": "https://localhost:8080/",
          "height": 386
        },
        "id": "6oGP1t78ZkeV",
        "outputId": "0bf345d1-70fc-4ac4-d8a8-d753889b6657"
      },
      "execution_count": 41,
      "outputs": [
        {
          "output_type": "execute_result",
          "data": {
            "text/plain": [
              "<seaborn.axisgrid.FacetGrid at 0x7f49c2492190>"
            ]
          },
          "metadata": {},
          "execution_count": 41
        },
        {
          "output_type": "display_data",
          "data": {
            "text/plain": [
              "<Figure size 360x360 with 1 Axes>"
            ],
            "image/png": "[encoded data removed]"
          },
          "metadata": {
            "needs_background": "light"
          }
        }
      ]
    },
    {
      "cell_type": "markdown",
      "source": [
        "## Data Splitting"
      ],
      "metadata": {
        "id": "I6X2Rm6xZ2yj"
      }
    },
    {
      "cell_type": "code",
      "source": [
        "import sklearn\n",
        "print(sklearn.__version__)"
      ],
      "metadata": {
        "colab": {
          "base_uri": "https://localhost:8080/"
        },
        "id": "MPIPNINjZ1Jc",
        "outputId": "4f244923-30b1-43da-b0c4-a16e0b14019e"
      },
      "execution_count": 42,
      "outputs": [
        {
          "output_type": "stream",
          "name": "stdout",
          "text": [
            "1.0.2\n"
          ]
        }
      ]
    },
    {
      "cell_type": "code",
      "source": [
        "X=df1.drop(['Heating_Load','Cooling_Load'],axis=1)\n",
        "Y=df1.iloc[:,-2:]"
      ],
      "metadata": {
        "id": "5S0wOT4uaXNj"
      },
      "execution_count": 43,
      "outputs": []
    },
    {
      "cell_type": "code",
      "source": [
        "X"
      ],
      "metadata": {
        "colab": {
          "base_uri": "https://localhost:8080/",
          "height": 424
        },
        "id": "hzp_emGxa9nf",
        "outputId": "1a00df44-0208-4704-e8f1-1f8a3874c56d"
      },
      "execution_count": 44,
      "outputs": [
        {
          "output_type": "execute_result",
          "data": {
            "text/plain": [
              "     Relative_Compactness  Surface_Area  Wall_Area  Roof_Area  Overall_Height  \\\n",
              "0                    0.98         514.5      294.0     110.25             7.0   \n",
              "1                    0.98         514.5      294.0     110.25             7.0   \n",
              "2                    0.98         514.5      294.0     110.25             7.0   \n",
              "3                    0.98         514.5      294.0     110.25             7.0   \n",
              "4                    0.90         563.5      318.5     122.50             7.0   \n",
              "..                    ...           ...        ...        ...             ...   \n",
              "763                  0.64         784.0      343.0     220.50             3.5   \n",
              "764                  0.62         808.5      367.5     220.50             3.5   \n",
              "765                  0.62         808.5      367.5     220.50             3.5   \n",
              "766                  0.62         808.5      367.5     220.50             3.5   \n",
              "767                  0.62         808.5      367.5     220.50             3.5   \n",
              "\n",
              "     Orientation  Glazing_Area  Glazing_Area_Distribution  \n",
              "0              2           0.0                          0  \n",
              "1              3           0.0                          0  \n",
              "2              4           0.0                          0  \n",
              "3              5           0.0                          0  \n",
              "4              2           0.0                          0  \n",
              "..           ...           ...                        ...  \n",
              "763            5           0.4                          5  \n",
              "764            2           0.4                          5  \n",
              "765            3           0.4                          5  \n",
              "766            4           0.4                          5  \n",
              "767            5           0.4                          5  \n",
              "\n",
              "[768 rows x 8 columns]"
            ],
            "text/html": [
              "\n",
              "  <div id=\"df-b16312b1-7eaa-48eb-8d16-ae242aac6fc9\">\n",
              "    <div class=\"colab-df-container\">\n",
              "      <div>\n",
              "<style scoped>\n",
              "    .dataframe tbody tr th:only-of-type {\n",
              "        vertical-align: middle;\n",
              "    }\n",
              "\n",
              "    .dataframe tbody tr th {\n",
              "        vertical-align: top;\n",
              "    }\n",
              "\n",
              "    .dataframe thead th {\n",
              "        text-align: right;\n",
              "    }\n",
              "</style>\n",
              "<table border=\"1\" class=\"dataframe\">\n",
              "  <thead>\n",
              "    <tr style=\"text-align: right;\">\n",
              "      <th></th>\n",
              "      <th>Relative_Compactness</th>\n",
              "      <th>Surface_Area</th>\n",
              "      <th>Wall_Area</th>\n",
              "      <th>Roof_Area</th>\n",
              "      <th>Overall_Height</th>\n",
              "      <th>Orientation</th>\n",
              "      <th>Glazing_Area</th>\n",
              "      <th>Glazing_Area_Distribution</th>\n",
              "    </tr>\n",
              "  </thead>\n",
              "  <tbody>\n",
              "    <tr>\n",
              "      <th>0</th>\n",
              "      <td>0.98</td>\n",
              "      <td>514.5</td>\n",
              "      <td>294.0</td>\n",
              "      <td>110.25</td>\n",
              "      <td>7.0</td>\n",
              "      <td>2</td>\n",
              "      <td>0.0</td>\n",
              "      <td>0</td>\n",
              "    </tr>\n",
              "    <tr>\n",
              "      <th>1</th>\n",
              "      <td>0.98</td>\n",
              "      <td>514.5</td>\n",
              "      <td>294.0</td>\n",
              "      <td>110.25</td>\n",
              "      <td>7.0</td>\n",
              "      <td>3</td>\n",
              "      <td>0.0</td>\n",
              "      <td>0</td>\n",
              "    </tr>\n",
              "    <tr>\n",
              "      <th>2</th>\n",
              "      <td>0.98</td>\n",
              "      <td>514.5</td>\n",
              "      <td>294.0</td>\n",
              "      <td>110.25</td>\n",
              "      <td>7.0</td>\n",
              "      <td>4</td>\n",
              "      <td>0.0</td>\n",
              "      <td>0</td>\n",
              "    </tr>\n",
              "    <tr>\n",
              "      <th>3</th>\n",
              "      <td>0.98</td>\n",
              "      <td>514.5</td>\n",
              "      <td>294.0</td>\n",
              "      <td>110.25</td>\n",
              "      <td>7.0</td>\n",
              "      <td>5</td>\n",
              "      <td>0.0</td>\n",
              "      <td>0</td>\n",
              "    </tr>\n",
              "    <tr>\n",
              "      <th>4</th>\n",
              "      <td>0.90</td>\n",
              "      <td>563.5</td>\n",
              "      <td>318.5</td>\n",
              "      <td>122.50</td>\n",
              "      <td>7.0</td>\n",
              "      <td>2</td>\n",
              "      <td>0.0</td>\n",
              "      <td>0</td>\n",
              "    </tr>\n",
              "    <tr>\n",
              "      <th>...</th>\n",
              "      <td>...</td>\n",
              "      <td>...</td>\n",
              "      <td>...</td>\n",
              "      <td>...</td>\n",
              "      <td>...</td>\n",
              "      <td>...</td>\n",
              "      <td>...</td>\n",
              "      <td>...</td>\n",
              "    </tr>\n",
              "    <tr>\n",
              "      <th>763</th>\n",
              "      <td>0.64</td>\n",
              "      <td>784.0</td>\n",
              "      <td>343.0</td>\n",
              "      <td>220.50</td>\n",
              "      <td>3.5</td>\n",
              "      <td>5</td>\n",
              "      <td>0.4</td>\n",
              "      <td>5</td>\n",
              "    </tr>\n",
              "    <tr>\n",
              "      <th>764</th>\n",
              "      <td>0.62</td>\n",
              "      <td>808.5</td>\n",
              "      <td>367.5</td>\n",
              "      <td>220.50</td>\n",
              "      <td>3.5</td>\n",
              "      <td>2</td>\n",
              "      <td>0.4</td>\n",
              "      <td>5</td>\n",
              "    </tr>\n",
              "    <tr>\n",
              "      <th>765</th>\n",
              "      <td>0.62</td>\n",
              "      <td>808.5</td>\n",
              "      <td>367.5</td>\n",
              "      <td>220.50</td>\n",
              "      <td>3.5</td>\n",
              "      <td>3</td>\n",
              "      <td>0.4</td>\n",
              "      <td>5</td>\n",
              "    </tr>\n",
              "    <tr>\n",
              "      <th>766</th>\n",
              "      <td>0.62</td>\n",
              "      <td>808.5</td>\n",
              "      <td>367.5</td>\n",
              "      <td>220.50</td>\n",
              "      <td>3.5</td>\n",
              "      <td>4</td>\n",
              "      <td>0.4</td>\n",
              "      <td>5</td>\n",
              "    </tr>\n",
              "    <tr>\n",
              "      <th>767</th>\n",
              "      <td>0.62</td>\n",
              "      <td>808.5</td>\n",
              "      <td>367.5</td>\n",
              "      <td>220.50</td>\n",
              "      <td>3.5</td>\n",
              "      <td>5</td>\n",
              "      <td>0.4</td>\n",
              "      <td>5</td>\n",
              "    </tr>\n",
              "  </tbody>\n",
              "</table>\n",
              "<p>768 rows × 8 columns</p>\n",
              "</div>\n",
              "      <button class=\"colab-df-convert\" onclick=\"convertToInteractive('df-b16312b1-7eaa-48eb-8d16-ae242aac6fc9')\"\n",
              "              title=\"Convert this dataframe to an interactive table.\"\n",
              "              style=\"display:none;\">\n",
              "        \n",
              "  <svg xmlns=\"http://www.w3.org/2000/svg\" height=\"24px\"viewBox=\"0 0 24 24\"\n",
              "       width=\"24px\">\n",
              "    <path d=\"M0 0h24v24H0V0z\" fill=\"none\"/>\n",
              "    <path d=\"M18.56 5.44l.94 2.06.94-2.06 2.06-.94-2.06-.94-.94-2.06-.94 2.06-2.06.94zm-11 1L8.5 8.5l.94-2.06 2.06-.94-2.06-.94L8.5 2.5l-.94 2.06-2.06.94zm10 10l.94 2.06.94-2.06 2.06-.94-2.06-.94-.94-2.06-.94 2.06-2.06.94z\"/><path d=\"M17.41 7.96l-1.37-1.37c-.4-.4-.92-.59-1.43-.59-.52 0-1.04.2-1.43.59L10.3 9.45l-7.72 7.72c-.78.78-.78 2.05 0 2.83L4 21.41c.39.39.9.59 1.41.59.51 0 1.02-.2 1.41-.59l7.78-7.78 2.81-2.81c.8-.78.8-2.07 0-2.86zM5.41 20L4 18.59l7.72-7.72 1.47 1.35L5.41 20z\"/>\n",
              "  </svg>\n",
              "      </button>\n",
              "      \n",
              "  <style>\n",
              "    .colab-df-container {\n",
              "      display:flex;\n",
              "      flex-wrap:wrap;\n",
              "      gap: 12px;\n",
              "    }\n",
              "\n",
              "    .colab-df-convert {\n",
              "      background-color: #E8F0FE;\n",
              "      border: none;\n",
              "      border-radius: 50%;\n",
              "      cursor: pointer;\n",
              "      display: none;\n",
              "      fill: #1967D2;\n",
              "      height: 32px;\n",
              "      padding: 0 0 0 0;\n",
              "      width: 32px;\n",
              "    }\n",
              "\n",
              "    .colab-df-convert:hover {\n",
              "      background-color: #E2EBFA;\n",
              "      box-shadow: 0px 1px 2px rgba(60, 64, 67, 0.3), 0px 1px 3px 1px rgba(60, 64, 67, 0.15);\n",
              "      fill: #174EA6;\n",
              "    }\n",
              "\n",
              "    [theme=dark] .colab-df-convert {\n",
              "      background-color: #3B4455;\n",
              "      fill: #D2E3FC;\n",
              "    }\n",
              "\n",
              "    [theme=dark] .colab-df-convert:hover {\n",
              "      background-color: #434B5C;\n",
              "      box-shadow: 0px 1px 3px 1px rgba(0, 0, 0, 0.15);\n",
              "      filter: drop-shadow(0px 1px 2px rgba(0, 0, 0, 0.3));\n",
              "      fill: #FFFFFF;\n",
              "    }\n",
              "  </style>\n",
              "\n",
              "      <script>\n",
              "        const buttonEl =\n",
              "          document.querySelector('#df-b16312b1-7eaa-48eb-8d16-ae242aac6fc9 button.colab-df-convert');\n",
              "        buttonEl.style.display =\n",
              "          google.colab.kernel.accessAllowed ? 'block' : 'none';\n",
              "\n",
              "        async function convertToInteractive(key) {\n",
              "          const element = document.querySelector('#df-b16312b1-7eaa-48eb-8d16-ae242aac6fc9');\n",
              "          const dataTable =\n",
              "            await google.colab.kernel.invokeFunction('convertToInteractive',\n",
              "                                                     [key], {});\n",
              "          if (!dataTable) return;\n",
              "\n",
              "          const docLinkHtml = 'Like what you see? Visit the ' +\n",
              "            '<a target=\"_blank\" href=https://colab.research.google.com/notebooks/data_table.ipynb>data table notebook</a>'\n",
              "            + ' to learn more about interactive tables.';\n",
              "          element.innerHTML = '';\n",
              "          dataTable['output_type'] = 'display_data';\n",
              "          await google.colab.output.renderOutput(dataTable, element);\n",
              "          const docLink = document.createElement('div');\n",
              "          docLink.innerHTML = docLinkHtml;\n",
              "          element.appendChild(docLink);\n",
              "        }\n",
              "      </script>\n",
              "    </div>\n",
              "  </div>\n",
              "  "
            ]
          },
          "metadata": {},
          "execution_count": 44
        }
      ]
    },
    {
      "cell_type": "code",
      "source": [
        "Y"
      ],
      "metadata": {
        "colab": {
          "base_uri": "https://localhost:8080/",
          "height": 424
        },
        "id": "fTx5fRCna_qB",
        "outputId": "b4f0b424-3e30-4d1d-9d01-570ff8c34a64"
      },
      "execution_count": 45,
      "outputs": [
        {
          "output_type": "execute_result",
          "data": {
            "text/plain": [
              "     Heating_Load  Cooling_Load\n",
              "0           15.55         21.33\n",
              "1           15.55         21.33\n",
              "2           15.55         21.33\n",
              "3           15.55         21.33\n",
              "4           20.84         28.28\n",
              "..            ...           ...\n",
              "763         17.88         21.40\n",
              "764         16.54         16.88\n",
              "765         16.44         17.11\n",
              "766         16.48         16.61\n",
              "767         16.64         16.03\n",
              "\n",
              "[768 rows x 2 columns]"
            ],
            "text/html": [
              "\n",
              "  <div id=\"df-a7fe9728-7514-4411-8b60-bc2f63e877ed\">\n",
              "    <div class=\"colab-df-container\">\n",
              "      <div>\n",
              "<style scoped>\n",
              "    .dataframe tbody tr th:only-of-type {\n",
              "        vertical-align: middle;\n",
              "    }\n",
              "\n",
              "    .dataframe tbody tr th {\n",
              "        vertical-align: top;\n",
              "    }\n",
              "\n",
              "    .dataframe thead th {\n",
              "        text-align: right;\n",
              "    }\n",
              "</style>\n",
              "<table border=\"1\" class=\"dataframe\">\n",
              "  <thead>\n",
              "    <tr style=\"text-align: right;\">\n",
              "      <th></th>\n",
              "      <th>Heating_Load</th>\n",
              "      <th>Cooling_Load</th>\n",
              "    </tr>\n",
              "  </thead>\n",
              "  <tbody>\n",
              "    <tr>\n",
              "      <th>0</th>\n",
              "      <td>15.55</td>\n",
              "      <td>21.33</td>\n",
              "    </tr>\n",
              "    <tr>\n",
              "      <th>1</th>\n",
              "      <td>15.55</td>\n",
              "      <td>21.33</td>\n",
              "    </tr>\n",
              "    <tr>\n",
              "      <th>2</th>\n",
              "      <td>15.55</td>\n",
              "      <td>21.33</td>\n",
              "    </tr>\n",
              "    <tr>\n",
              "      <th>3</th>\n",
              "      <td>15.55</td>\n",
              "      <td>21.33</td>\n",
              "    </tr>\n",
              "    <tr>\n",
              "      <th>4</th>\n",
              "      <td>20.84</td>\n",
              "      <td>28.28</td>\n",
              "    </tr>\n",
              "    <tr>\n",
              "      <th>...</th>\n",
              "      <td>...</td>\n",
              "      <td>...</td>\n",
              "    </tr>\n",
              "    <tr>\n",
              "      <th>763</th>\n",
              "      <td>17.88</td>\n",
              "      <td>21.40</td>\n",
              "    </tr>\n",
              "    <tr>\n",
              "      <th>764</th>\n",
              "      <td>16.54</td>\n",
              "      <td>16.88</td>\n",
              "    </tr>\n",
              "    <tr>\n",
              "      <th>765</th>\n",
              "      <td>16.44</td>\n",
              "      <td>17.11</td>\n",
              "    </tr>\n",
              "    <tr>\n",
              "      <th>766</th>\n",
              "      <td>16.48</td>\n",
              "      <td>16.61</td>\n",
              "    </tr>\n",
              "    <tr>\n",
              "      <th>767</th>\n",
              "      <td>16.64</td>\n",
              "      <td>16.03</td>\n",
              "    </tr>\n",
              "  </tbody>\n",
              "</table>\n",
              "<p>768 rows × 2 columns</p>\n",
              "</div>\n",
              "      <button class=\"colab-df-convert\" onclick=\"convertToInteractive('df-a7fe9728-7514-4411-8b60-bc2f63e877ed')\"\n",
              "              title=\"Convert this dataframe to an interactive table.\"\n",
              "              style=\"display:none;\">\n",
              "        \n",
              "  <svg xmlns=\"http://www.w3.org/2000/svg\" height=\"24px\"viewBox=\"0 0 24 24\"\n",
              "       width=\"24px\">\n",
              "    <path d=\"M0 0h24v24H0V0z\" fill=\"none\"/>\n",
              "    <path d=\"M18.56 5.44l.94 2.06.94-2.06 2.06-.94-2.06-.94-.94-2.06-.94 2.06-2.06.94zm-11 1L8.5 8.5l.94-2.06 2.06-.94-2.06-.94L8.5 2.5l-.94 2.06-2.06.94zm10 10l.94 2.06.94-2.06 2.06-.94-2.06-.94-.94-2.06-.94 2.06-2.06.94z\"/><path d=\"M17.41 7.96l-1.37-1.37c-.4-.4-.92-.59-1.43-.59-.52 0-1.04.2-1.43.59L10.3 9.45l-7.72 7.72c-.78.78-.78 2.05 0 2.83L4 21.41c.39.39.9.59 1.41.59.51 0 1.02-.2 1.41-.59l7.78-7.78 2.81-2.81c.8-.78.8-2.07 0-2.86zM5.41 20L4 18.59l7.72-7.72 1.47 1.35L5.41 20z\"/>\n",
              "  </svg>\n",
              "      </button>\n",
              "      \n",
              "  <style>\n",
              "    .colab-df-container {\n",
              "      display:flex;\n",
              "      flex-wrap:wrap;\n",
              "      gap: 12px;\n",
              "    }\n",
              "\n",
              "    .colab-df-convert {\n",
              "      background-color: #E8F0FE;\n",
              "      border: none;\n",
              "      border-radius: 50%;\n",
              "      cursor: pointer;\n",
              "      display: none;\n",
              "      fill: #1967D2;\n",
              "      height: 32px;\n",
              "      padding: 0 0 0 0;\n",
              "      width: 32px;\n",
              "    }\n",
              "\n",
              "    .colab-df-convert:hover {\n",
              "      background-color: #E2EBFA;\n",
              "      box-shadow: 0px 1px 2px rgba(60, 64, 67, 0.3), 0px 1px 3px 1px rgba(60, 64, 67, 0.15);\n",
              "      fill: #174EA6;\n",
              "    }\n",
              "\n",
              "    [theme=dark] .colab-df-convert {\n",
              "      background-color: #3B4455;\n",
              "      fill: #D2E3FC;\n",
              "    }\n",
              "\n",
              "    [theme=dark] .colab-df-convert:hover {\n",
              "      background-color: #434B5C;\n",
              "      box-shadow: 0px 1px 3px 1px rgba(0, 0, 0, 0.15);\n",
              "      filter: drop-shadow(0px 1px 2px rgba(0, 0, 0, 0.3));\n",
              "      fill: #FFFFFF;\n",
              "    }\n",
              "  </style>\n",
              "\n",
              "      <script>\n",
              "        const buttonEl =\n",
              "          document.querySelector('#df-a7fe9728-7514-4411-8b60-bc2f63e877ed button.colab-df-convert');\n",
              "        buttonEl.style.display =\n",
              "          google.colab.kernel.accessAllowed ? 'block' : 'none';\n",
              "\n",
              "        async function convertToInteractive(key) {\n",
              "          const element = document.querySelector('#df-a7fe9728-7514-4411-8b60-bc2f63e877ed');\n",
              "          const dataTable =\n",
              "            await google.colab.kernel.invokeFunction('convertToInteractive',\n",
              "                                                     [key], {});\n",
              "          if (!dataTable) return;\n",
              "\n",
              "          const docLinkHtml = 'Like what you see? Visit the ' +\n",
              "            '<a target=\"_blank\" href=https://colab.research.google.com/notebooks/data_table.ipynb>data table notebook</a>'\n",
              "            + ' to learn more about interactive tables.';\n",
              "          element.innerHTML = '';\n",
              "          dataTable['output_type'] = 'display_data';\n",
              "          await google.colab.output.renderOutput(dataTable, element);\n",
              "          const docLink = document.createElement('div');\n",
              "          docLink.innerHTML = docLinkHtml;\n",
              "          element.appendChild(docLink);\n",
              "        }\n",
              "      </script>\n",
              "    </div>\n",
              "  </div>\n",
              "  "
            ]
          },
          "metadata": {},
          "execution_count": 45
        }
      ]
    },
    {
      "cell_type": "code",
      "source": [
        "from sklearn.model_selection import train_test_split\n",
        "x_train, x_test, y_train, y_test = train_test_split(X,Y,test_size = 0.3,random_state = 18)"
      ],
      "metadata": {
        "id": "Z78dzHpFaX8i"
      },
      "execution_count": 46,
      "outputs": []
    },
    {
      "cell_type": "code",
      "source": [
        "from sklearn.preprocessing import StandardScaler\n",
        "scaler=StandardScaler()\n",
        "scaler.fit(x_train)\n",
        "x_train=scaler.transform(x_train)\n",
        "x_test=scaler.transform(x_test)"
      ],
      "metadata": {
        "id": "3YtimdQTbRu-"
      },
      "execution_count": 47,
      "outputs": []
    },
    {
      "cell_type": "markdown",
      "source": [
        "# Task"
      ],
      "metadata": {
        "id": "idAw0eO4Zyyr"
      }
    },
    {
      "cell_type": "markdown",
      "source": [
        "## 1).Linear regression"
      ],
      "metadata": {
        "id": "oFFLxYN0bzT_"
      }
    },
    {
      "cell_type": "code",
      "source": [
        "from sklearn.linear_model import LinearRegression\n",
        "lin=LinearRegression()\n",
        "lin.fit(x_train,y_train)"
      ],
      "metadata": {
        "colab": {
          "base_uri": "https://localhost:8080/"
        },
        "id": "8UpQ0m_ZbTAt",
        "outputId": "629e3c26-4b2f-48dc-beef-8782afb5a883"
      },
      "execution_count": 96,
      "outputs": [
        {
          "output_type": "execute_result",
          "data": {
            "text/plain": [
              "LinearRegression()"
            ]
          },
          "metadata": {},
          "execution_count": 96
        }
      ]
    },
    {
      "cell_type": "code",
      "source": [
        "y_ptrain=lin.predict(x_train)"
      ],
      "metadata": {
        "id": "cm-POx5bblb_"
      },
      "execution_count": 97,
      "outputs": []
    },
    {
      "cell_type": "code",
      "source": [
        "from sklearn import metrics\n",
        "print('Mean Absolute Error:', metrics.mean_absolute_error(y_train, y_ptrain))\n",
        "print('Mean Squared Error:', metrics.mean_squared_error(y_train, y_ptrain))\n",
        "Linear_Reg=metrics.r2_score(y_train,y_ptrain)\n",
        "print('R2- SCORE:',Linear_Reg)"
      ],
      "metadata": {
        "colab": {
          "base_uri": "https://localhost:8080/"
        },
        "id": "rDqJ-83SblZU",
        "outputId": "0f01e360-d065-46f0-f30a-645deef53510"
      },
      "execution_count": 98,
      "outputs": [
        {
          "output_type": "stream",
          "name": "stdout",
          "text": [
            "Mean Absolute Error: 2.107629237184379\n",
            "Mean Squared Error: 9.110063286221132\n",
            "R2- SCORE: 0.9040257593613935\n"
          ]
        }
      ]
    },
    {
      "cell_type": "code",
      "source": [
        "lry_pred=lin.predict(x_test)"
      ],
      "metadata": {
        "id": "0DV9-aS7bcC_"
      },
      "execution_count": null,
      "outputs": []
    },
    {
      "cell_type": "code",
      "source": [
        "from sklearn import metrics\n",
        "print('Mean Absolute Error:', metrics.mean_absolute_error(y_test, lry_pred))\n",
        "print('Mean Squared Error:', metrics.mean_squared_error(y_test, lry_pred))\n",
        "print('R2- SCORE:', metrics.r2_score(y_test,lry_pred))"
      ],
      "metadata": {
        "colab": {
          "base_uri": "https://localhost:8080/"
        },
        "id": "XYOZkgFtbhbe",
        "outputId": "2d40c61d-268f-424a-84ec-e92158d685f0"
      },
      "execution_count": 50,
      "outputs": [
        {
          "output_type": "stream",
          "name": "stdout",
          "text": [
            "Mean Absolute Error: 2.213839174485483\n",
            "Mean Squared Error: 10.002316371010378\n",
            "R2- SCORE: 0.8951877015805074\n"
          ]
        }
      ]
    },
    {
      "cell_type": "code",
      "source": [
        "f, (ax1, ax2) = plt.subplots(1, 2, sharey=True)\n",
        "#Visualize the heating load output after optimization\n",
        "plt.figure(figsize = (5,5))\n",
        "ax1.plot(range(0,len(x_test)),y_test.iloc[:,0],'o',color='red',label = 'Actual Values')\n",
        "ax1.plot(range(0,len(x_test)),lry_pred[:,0],'X',color='yellow',label = 'Predicted Values')\n",
        "ax1.set_xlabel('Test Cases')\n",
        "ax1.set_ylabel('Heating Load')\n",
        "ax1.set_title('Heating  Load After Optimization')\n",
        "ax1.legend(loc = 'upper right')\n",
        "\n",
        "plt.figure(figsize = (5,5))\n",
        "ax2.plot(range(0,len(x_test)),y_test.iloc[:,1],'o',color='green',label = 'Actual Values')\n",
        "ax2.plot(range(0,len(x_test)),lry_pred[:,1],'X',color='blue',label = 'Predicted Values')\n",
        "ax2.set_xlabel('Test Cases')\n",
        "ax2.set_ylabel('Cooling Load')\n",
        "ax2.set_title('Cooling Load After Optimization')\n",
        "ax2.legend(loc = 'upper right')"
      ],
      "metadata": {
        "colab": {
          "base_uri": "https://localhost:8080/",
          "height": 347
        },
        "id": "AYEvtXQc88Z-",
        "outputId": "8b12e3a6-3048-45c6-ccd1-f8df06f9723e"
      },
      "execution_count": 103,
      "outputs": [
        {
          "output_type": "execute_result",
          "data": {
            "text/plain": [
              "<matplotlib.legend.Legend at 0x7f49b51a13d0>"
            ]
          },
          "metadata": {},
          "execution_count": 103
        },
        {
          "output_type": "display_data",
          "data": {
            "text/plain": [
              "<Figure size 432x288 with 2 Axes>"
            ],
            "image/png": "[encoded data removed]"
          },
          "metadata": {
            "needs_background": "light"
          }
        },
        {
          "output_type": "display_data",
          "data": {
            "text/plain": [
              "<Figure size 360x360 with 0 Axes>"
            ]
          },
          "metadata": {}
        },
        {
          "output_type": "display_data",
          "data": {
            "text/plain": [
              "<Figure size 360x360 with 0 Axes>"
            ]
          },
          "metadata": {}
        }
      ]
    },
    {
      "cell_type": "markdown",
      "source": [
        "## 2).KNN"
      ],
      "metadata": {
        "id": "3XG3o-ZNb93k"
      }
    },
    {
      "cell_type": "code",
      "source": [
        "from sklearn.neighbors import KNeighborsRegressor"
      ],
      "metadata": {
        "id": "IusT4GbZb9kt"
      },
      "execution_count": 104,
      "outputs": []
    },
    {
      "cell_type": "code",
      "source": [
        "from sklearn.model_selection import cross_val_score\n",
        "import numpy as np\n",
        "\n",
        "for k in [1,2,3,4,5,6,7,8,9,10,11,12,13,14,15,16,17,18,19,20,21,22,23,24,25]:\n",
        "    clf = KNeighborsRegressor(n_neighbors=k) \n",
        "    clf.fit(x_train,y_train)\n",
        "    print(\"K : \", k, \" Train Accuracy : \", clf.score(x_train,y_train), \" Val Accuracy : \", np.mean(cross_val_score(clf, x_train, y_train)))"
      ],
      "metadata": {
        "colab": {
          "base_uri": "https://localhost:8080/"
        },
        "id": "qx9G4e9ZblWe",
        "outputId": "9e43975c-ee5d-4a33-fbdc-d90629883525"
      },
      "execution_count": 105,
      "outputs": [
        {
          "output_type": "stream",
          "name": "stdout",
          "text": [
            "K :  1  Train Accuracy :  1.0  Val Accuracy :  0.9024748565654453\n",
            "K :  2  Train Accuracy :  0.980196748530745  Val Accuracy :  0.9204593488438638\n",
            "K :  3  Train Accuracy :  0.9689622341359541  Val Accuracy :  0.928292990366175\n",
            "K :  4  Train Accuracy :  0.9633642737282064  Val Accuracy :  0.9239149678738906\n",
            "K :  5  Train Accuracy :  0.9544718383731324  Val Accuracy :  0.9178582852132241\n",
            "K :  6  Train Accuracy :  0.9474234183585213  Val Accuracy :  0.9176588873875045\n",
            "K :  7  Train Accuracy :  0.9400934441985085  Val Accuracy :  0.9189511871511673\n",
            "K :  8  Train Accuracy :  0.9373341480597158  Val Accuracy :  0.9181627480677278\n",
            "K :  9  Train Accuracy :  0.9385959774031574  Val Accuracy :  0.9159383489777472\n",
            "K :  10  Train Accuracy :  0.9347418257108093  Val Accuracy :  0.9147564999625631\n",
            "K :  11  Train Accuracy :  0.9329193848236541  Val Accuracy :  0.9131644751178349\n",
            "K :  12  Train Accuracy :  0.9302501705926272  Val Accuracy :  0.9094425104390842\n",
            "K :  13  Train Accuracy :  0.9269042429724322  Val Accuracy :  0.9072045345732345\n",
            "K :  14  Train Accuracy :  0.9246673108408076  Val Accuracy :  0.9054159627082343\n",
            "K :  15  Train Accuracy :  0.9211954450101203  Val Accuracy :  0.9025819284012645\n",
            "K :  16  Train Accuracy :  0.9204918513518417  Val Accuracy :  0.9020546798682865\n",
            "K :  17  Train Accuracy :  0.9183971571663014  Val Accuracy :  0.9008177082273058\n",
            "K :  18  Train Accuracy :  0.9154588520204063  Val Accuracy :  0.8993532016435644\n",
            "K :  19  Train Accuracy :  0.9130612700563615  Val Accuracy :  0.8983942622173732\n",
            "K :  20  Train Accuracy :  0.9112327462131189  Val Accuracy :  0.8967996370519218\n",
            "K :  21  Train Accuracy :  0.909538412318639  Val Accuracy :  0.896142175020229\n",
            "K :  22  Train Accuracy :  0.907888003577896  Val Accuracy :  0.894836541945217\n",
            "K :  23  Train Accuracy :  0.9066134735071634  Val Accuracy :  0.8938575054030359\n",
            "K :  24  Train Accuracy :  0.9070003609111863  Val Accuracy :  0.8926116341856272\n",
            "K :  25  Train Accuracy :  0.9062250409792072  Val Accuracy :  0.8920254899691559\n"
          ]
        }
      ]
    },
    {
      "cell_type": "markdown",
      "source": [
        "### Finding k value using RMSE"
      ],
      "metadata": {
        "id": "tAiY3mE5cW7z"
      }
    },
    {
      "cell_type": "code",
      "source": [
        "#import required packages\n",
        "from sklearn import neighbors\n",
        "from sklearn.metrics import mean_squared_error \n",
        "from math import sqrt\n",
        "import matplotlib.pyplot as plt\n",
        "%matplotlib inline"
      ],
      "metadata": {
        "id": "iDv23ma1cSZT"
      },
      "execution_count": 106,
      "outputs": []
    },
    {
      "cell_type": "code",
      "source": [
        "rmse_val = [] #to store rmse values for different k\n",
        "for K in range(30):\n",
        "    K = K+1\n",
        "    model = neighbors.KNeighborsRegressor(n_neighbors = K)\n",
        "\n",
        "    model.fit(x_train, y_train)  #fit the model\n",
        "    pred=model.predict(x_test) #make prediction on test set\n",
        "    error = sqrt(mean_squared_error(y_test,pred)) #calculate rmse\n",
        "    rmse_val.append(error) #store rmse values\n",
        "    print('RMSE value for k= ' , K , 'is:', error)"
      ],
      "metadata": {
        "colab": {
          "base_uri": "https://localhost:8080/"
        },
        "id": "15BUYW-3cUnU",
        "outputId": "72dae097-8e03-467a-867f-177f26762bb8"
      },
      "execution_count": 107,
      "outputs": [
        {
          "output_type": "stream",
          "name": "stdout",
          "text": [
            "RMSE value for k=  1 is: 2.9025528023728997\n",
            "RMSE value for k=  2 is: 2.6875222338756117\n",
            "RMSE value for k=  3 is: 2.4616379847698098\n",
            "RMSE value for k=  4 is: 2.6254436957526055\n",
            "RMSE value for k=  5 is: 2.7824392161091303\n",
            "RMSE value for k=  6 is: 2.745327849274108\n",
            "RMSE value for k=  7 is: 2.7188484848671934\n",
            "RMSE value for k=  8 is: 2.773792073471994\n",
            "RMSE value for k=  9 is: 2.896093428315007\n",
            "RMSE value for k=  10 is: 2.9010968305705216\n",
            "RMSE value for k=  11 is: 2.9543086442801623\n",
            "RMSE value for k=  12 is: 2.988223861550741\n",
            "RMSE value for k=  13 is: 3.0782270172474835\n",
            "RMSE value for k=  14 is: 3.116742740087702\n",
            "RMSE value for k=  15 is: 3.103790383790882\n",
            "RMSE value for k=  16 is: 3.1113935205105627\n",
            "RMSE value for k=  17 is: 3.1209136730716627\n",
            "RMSE value for k=  18 is: 3.1422475024972054\n",
            "RMSE value for k=  19 is: 3.155866764335324\n",
            "RMSE value for k=  20 is: 3.171634359999295\n",
            "RMSE value for k=  21 is: 3.1804951485444364\n",
            "RMSE value for k=  22 is: 3.1772735950862447\n",
            "RMSE value for k=  23 is: 3.211889301276895\n",
            "RMSE value for k=  24 is: 3.2464917813670637\n",
            "RMSE value for k=  25 is: 3.2700738836457752\n",
            "RMSE value for k=  26 is: 3.301138316431655\n",
            "RMSE value for k=  27 is: 3.3217522435553697\n",
            "RMSE value for k=  28 is: 3.3269885935796215\n",
            "RMSE value for k=  29 is: 3.339595478507255\n",
            "RMSE value for k=  30 is: 3.3464602535687953\n"
          ]
        }
      ]
    },
    {
      "cell_type": "code",
      "source": [
        "curve = pd.DataFrame(rmse_val) #elbow curve \n",
        "curve.plot()"
      ],
      "metadata": {
        "colab": {
          "base_uri": "https://localhost:8080/",
          "height": 282
        },
        "id": "SPv6Kp2UcgKf",
        "outputId": "407fdd75-1280-4183-977f-4fb50152baa0"
      },
      "execution_count": 108,
      "outputs": [
        {
          "output_type": "execute_result",
          "data": {
            "text/plain": [
              "<matplotlib.axes._subplots.AxesSubplot at 0x7f49b583d950>"
            ]
          },
          "metadata": {},
          "execution_count": 108
        },
        {
          "output_type": "display_data",
          "data": {
            "text/plain": [
              "<Figure size 432x288 with 1 Axes>"
            ],
            "image/png": "[encoded data removed]"
          },
          "metadata": {
            "needs_background": "light"
          }
        }
      ]
    },
    {
      "cell_type": "markdown",
      "source": [
        "### Finding k value using Grid search"
      ],
      "metadata": {
        "id": "9lUjhIgBcmrX"
      }
    },
    {
      "cell_type": "code",
      "source": [
        "from sklearn.model_selection import GridSearchCV\n",
        "params = {'n_neighbors':[2,3,4,5,6,7,8,9,10,11,12,13,14,15,16,17,18,19,20]}\n",
        "\n",
        "knn = neighbors.KNeighborsRegressor()\n",
        "\n",
        "model = GridSearchCV(knn, params, cv=5)\n",
        "model.fit(x_train,y_train)\n",
        "model.best_params_"
      ],
      "metadata": {
        "colab": {
          "base_uri": "https://localhost:8080/"
        },
        "id": "MntN6xrJcl1a",
        "outputId": "cc68b800-772e-41b7-cda4-18d71e1bc544"
      },
      "execution_count": 109,
      "outputs": [
        {
          "output_type": "execute_result",
          "data": {
            "text/plain": [
              "{'n_neighbors': 3}"
            ]
          },
          "metadata": {},
          "execution_count": 109
        }
      ]
    },
    {
      "cell_type": "code",
      "source": [
        "knn=KNeighborsRegressor(n_neighbors=3)\n",
        "knn.fit(x_train,y_train)"
      ],
      "metadata": {
        "colab": {
          "base_uri": "https://localhost:8080/"
        },
        "id": "J_Q8XJtgcuV8",
        "outputId": "15a85bcb-470f-47f5-e041-b4f879ae60c6"
      },
      "execution_count": 110,
      "outputs": [
        {
          "output_type": "execute_result",
          "data": {
            "text/plain": [
              "KNeighborsRegressor(n_neighbors=3)"
            ]
          },
          "metadata": {},
          "execution_count": 110
        }
      ]
    },
    {
      "cell_type": "code",
      "source": [
        "y_pred=knn.predict(x_test)"
      ],
      "metadata": {
        "id": "PduPUopjcuTg"
      },
      "execution_count": 111,
      "outputs": []
    },
    {
      "cell_type": "code",
      "source": [
        "y_tp=knn.predict(x_train)"
      ],
      "metadata": {
        "id": "Ck7DP61ccuR0"
      },
      "execution_count": 112,
      "outputs": []
    },
    {
      "cell_type": "code",
      "source": [
        "from sklearn import metrics\n",
        "print('R2- SCORE:', metrics.r2_score(y_train,y_tp))"
      ],
      "metadata": {
        "colab": {
          "base_uri": "https://localhost:8080/"
        },
        "id": "UCYrTVvicuL1",
        "outputId": "3432ee97-5239-4237-efb9-d8c890f6f9a3"
      },
      "execution_count": 113,
      "outputs": [
        {
          "output_type": "stream",
          "name": "stdout",
          "text": [
            "R2- SCORE: 0.9689622341359541\n"
          ]
        }
      ]
    },
    {
      "cell_type": "code",
      "source": [
        "from sklearn import metrics\n",
        "KNN=metrics.r2_score(y_test,y_pred)\n",
        "print('R2- SCORE:',KNN)"
      ],
      "metadata": {
        "colab": {
          "base_uri": "https://localhost:8080/"
        },
        "id": "mNasCLqYcuOy",
        "outputId": "ba7f9ded-7f2f-4a21-eaa5-1fe7257e3d41"
      },
      "execution_count": 114,
      "outputs": [
        {
          "output_type": "stream",
          "name": "stdout",
          "text": [
            "R2- SCORE: 0.9362874476011884\n"
          ]
        }
      ]
    },
    {
      "cell_type": "code",
      "source": [
        "f, (ax1, ax2) = plt.subplots(1, 2, sharey=True)\n",
        "#Visualize the heating load output after optimization\n",
        "plt.figure(figsize = (5,5))\n",
        "ax1.plot(range(0,len(x_test)),y_test.iloc[:,0],'o',color='red',label = 'Actual Values')\n",
        "ax1.plot(range(0,len(x_test)),y_pred[:,0],'X',color='yellow',label = 'Predicted Values')\n",
        "ax1.set_xlabel('Test Cases')\n",
        "ax1.set_ylabel('Heating Load')\n",
        "ax1.set_title('Heating  Load After Optimization')\n",
        "ax1.legend(loc = 'upper right')\n",
        "\n",
        "plt.figure(figsize = (5,5))\n",
        "ax2.plot(range(0,len(x_test)),y_test.iloc[:,1],'o',color='green',label = 'Actual Values')\n",
        "ax2.plot(range(0,len(x_test)),y_pred[:,1],'X',color='blue',label = 'Predicted Values')\n",
        "ax2.set_xlabel('Test Cases')\n",
        "ax2.set_ylabel('Cooling Load')\n",
        "ax2.set_title('Cooling Load After Optimization')\n",
        "ax2.legend(loc = 'upper right')"
      ],
      "metadata": {
        "colab": {
          "base_uri": "https://localhost:8080/",
          "height": 347
        },
        "id": "GY3LKDwF-f6i",
        "outputId": "bded269f-2d18-4b48-980d-f342f95ef89e"
      },
      "execution_count": 115,
      "outputs": [
        {
          "output_type": "execute_result",
          "data": {
            "text/plain": [
              "<matplotlib.legend.Legend at 0x7f49b37c2cd0>"
            ]
          },
          "metadata": {},
          "execution_count": 115
        },
        {
          "output_type": "display_data",
          "data": {
            "text/plain": [
              "<Figure size 432x288 with 2 Axes>"
            ],
            "image/png": "[encoded data removed]"
          },
          "metadata": {
            "needs_background": "light"
          }
        },
        {
          "output_type": "display_data",
          "data": {
            "text/plain": [
              "<Figure size 360x360 with 0 Axes>"
            ]
          },
          "metadata": {}
        },
        {
          "output_type": "display_data",
          "data": {
            "text/plain": [
              "<Figure size 360x360 with 0 Axes>"
            ]
          },
          "metadata": {}
        }
      ]
    },
    {
      "cell_type": "markdown",
      "source": [
        "## 3).Decission tree"
      ],
      "metadata": {
        "id": "uM9eE-f4c8QC"
      }
    },
    {
      "cell_type": "code",
      "source": [
        "from sklearn.tree import DecisionTreeRegressor\n",
        "from sklearn.model_selection import cross_val_score\n",
        "import numpy as np\n",
        "\n",
        "for k in [1,2,3,4,5,6,7,8,9,10,11,12,13,14,15,16,17,18,19,20,21,22,23,24,25]:\n",
        "    clf = DecisionTreeRegressor(max_depth=k) \n",
        "    clf.fit(x_train,y_train)\n",
        "    print(\"Depth : \", k, \" Train Accuracy : \", clf.score(x_train,y_train), \" Val Accuracy : \", np.mean(cross_val_score(clf, x_train, y_train)))"
      ],
      "metadata": {
        "colab": {
          "base_uri": "https://localhost:8080/"
        },
        "id": "3ocqHt5mc_yc",
        "outputId": "9bc82306-46f5-436b-b323-b4f41739fdde"
      },
      "execution_count": 116,
      "outputs": [
        {
          "output_type": "stream",
          "name": "stdout",
          "text": [
            "Depth :  1  Train Accuracy :  0.8105766903340044  Val Accuracy :  0.8082275221588681\n",
            "Depth :  2  Train Accuracy :  0.891399246898255  Val Accuracy :  0.8862109315583464\n",
            "Depth :  3  Train Accuracy :  0.9315792711619435  Val Accuracy :  0.9253273912116\n",
            "Depth :  4  Train Accuracy :  0.9600561784176116  Val Accuracy :  0.9510033923128101\n",
            "Depth :  5  Train Accuracy :  0.9768767918124333  Val Accuracy :  0.9713913083941689\n",
            "Depth :  6  Train Accuracy :  0.985355285879839  Val Accuracy :  0.973576639120647\n",
            "Depth :  7  Train Accuracy :  0.9879621867624699  Val Accuracy :  0.9735047542712472\n",
            "Depth :  8  Train Accuracy :  0.9909152650083464  Val Accuracy :  0.9715124133528146\n",
            "Depth :  9  Train Accuracy :  0.9955679401420354  Val Accuracy :  0.9715113699368102\n",
            "Depth :  10  Train Accuracy :  0.9971162013626766  Val Accuracy :  0.9707346502369631\n",
            "Depth :  11  Train Accuracy :  0.9989680133253713  Val Accuracy :  0.9695117997680656\n",
            "Depth :  12  Train Accuracy :  0.9998157732928603  Val Accuracy :  0.9684873825707404\n",
            "Depth :  13  Train Accuracy :  0.9999976144582066  Val Accuracy :  0.9689000790214759\n",
            "Depth :  14  Train Accuracy :  1.0  Val Accuracy :  0.9690266382903608\n",
            "Depth :  15  Train Accuracy :  1.0  Val Accuracy :  0.9689014710387083\n",
            "Depth :  16  Train Accuracy :  1.0  Val Accuracy :  0.9685059425209586\n",
            "Depth :  17  Train Accuracy :  1.0  Val Accuracy :  0.9682868994257523\n",
            "Depth :  18  Train Accuracy :  1.0  Val Accuracy :  0.9690492235342749\n",
            "Depth :  19  Train Accuracy :  1.0  Val Accuracy :  0.9683072628935416\n",
            "Depth :  20  Train Accuracy :  1.0  Val Accuracy :  0.9687519864429064\n",
            "Depth :  21  Train Accuracy :  1.0  Val Accuracy :  0.9680777742773188\n",
            "Depth :  22  Train Accuracy :  1.0  Val Accuracy :  0.9687573127022893\n",
            "Depth :  23  Train Accuracy :  1.0  Val Accuracy :  0.968741081138121\n",
            "Depth :  24  Train Accuracy :  1.0  Val Accuracy :  0.9690292437505743\n",
            "Depth :  25  Train Accuracy :  1.0  Val Accuracy :  0.9683201516251028\n"
          ]
        }
      ]
    },
    {
      "cell_type": "code",
      "source": [
        "dt=DecisionTreeRegressor(max_depth=6)\n",
        "dt.fit(x_train,y_train)"
      ],
      "metadata": {
        "colab": {
          "base_uri": "https://localhost:8080/"
        },
        "id": "qIYQWZppdFbB",
        "outputId": "aab8cc57-845c-4d14-97d8-da25cc617987"
      },
      "execution_count": 117,
      "outputs": [
        {
          "output_type": "execute_result",
          "data": {
            "text/plain": [
              "DecisionTreeRegressor(max_depth=6)"
            ]
          },
          "metadata": {},
          "execution_count": 117
        }
      ]
    },
    {
      "cell_type": "code",
      "source": [
        "y_pred=dt.predict(x_test)"
      ],
      "metadata": {
        "id": "HF2b1U-gdHP1"
      },
      "execution_count": 118,
      "outputs": []
    },
    {
      "cell_type": "code",
      "source": [
        "from sklearn import metrics\n",
        "print('Mean Absolute Error:', metrics.mean_absolute_error(y_test, y_pred))\n",
        "print('Mean Squared Error:', metrics.mean_squared_error(y_test, y_pred))\n",
        "Decision_tree=metrics.r2_score(y_test,y_pred)\n",
        "print('R2- SCORE:',Decision_tree)"
      ],
      "metadata": {
        "colab": {
          "base_uri": "https://localhost:8080/"
        },
        "id": "Gq0EAEGSdHzp",
        "outputId": "48abf737-cc9d-4460-b3a2-382bd0ac32e1"
      },
      "execution_count": 119,
      "outputs": [
        {
          "output_type": "stream",
          "name": "stdout",
          "text": [
            "Mean Absolute Error: 0.8628397300648243\n",
            "Mean Squared Error: 2.922788121114324\n",
            "R2- SCORE: 0.9678188751921053\n"
          ]
        }
      ]
    },
    {
      "cell_type": "code",
      "source": [
        "f, (ax1, ax2) = plt.subplots(1, 2, sharey=True)\n",
        "#Visualize the heating load output after optimization\n",
        "plt.figure(figsize = (5,5))\n",
        "ax1.plot(range(0,len(x_test)),y_test.iloc[:,0],'o',color='red',label = 'Actual Values')\n",
        "ax1.plot(range(0,len(x_test)),y_pred[:,0],'X',color='yellow',label = 'Predicted Values')\n",
        "ax1.set_xlabel('Test Cases')\n",
        "ax1.set_ylabel('Heating Load')\n",
        "ax1.set_title('Heating  Load After Optimization')\n",
        "ax1.legend(loc = 'upper right')\n",
        "\n",
        "plt.figure(figsize = (5,5))\n",
        "ax2.plot(range(0,len(x_test)),y_test.iloc[:,1],'o',color='green',label = 'Actual Values')\n",
        "ax2.plot(range(0,len(x_test)),y_pred[:,1],'X',color='blue',label = 'Predicted Values')\n",
        "ax2.set_xlabel('Test Cases')\n",
        "ax2.set_ylabel('Cooling Load')\n",
        "ax2.set_title('Cooling Load After Optimization')\n",
        "ax2.legend(loc = 'upper right')"
      ],
      "metadata": {
        "colab": {
          "base_uri": "https://localhost:8080/",
          "height": 347
        },
        "id": "4tT-AVKH-wY5",
        "outputId": "5a3318ab-f8ae-4001-db77-ef008097d8b8"
      },
      "execution_count": 120,
      "outputs": [
        {
          "output_type": "execute_result",
          "data": {
            "text/plain": [
              "<matplotlib.legend.Legend at 0x7f49b36b7dd0>"
            ]
          },
          "metadata": {},
          "execution_count": 120
        },
        {
          "output_type": "display_data",
          "data": {
            "text/plain": [
              "<Figure size 432x288 with 2 Axes>"
            ],
            "image/png": "[encoded data removed]"
          },
          "metadata": {
            "needs_background": "light"
          }
        },
        {
          "output_type": "display_data",
          "data": {
            "text/plain": [
              "<Figure size 360x360 with 0 Axes>"
            ]
          },
          "metadata": {}
        },
        {
          "output_type": "display_data",
          "data": {
            "text/plain": [
              "<Figure size 360x360 with 0 Axes>"
            ]
          },
          "metadata": {}
        }
      ]
    },
    {
      "cell_type": "markdown",
      "source": [
        "# Ensemblelearning"
      ],
      "metadata": {
        "id": "eEJyA6R3dVlL"
      }
    },
    {
      "cell_type": "markdown",
      "source": [
        "## 1).Avearage"
      ],
      "metadata": {
        "id": "yEbaurIOdp1f"
      }
    },
    {
      "cell_type": "code",
      "source": [
        "model1 = LinearRegression()\n",
        "model1.fit(x_train,y_train)\n",
        "model2 = KNeighborsRegressor(n_neighbors=3)\n",
        "model2.fit(x_train,y_train)\n",
        "model3 = DecisionTreeRegressor(max_depth=6)\n",
        "model3.fit(x_train,y_train)"
      ],
      "metadata": {
        "colab": {
          "base_uri": "https://localhost:8080/"
        },
        "id": "ignIDKDbdaGw",
        "outputId": "f5f8a60d-c74b-45e6-8a72-6ef837f7782f"
      },
      "execution_count": 68,
      "outputs": [
        {
          "output_type": "execute_result",
          "data": {
            "text/plain": [
              "DecisionTreeRegressor(max_depth=6)"
            ]
          },
          "metadata": {},
          "execution_count": 68
        }
      ]
    },
    {
      "cell_type": "code",
      "source": [
        "pred1=model1.predict(x_test)\n",
        "pred2=model2.predict(x_test)\n",
        "pred3=model3.predict(x_test)"
      ],
      "metadata": {
        "id": "gKlmGjmSdaLv"
      },
      "execution_count": 69,
      "outputs": []
    },
    {
      "cell_type": "code",
      "source": [
        "finalpred=(pred1+pred2+pred3)/3"
      ],
      "metadata": {
        "id": "0FNA7XqIdaJV"
      },
      "execution_count": 70,
      "outputs": []
    },
    {
      "cell_type": "code",
      "source": [
        "print('Mean Absolute Error:', metrics.mean_absolute_error(y_test, finalpred))\n",
        "print('Mean Squared Error:', metrics.mean_squared_error(y_test, finalpred))\n",
        "Ensemble_Avg=metrics.r2_score(y_test,finalpred)\n",
        "print('R2- SCORE:',Ensemble_Avg)"
      ],
      "metadata": {
        "colab": {
          "base_uri": "https://localhost:8080/"
        },
        "id": "Z5hIhECPdnVI",
        "outputId": "592e7ced-3bc3-4013-9dd8-2668272419a0"
      },
      "execution_count": 71,
      "outputs": [
        {
          "output_type": "stream",
          "name": "stdout",
          "text": [
            "Mean Absolute Error: 1.356938524805698\n",
            "Mean Squared Error: 4.402832140769496\n",
            "R2- SCORE: 0.9532373426336886\n"
          ]
        }
      ]
    },
    {
      "cell_type": "markdown",
      "source": [
        "## 2).Weighted average"
      ],
      "metadata": {
        "id": "Rb5udcT6do5P"
      }
    },
    {
      "cell_type": "code",
      "source": [
        "model1 = LinearRegression()\n",
        "model1.fit(x_train,y_train)\n",
        "model2 = KNeighborsRegressor(n_neighbors=3)\n",
        "model2.fit(x_train,y_train)\n",
        "model3 = DecisionTreeRegressor(max_depth=6)\n",
        "model3.fit(x_train,y_train)"
      ],
      "metadata": {
        "colab": {
          "base_uri": "https://localhost:8080/"
        },
        "id": "OM2SvcmxdwXn",
        "outputId": "0831f706-cb82-4e4b-f567-807bffd742fb"
      },
      "execution_count": 72,
      "outputs": [
        {
          "output_type": "execute_result",
          "data": {
            "text/plain": [
              "DecisionTreeRegressor(max_depth=6)"
            ]
          },
          "metadata": {},
          "execution_count": 72
        }
      ]
    },
    {
      "cell_type": "code",
      "source": [
        "pred1=model1.predict(x_test)\n",
        "pred2=model2.predict(x_test)\n",
        "pred3=model3.predict(x_test)"
      ],
      "metadata": {
        "id": "Yki9ripsd1H2"
      },
      "execution_count": 73,
      "outputs": []
    },
    {
      "cell_type": "code",
      "source": [
        "final_pred=(pred1*0.2+pred2*0.4+pred3*0.4)"
      ],
      "metadata": {
        "id": "EzadsJ7Nd3xl"
      },
      "execution_count": 74,
      "outputs": []
    },
    {
      "cell_type": "code",
      "source": [
        "print('Mean Absolute Error:', metrics.mean_absolute_error(y_test, final_pred))\n",
        "print('Mean Squared Error:', metrics.mean_squared_error(y_test, final_pred))\n",
        "Ensemble_We=metrics.r2_score(y_test,final_pred)\n",
        "print('R2- SCORE:',Ensemble_We)"
      ],
      "metadata": {
        "colab": {
          "base_uri": "https://localhost:8080/"
        },
        "id": "mh62lH2Dd3v3",
        "outputId": "40279983-119d-40f3-fbde-107ac3616b10"
      },
      "execution_count": 75,
      "outputs": [
        {
          "output_type": "stream",
          "name": "stdout",
          "text": [
            "Mean Absolute Error: 1.2214863205285493\n",
            "Mean Squared Error: 3.795166564362103\n",
            "R2- SCORE: 0.9594968959385937\n"
          ]
        }
      ]
    },
    {
      "cell_type": "markdown",
      "source": [
        "## 3).Bagging"
      ],
      "metadata": {
        "id": "ugG1C3X_d83I"
      }
    },
    {
      "cell_type": "markdown",
      "source": [
        "### Random Forest"
      ],
      "metadata": {
        "id": "fnUS26m7eBGy"
      }
    },
    {
      "cell_type": "code",
      "source": [
        "from sklearn.ensemble import RandomForestRegressor\n",
        "from sklearn.model_selection import cross_val_score\n",
        "import numpy as np\n",
        "\n",
        "for k in [1,2,3,4,5,6,7,8,9,10,11,12,13,14,15,16,17]:\n",
        "    clf = RandomForestRegressor( n_estimators=100,max_depth=k) \n",
        "    clf.fit(x_train,y_train)\n",
        "    print(\"Depth : \", k, \" Train Accuracy : \", clf.score(x_train,y_train), \" Val Accuracy : \", np.mean(cross_val_score(clf, x_train, y_train)))"
      ],
      "metadata": {
        "colab": {
          "base_uri": "https://localhost:8080/"
        },
        "id": "FwgNwuh-d3sk",
        "outputId": "6277c00a-3197-4024-e1af-ce3f22ecee94"
      },
      "execution_count": 121,
      "outputs": [
        {
          "output_type": "stream",
          "name": "stdout",
          "text": [
            "Depth :  1  Train Accuracy :  0.8105739526669918  Val Accuracy :  0.8079509775713871\n",
            "Depth :  2  Train Accuracy :  0.8968626050726761  Val Accuracy :  0.8920692682591955\n",
            "Depth :  3  Train Accuracy :  0.9460196394113447  Val Accuracy :  0.9395494490351932\n",
            "Depth :  4  Train Accuracy :  0.9695540918898129  Val Accuracy :  0.9641781748500812\n",
            "Depth :  5  Train Accuracy :  0.9804740238865914  Val Accuracy :  0.9762880773393381\n",
            "Depth :  6  Train Accuracy :  0.9860475419478788  Val Accuracy :  0.978058765871291\n",
            "Depth :  7  Train Accuracy :  0.989253149685164  Val Accuracy :  0.9771574801463107\n",
            "Depth :  8  Train Accuracy :  0.9923520593431645  Val Accuracy :  0.9768485618031096\n",
            "Depth :  9  Train Accuracy :  0.9945784592339224  Val Accuracy :  0.9768062870270959\n",
            "Depth :  10  Train Accuracy :  0.9959071797495043  Val Accuracy :  0.9764689671499843\n",
            "Depth :  11  Train Accuracy :  0.9966985234663348  Val Accuracy :  0.9765152700520972\n",
            "Depth :  12  Train Accuracy :  0.9970387562403555  Val Accuracy :  0.9762152930949878\n",
            "Depth :  13  Train Accuracy :  0.9970609525171941  Val Accuracy :  0.9767431963743665\n",
            "Depth :  14  Train Accuracy :  0.996901646207323  Val Accuracy :  0.9766380989675787\n",
            "Depth :  15  Train Accuracy :  0.9972438578489682  Val Accuracy :  0.9765778339797866\n",
            "Depth :  16  Train Accuracy :  0.9969611308987718  Val Accuracy :  0.9767351559523776\n",
            "Depth :  17  Train Accuracy :  0.996897582085316  Val Accuracy :  0.9762458900308599\n"
          ]
        }
      ]
    },
    {
      "cell_type": "code",
      "source": [
        "reg = RandomForestRegressor(max_depth=6, n_estimators=100)\n",
        "reg.fit(x_train,y_train)"
      ],
      "metadata": {
        "colab": {
          "base_uri": "https://localhost:8080/"
        },
        "id": "JioOmlG1d3pr",
        "outputId": "66a12fef-0b1a-415b-ed20-53c0a4aec91e"
      },
      "execution_count": 122,
      "outputs": [
        {
          "output_type": "execute_result",
          "data": {
            "text/plain": [
              "RandomForestRegressor(max_depth=6)"
            ]
          },
          "metadata": {},
          "execution_count": 122
        }
      ]
    },
    {
      "cell_type": "code",
      "source": [
        "y_tpred=reg.predict(x_train)\n",
        "y_tpred"
      ],
      "metadata": {
        "colab": {
          "base_uri": "https://localhost:8080/"
        },
        "id": "G1noCjIfeJz2",
        "outputId": "a0175fae-9fe3-4332-e861-7ff5217bc864"
      },
      "execution_count": 123,
      "outputs": [
        {
          "output_type": "execute_result",
          "data": {
            "text/plain": [
              "array([[36.56393281, 38.1006518 ],\n",
              "       [11.31017142, 14.50163704],\n",
              "       [16.8671313 , 20.1831962 ],\n",
              "       ...,\n",
              "       [10.35971598, 13.53445876],\n",
              "       [11.27213208, 14.47770941],\n",
              "       [28.69134287, 30.35135261]])"
            ]
          },
          "metadata": {},
          "execution_count": 123
        }
      ]
    },
    {
      "cell_type": "code",
      "source": [
        "from sklearn import metrics\n",
        "print('Mean Absolute Error:', metrics.mean_absolute_error(y_train, y_tpred))\n",
        "print('Mean Squared Error:', metrics.mean_squared_error(y_train, y_tpred))\n",
        "print('R2- SCORE:', metrics.r2_score(y_train,y_tpred))"
      ],
      "metadata": {
        "colab": {
          "base_uri": "https://localhost:8080/"
        },
        "id": "0lcv8rNUeKYY",
        "outputId": "38b438cc-e8e3-45d9-dfb5-9cb37b1da00c"
      },
      "execution_count": 124,
      "outputs": [
        {
          "output_type": "stream",
          "name": "stdout",
          "text": [
            "Mean Absolute Error: 0.6546677822186445\n",
            "Mean Squared Error: 1.2684709846650424\n",
            "R2- SCORE: 0.9861592838981346\n"
          ]
        }
      ]
    },
    {
      "cell_type": "code",
      "source": [
        "y_pred=reg.predict(x_test)"
      ],
      "metadata": {
        "id": "wJrtguzmeQdW"
      },
      "execution_count": 125,
      "outputs": []
    },
    {
      "cell_type": "code",
      "source": [
        "from sklearn import metrics\n",
        "print('Mean Absolute Error:', metrics.mean_absolute_error(y_test, y_pred))\n",
        "print('Mean Squared Error:', metrics.mean_squared_error(y_test, y_pred))\n",
        "random_forest=metrics.r2_score(y_test,y_pred)\n",
        "print('R2- SCORE:', random_forest)"
      ],
      "metadata": {
        "colab": {
          "base_uri": "https://localhost:8080/"
        },
        "id": "wzcQnUMdeSU-",
        "outputId": "8aef41c5-98ae-4664-9517-460d75e94114"
      },
      "execution_count": 126,
      "outputs": [
        {
          "output_type": "stream",
          "name": "stdout",
          "text": [
            "Mean Absolute Error: 0.8461219952458898\n",
            "Mean Squared Error: 2.431019550482118\n",
            "R2- SCORE: 0.9735294067505478\n"
          ]
        }
      ]
    },
    {
      "cell_type": "code",
      "source": [
        "f, (ax1, ax2) = plt.subplots(1, 2, sharey=True)\n",
        "#Visualize the heating load output after optimization\n",
        "plt.figure(figsize = (5,5))\n",
        "ax1.plot(range(0,len(x_test)),y_test.iloc[:,0],'o',color='red',label = 'Actual Values')\n",
        "ax1.plot(range(0,len(x_test)),y_pred[:,0],'X',color='yellow',label = 'Predicted Values')\n",
        "ax1.set_xlabel('Test Cases')\n",
        "ax1.set_ylabel('Heating Load')\n",
        "ax1.set_title('Heating  Load After Optimization')\n",
        "ax1.legend(loc = 'upper right')\n",
        "\n",
        "plt.figure(figsize = (5,5))\n",
        "ax2.plot(range(0,len(x_test)),y_test.iloc[:,1],'o',color='green',label = 'Actual Values')\n",
        "ax2.plot(range(0,len(x_test)),y_pred[:,1],'X',color='blue',label = 'Predicted Values')\n",
        "ax2.set_xlabel('Test Cases')\n",
        "ax2.set_ylabel('Cooling Load')\n",
        "ax2.set_title('Cooling Load After Optimization')\n",
        "ax2.legend(loc = 'upper right')"
      ],
      "metadata": {
        "colab": {
          "base_uri": "https://localhost:8080/",
          "height": 347
        },
        "id": "G38wZqui-14B",
        "outputId": "c84f7803-029d-44c8-e6b3-c0983d0b0ce0"
      },
      "execution_count": 127,
      "outputs": [
        {
          "output_type": "execute_result",
          "data": {
            "text/plain": [
              "<matplotlib.legend.Legend at 0x7f49b3736450>"
            ]
          },
          "metadata": {},
          "execution_count": 127
        },
        {
          "output_type": "display_data",
          "data": {
            "text/plain": [
              "<Figure size 432x288 with 2 Axes>"
            ],
            "image/png": "[encoded data removed]"
          },
          "metadata": {
            "needs_background": "light"
          }
        },
        {
          "output_type": "display_data",
          "data": {
            "text/plain": [
              "<Figure size 360x360 with 0 Axes>"
            ]
          },
          "metadata": {}
        },
        {
          "output_type": "display_data",
          "data": {
            "text/plain": [
              "<Figure size 360x360 with 0 Axes>"
            ]
          },
          "metadata": {}
        }
      ]
    },
    {
      "cell_type": "markdown",
      "source": [
        "## 4).Boosting"
      ],
      "metadata": {
        "id": "CKW9ATKIeUSW"
      }
    },
    {
      "cell_type": "markdown",
      "source": [
        "### XGBoost"
      ],
      "metadata": {
        "id": "F40aRXxneXKl"
      }
    },
    {
      "cell_type": "code",
      "source": [
        "from xgboost import XGBRegressor\n",
        "from sklearn.multioutput import MultiOutputRegressor\n",
        "\n",
        "#Define the estimator\n",
        "estimator = XGBRegressor(\n",
        "    objective = 'reg:squarederror'\n",
        "    )\n",
        "\n",
        "# Define the model\n",
        "model = MultiOutputRegressor(estimator = estimator, n_jobs = -1)"
      ],
      "metadata": {
        "id": "RBL8tj2bg5QY"
      },
      "execution_count": 128,
      "outputs": []
    },
    {
      "cell_type": "code",
      "source": [
        "# import xgboost as xgb\n",
        "# from sklearn.model_selection import cross_val_score\n",
        "# import numpy as np\n",
        "# for lr in [0.01,0.02,0.03,0.04,0.05,0.1,0.11,0.12,0.13,0.14,0.15,0.2,0.5,0.7,1]:\n",
        "#   model = MultiOutputRegressor(learning_rate=lr,estimator = estimator, n_jobs = -1)# initialise the model\n",
        "#   model.fit(x_train,y_train) #train the model\n",
        "#   model.score(x_test, y_test) # scoring the model - r2 squared\n",
        "#   print(\"Learning rate : \", lr, \" Train score : \", model.score(x_train,y_train), \" Cross-Val score : \", np.mean(cross_val_score(model, x_train, y_train, cv=10)))"
      ],
      "metadata": {
        "id": "3YBsr7b2eZfl"
      },
      "execution_count": 129,
      "outputs": []
    },
    {
      "cell_type": "code",
      "source": [
        "# model = xgb.XGBRegressor(learning_rate = 0.5, n_estimators=100, verbosity = 0)\n",
        "model.fit(x_train,y_train) #train the model\n",
        "xg_boost=model.score(x_test, y_test)\n",
        "xg_boost"
      ],
      "metadata": {
        "colab": {
          "base_uri": "https://localhost:8080/"
        },
        "id": "yOttKdfxeZvN",
        "outputId": "bb9cc397-d5ed-4460-e2d8-d17e4db2880e"
      },
      "execution_count": 130,
      "outputs": [
        {
          "output_type": "execute_result",
          "data": {
            "text/plain": [
              "0.9849622268596874"
            ]
          },
          "metadata": {},
          "execution_count": 130
        }
      ]
    },
    {
      "cell_type": "code",
      "source": [
        "y_pred=model.predict(x_test)\n"
      ],
      "metadata": {
        "id": "nkUS7JBweZl0"
      },
      "execution_count": 131,
      "outputs": []
    },
    {
      "cell_type": "code",
      "source": [
        "from sklearn import metrics\n",
        "print('Mean Absolute Error:', metrics.mean_absolute_error(y_test, y_pred))\n",
        "print('Mean Squared Error:', metrics.mean_squared_error(y_test, y_pred))\n",
        "XGB=metrics.r2_score(y_test,y_pred)\n",
        "print('R2- SCORE:', XGB)"
      ],
      "metadata": {
        "colab": {
          "base_uri": "https://localhost:8080/"
        },
        "id": "yOmpqayReZic",
        "outputId": "0a62c0dc-46c8-48f3-aaa1-b23fde8d8b53"
      },
      "execution_count": 132,
      "outputs": [
        {
          "output_type": "stream",
          "name": "stdout",
          "text": [
            "Mean Absolute Error: 0.6793865510189172\n",
            "Mean Squared Error: 1.3753991847987224\n",
            "R2- SCORE: 0.9849622268596874\n"
          ]
        }
      ]
    },
    {
      "cell_type": "code",
      "source": [
        "f, (ax1, ax2) = plt.subplots(1, 2, sharey=True)\n",
        "#Visualize the heating load output after optimization\n",
        "plt.figure(figsize = (5,5))\n",
        "ax1.plot(range(0,len(x_test)),y_test.iloc[:,0],'o',color='red',label = 'Actual Values')\n",
        "ax1.plot(range(0,len(x_test)),y_pred[:,0],'X',color='yellow',label = 'Predicted Values')\n",
        "ax1.set_xlabel('Test Cases')\n",
        "ax1.set_ylabel('Heating Load')\n",
        "ax1.set_title('Heating  Load After Optimization')\n",
        "ax1.legend(loc = 'upper right')\n",
        "\n",
        "plt.figure(figsize = (5,5))\n",
        "ax2.plot(range(0,len(x_test)),y_test.iloc[:,1],'o',color='green',label = 'Actual Values')\n",
        "ax2.plot(range(0,len(x_test)),y_pred[:,1],'X',color='blue',label = 'Predicted Values')\n",
        "ax2.set_xlabel('Test Cases')\n",
        "ax2.set_ylabel('Cooling Load')\n",
        "ax2.set_title('Cooling Load After Optimization')\n",
        "ax2.legend(loc = 'upper right')"
      ],
      "metadata": {
        "colab": {
          "base_uri": "https://localhost:8080/",
          "height": 347
        },
        "id": "ZaqIpoc_-6go",
        "outputId": "c5ed1f41-a1a9-4e91-fb60-d9140fc89343"
      },
      "execution_count": 133,
      "outputs": [
        {
          "output_type": "execute_result",
          "data": {
            "text/plain": [
              "<matplotlib.legend.Legend at 0x7f49b35c7c10>"
            ]
          },
          "metadata": {},
          "execution_count": 133
        },
        {
          "output_type": "display_data",
          "data": {
            "text/plain": [
              "<Figure size 432x288 with 2 Axes>"
            ],
            "image/png": "[encoded data removed]"
          },
          "metadata": {
            "needs_background": "light"
          }
        },
        {
          "output_type": "display_data",
          "data": {
            "text/plain": [
              "<Figure size 360x360 with 0 Axes>"
            ]
          },
          "metadata": {}
        },
        {
          "output_type": "display_data",
          "data": {
            "text/plain": [
              "<Figure size 360x360 with 0 Axes>"
            ]
          },
          "metadata": {}
        }
      ]
    },
    {
      "cell_type": "markdown",
      "source": [
        "# Validation"
      ],
      "metadata": {
        "id": "dj6gB2uvh0nd"
      }
    },
    {
      "cell_type": "code",
      "source": [
        "data={'Ensembel_Learning_Tech':['Averag','Weighted_Avg','Baging_RandomForest','Boosting_XGB'],'R2 Score':[Ensemble_Avg,Ensemble_We,random_forest,XGB]}"
      ],
      "metadata": {
        "id": "4GK16po8h46s"
      },
      "execution_count": 88,
      "outputs": []
    },
    {
      "cell_type": "code",
      "source": [
        "df3=pd.DataFrame(data)"
      ],
      "metadata": {
        "id": "yhD8UmRzh5GL"
      },
      "execution_count": 89,
      "outputs": []
    },
    {
      "cell_type": "code",
      "source": [
        "df3"
      ],
      "metadata": {
        "colab": {
          "base_uri": "https://localhost:8080/",
          "height": 175
        },
        "id": "BXGsXk2oh5BY",
        "outputId": "6d60f086-5f36-4e78-8a2f-50697ef77b4f"
      },
      "execution_count": 90,
      "outputs": [
        {
          "output_type": "execute_result",
          "data": {
            "text/plain": [
              "  Ensembel_Learning_Tech  R2 Score\n",
              "0                 Averag  0.953237\n",
              "1           Weighted_Avg  0.959497\n",
              "2    Baging_RandomForest  0.974349\n",
              "3           Boosting_XGB  0.984962"
            ],
            "text/html": [
              "\n",
              "  <div id=\"df-ec5bf65e-b5bf-4fed-9f31-a6ff34aafbb6\">\n",
              "    <div class=\"colab-df-container\">\n",
              "      <div>\n",
              "<style scoped>\n",
              "    .dataframe tbody tr th:only-of-type {\n",
              "        vertical-align: middle;\n",
              "    }\n",
              "\n",
              "    .dataframe tbody tr th {\n",
              "        vertical-align: top;\n",
              "    }\n",
              "\n",
              "    .dataframe thead th {\n",
              "        text-align: right;\n",
              "    }\n",
              "</style>\n",
              "<table border=\"1\" class=\"dataframe\">\n",
              "  <thead>\n",
              "    <tr style=\"text-align: right;\">\n",
              "      <th></th>\n",
              "      <th>Ensembel_Learning_Tech</th>\n",
              "      <th>R2 Score</th>\n",
              "    </tr>\n",
              "  </thead>\n",
              "  <tbody>\n",
              "    <tr>\n",
              "      <th>0</th>\n",
              "      <td>Averag</td>\n",
              "      <td>0.953237</td>\n",
              "    </tr>\n",
              "    <tr>\n",
              "      <th>1</th>\n",
              "      <td>Weighted_Avg</td>\n",
              "      <td>0.959497</td>\n",
              "    </tr>\n",
              "    <tr>\n",
              "      <th>2</th>\n",
              "      <td>Baging_RandomForest</td>\n",
              "      <td>0.974349</td>\n",
              "    </tr>\n",
              "    <tr>\n",
              "      <th>3</th>\n",
              "      <td>Boosting_XGB</td>\n",
              "      <td>0.984962</td>\n",
              "    </tr>\n",
              "  </tbody>\n",
              "</table>\n",
              "</div>\n",
              "      <button class=\"colab-df-convert\" onclick=\"convertToInteractive('df-ec5bf65e-b5bf-4fed-9f31-a6ff34aafbb6')\"\n",
              "              title=\"Convert this dataframe to an interactive table.\"\n",
              "              style=\"display:none;\">\n",
              "        \n",
              "  <svg xmlns=\"http://www.w3.org/2000/svg\" height=\"24px\"viewBox=\"0 0 24 24\"\n",
              "       width=\"24px\">\n",
              "    <path d=\"M0 0h24v24H0V0z\" fill=\"none\"/>\n",
              "    <path d=\"M18.56 5.44l.94 2.06.94-2.06 2.06-.94-2.06-.94-.94-2.06-.94 2.06-2.06.94zm-11 1L8.5 8.5l.94-2.06 2.06-.94-2.06-.94L8.5 2.5l-.94 2.06-2.06.94zm10 10l.94 2.06.94-2.06 2.06-.94-2.06-.94-.94-2.06-.94 2.06-2.06.94z\"/><path d=\"M17.41 7.96l-1.37-1.37c-.4-.4-.92-.59-1.43-.59-.52 0-1.04.2-1.43.59L10.3 9.45l-7.72 7.72c-.78.78-.78 2.05 0 2.83L4 21.41c.39.39.9.59 1.41.59.51 0 1.02-.2 1.41-.59l7.78-7.78 2.81-2.81c.8-.78.8-2.07 0-2.86zM5.41 20L4 18.59l7.72-7.72 1.47 1.35L5.41 20z\"/>\n",
              "  </svg>\n",
              "      </button>\n",
              "      \n",
              "  <style>\n",
              "    .colab-df-container {\n",
              "      display:flex;\n",
              "      flex-wrap:wrap;\n",
              "      gap: 12px;\n",
              "    }\n",
              "\n",
              "    .colab-df-convert {\n",
              "      background-color: #E8F0FE;\n",
              "      border: none;\n",
              "      border-radius: 50%;\n",
              "      cursor: pointer;\n",
              "      display: none;\n",
              "      fill: #1967D2;\n",
              "      height: 32px;\n",
              "      padding: 0 0 0 0;\n",
              "      width: 32px;\n",
              "    }\n",
              "\n",
              "    .colab-df-convert:hover {\n",
              "      background-color: #E2EBFA;\n",
              "      box-shadow: 0px 1px 2px rgba(60, 64, 67, 0.3), 0px 1px 3px 1px rgba(60, 64, 67, 0.15);\n",
              "      fill: #174EA6;\n",
              "    }\n",
              "\n",
              "    [theme=dark] .colab-df-convert {\n",
              "      background-color: #3B4455;\n",
              "      fill: #D2E3FC;\n",
              "    }\n",
              "\n",
              "    [theme=dark] .colab-df-convert:hover {\n",
              "      background-color: #434B5C;\n",
              "      box-shadow: 0px 1px 3px 1px rgba(0, 0, 0, 0.15);\n",
              "      filter: drop-shadow(0px 1px 2px rgba(0, 0, 0, 0.3));\n",
              "      fill: #FFFFFF;\n",
              "    }\n",
              "  </style>\n",
              "\n",
              "      <script>\n",
              "        const buttonEl =\n",
              "          document.querySelector('#df-ec5bf65e-b5bf-4fed-9f31-a6ff34aafbb6 button.colab-df-convert');\n",
              "        buttonEl.style.display =\n",
              "          google.colab.kernel.accessAllowed ? 'block' : 'none';\n",
              "\n",
              "        async function convertToInteractive(key) {\n",
              "          const element = document.querySelector('#df-ec5bf65e-b5bf-4fed-9f31-a6ff34aafbb6');\n",
              "          const dataTable =\n",
              "            await google.colab.kernel.invokeFunction('convertToInteractive',\n",
              "                                                     [key], {});\n",
              "          if (!dataTable) return;\n",
              "\n",
              "          const docLinkHtml = 'Like what you see? Visit the ' +\n",
              "            '<a target=\"_blank\" href=https://colab.research.google.com/notebooks/data_table.ipynb>data table notebook</a>'\n",
              "            + ' to learn more about interactive tables.';\n",
              "          element.innerHTML = '';\n",
              "          dataTable['output_type'] = 'display_data';\n",
              "          await google.colab.output.renderOutput(dataTable, element);\n",
              "          const docLink = document.createElement('div');\n",
              "          docLink.innerHTML = docLinkHtml;\n",
              "          element.appendChild(docLink);\n",
              "        }\n",
              "      </script>\n",
              "    </div>\n",
              "  </div>\n",
              "  "
            ]
          },
          "metadata": {},
          "execution_count": 90
        }
      ]
    },
    {
      "cell_type": "code",
      "source": [
        "fx=px.bar(df3,x='Ensembel_Learning_Tech',y='R2 Score',color='Ensembel_Learning_Tech')\n",
        "fx.show()"
      ],
      "metadata": {
        "colab": {
          "base_uri": "https://localhost:8080/",
          "height": 542
        },
        "id": "ifcgWF8Hh4-E",
        "outputId": "7357e15e-9832-4909-fa2d-27312df1c34c"
      },
      "execution_count": 91,
      "outputs": [
        {
          "output_type": "display_data",
          "data": {
            "text/html": [
              "<html>\n",
              "<head><meta charset=\"utf-8\" /></head>\n",
              "<body>\n",
              "    <div>            <script src=\"https://cdnjs.cloudflare.com/ajax/libs/mathjax/2.7.5/MathJax.js?config=TeX-AMS-MML_SVG\"></script><script type=\"text/javascript\">if (window.MathJax) {MathJax.Hub.Config({SVG: {font: \"STIX-Web\"}});}</script>                <script type=\"text/javascript\">window.PlotlyConfig = {MathJaxConfig: 'local'};</script>\n",
              "        <script src=\"https://cdn.plot.ly/plotly-2.8.3.min.js\"></script>                <div id=\"aba27a6a-499f-42f2-8ecd-396be39b8adf\" class=\"plotly-graph-div\" style=\"height:525px; width:100%;\"></div>            <script type=\"text/javascript\">                                    window.PLOTLYENV=window.PLOTLYENV || {};                                    if (document.getElementById(\"aba27a6a-499f-42f2-8ecd-396be39b8adf\")) {                    Plotly.newPlot(                        \"aba27a6a-499f-42f2-8ecd-396be39b8adf\",                        [{\"alignmentgroup\":\"True\",\"hovertemplate\":\"Ensembel_Learning_Tech=%{x}<br>R2 Score=%{y}<extra></extra>\",\"legendgroup\":\"Averag\",\"marker\":{\"color\":\"#636efa\",\"pattern\":{\"shape\":\"\"}},\"name\":\"Averag\",\"offsetgroup\":\"Averag\",\"orientation\":\"v\",\"showlegend\":true,\"textposition\":\"auto\",\"x\":[\"Averag\"],\"xaxis\":\"x\",\"y\":[0.9532373426336886],\"yaxis\":\"y\",\"type\":\"bar\"},{\"alignmentgroup\":\"True\",\"hovertemplate\":\"Ensembel_Learning_Tech=%{x}<br>R2 Score=%{y}<extra></extra>\",\"legendgroup\":\"Weighted_Avg\",\"marker\":{\"color\":\"#EF553B\",\"pattern\":{\"shape\":\"\"}},\"name\":\"Weighted_Avg\",\"offsetgroup\":\"Weighted_Avg\",\"orientation\":\"v\",\"showlegend\":true,\"textposition\":\"auto\",\"x\":[\"Weighted_Avg\"],\"xaxis\":\"x\",\"y\":[0.9594968959385937],\"yaxis\":\"y\",\"type\":\"bar\"},{\"alignmentgroup\":\"True\",\"hovertemplate\":\"Ensembel_Learning_Tech=%{x}<br>R2 Score=%{y}<extra></extra>\",\"legendgroup\":\"Baging_RandomForest\",\"marker\":{\"color\":\"#00cc96\",\"pattern\":{\"shape\":\"\"}},\"name\":\"Baging_RandomForest\",\"offsetgroup\":\"Baging_RandomForest\",\"orientation\":\"v\",\"showlegend\":true,\"textposition\":\"auto\",\"x\":[\"Baging_RandomForest\"],\"xaxis\":\"x\",\"y\":[0.9743489611363598],\"yaxis\":\"y\",\"type\":\"bar\"},{\"alignmentgroup\":\"True\",\"hovertemplate\":\"Ensembel_Learning_Tech=%{x}<br>R2 Score=%{y}<extra></extra>\",\"legendgroup\":\"Boosting_XGB\",\"marker\":{\"color\":\"#ab63fa\",\"pattern\":{\"shape\":\"\"}},\"name\":\"Boosting_XGB\",\"offsetgroup\":\"Boosting_XGB\",\"orientation\":\"v\",\"showlegend\":true,\"textposition\":\"auto\",\"x\":[\"Boosting_XGB\"],\"xaxis\":\"x\",\"y\":[0.9849622268596874],\"yaxis\":\"y\",\"type\":\"bar\"}],                        {\"template\":{\"data\":{\"bar\":[{\"error_x\":{\"color\":\"#2a3f5f\"},\"error_y\":{\"color\":\"#2a3f5f\"},\"marker\":{\"line\":{\"color\":\"#E5ECF6\",\"width\":0.5},\"pattern\":{\"fillmode\":\"overlay\",\"size\":10,\"solidity\":0.2}},\"type\":\"bar\"}],\"barpolar\":[{\"marker\":{\"line\":{\"color\":\"#E5ECF6\",\"width\":0.5},\"pattern\":{\"fillmode\":\"overlay\",\"size\":10,\"solidity\":0.2}},\"type\":\"barpolar\"}],\"carpet\":[{\"aaxis\":{\"endlinecolor\":\"#2a3f5f\",\"gridcolor\":\"white\",\"linecolor\":\"white\",\"minorgridcolor\":\"white\",\"startlinecolor\":\"#2a3f5f\"},\"baxis\":{\"endlinecolor\":\"#2a3f5f\",\"gridcolor\":\"white\",\"linecolor\":\"white\",\"minorgridcolor\":\"white\",\"startlinecolor\":\"#2a3f5f\"},\"type\":\"carpet\"}],\"choropleth\":[{\"colorbar\":{\"outlinewidth\":0,\"ticks\":\"\"},\"type\":\"choropleth\"}],\"contour\":[{\"colorbar\":{\"outlinewidth\":0,\"ticks\":\"\"},\"colorscale\":[[0.0,\"#0d0887\"],[0.1111111111111111,\"#46039f\"],[0.2222222222222222,\"#7201a8\"],[0.3333333333333333,\"#9c179e\"],[0.4444444444444444,\"#bd3786\"],[0.5555555555555556,\"#d8576b\"],[0.6666666666666666,\"#ed7953\"],[0.7777777777777778,\"#fb9f3a\"],[0.8888888888888888,\"#fdca26\"],[1.0,\"#f0f921\"]],\"type\":\"contour\"}],\"contourcarpet\":[{\"colorbar\":{\"outlinewidth\":0,\"ticks\":\"\"},\"type\":\"contourcarpet\"}],\"heatmap\":[{\"colorbar\":{\"outlinewidth\":0,\"ticks\":\"\"},\"colorscale\":[[0.0,\"#0d0887\"],[0.1111111111111111,\"#46039f\"],[0.2222222222222222,\"#7201a8\"],[0.3333333333333333,\"#9c179e\"],[0.4444444444444444,\"#bd3786\"],[0.5555555555555556,\"#d8576b\"],[0.6666666666666666,\"#ed7953\"],[0.7777777777777778,\"#fb9f3a\"],[0.8888888888888888,\"#fdca26\"],[1.0,\"#f0f921\"]],\"type\":\"heatmap\"}],\"heatmapgl\":[{\"colorbar\":{\"outlinewidth\":0,\"ticks\":\"\"},\"colorscale\":[[0.0,\"#0d0887\"],[0.1111111111111111,\"#46039f\"],[0.2222222222222222,\"#7201a8\"],[0.3333333333333333,\"#9c179e\"],[0.4444444444444444,\"#bd3786\"],[0.5555555555555556,\"#d8576b\"],[0.6666666666666666,\"#ed7953\"],[0.7777777777777778,\"#fb9f3a\"],[0.8888888888888888,\"#fdca26\"],[1.0,\"#f0f921\"]],\"type\":\"heatmapgl\"}],\"histogram\":[{\"marker\":{\"pattern\":{\"fillmode\":\"overlay\",\"size\":10,\"solidity\":0.2}},\"type\":\"histogram\"}],\"histogram2d\":[{\"colorbar\":{\"outlinewidth\":0,\"ticks\":\"\"},\"colorscale\":[[0.0,\"#0d0887\"],[0.1111111111111111,\"#46039f\"],[0.2222222222222222,\"#7201a8\"],[0.3333333333333333,\"#9c179e\"],[0.4444444444444444,\"#bd3786\"],[0.5555555555555556,\"#d8576b\"],[0.6666666666666666,\"#ed7953\"],[0.7777777777777778,\"#fb9f3a\"],[0.8888888888888888,\"#fdca26\"],[1.0,\"#f0f921\"]],\"type\":\"histogram2d\"}],\"histogram2dcontour\":[{\"colorbar\":{\"outlinewidth\":0,\"ticks\":\"\"},\"colorscale\":[[0.0,\"#0d0887\"],[0.1111111111111111,\"#46039f\"],[0.2222222222222222,\"#7201a8\"],[0.3333333333333333,\"#9c179e\"],[0.4444444444444444,\"#bd3786\"],[0.5555555555555556,\"#d8576b\"],[0.6666666666666666,\"#ed7953\"],[0.7777777777777778,\"#fb9f3a\"],[0.8888888888888888,\"#fdca26\"],[1.0,\"#f0f921\"]],\"type\":\"histogram2dcontour\"}],\"mesh3d\":[{\"colorbar\":{\"outlinewidth\":0,\"ticks\":\"\"},\"type\":\"mesh3d\"}],\"parcoords\":[{\"line\":{\"colorbar\":{\"outlinewidth\":0,\"ticks\":\"\"}},\"type\":\"parcoords\"}],\"pie\":[{\"automargin\":true,\"type\":\"pie\"}],\"scatter\":[{\"marker\":{\"colorbar\":{\"outlinewidth\":0,\"ticks\":\"\"}},\"type\":\"scatter\"}],\"scatter3d\":[{\"line\":{\"colorbar\":{\"outlinewidth\":0,\"ticks\":\"\"}},\"marker\":{\"colorbar\":{\"outlinewidth\":0,\"ticks\":\"\"}},\"type\":\"scatter3d\"}],\"scattercarpet\":[{\"marker\":{\"colorbar\":{\"outlinewidth\":0,\"ticks\":\"\"}},\"type\":\"scattercarpet\"}],\"scattergeo\":[{\"marker\":{\"colorbar\":{\"outlinewidth\":0,\"ticks\":\"\"}},\"type\":\"scattergeo\"}],\"scattergl\":[{\"marker\":{\"colorbar\":{\"outlinewidth\":0,\"ticks\":\"\"}},\"type\":\"scattergl\"}],\"scattermapbox\":[{\"marker\":{\"colorbar\":{\"outlinewidth\":0,\"ticks\":\"\"}},\"type\":\"scattermapbox\"}],\"scatterpolar\":[{\"marker\":{\"colorbar\":{\"outlinewidth\":0,\"ticks\":\"\"}},\"type\":\"scatterpolar\"}],\"scatterpolargl\":[{\"marker\":{\"colorbar\":{\"outlinewidth\":0,\"ticks\":\"\"}},\"type\":\"scatterpolargl\"}],\"scatterternary\":[{\"marker\":{\"colorbar\":{\"outlinewidth\":0,\"ticks\":\"\"}},\"type\":\"scatterternary\"}],\"surface\":[{\"colorbar\":{\"outlinewidth\":0,\"ticks\":\"\"},\"colorscale\":[[0.0,\"#0d0887\"],[0.1111111111111111,\"#46039f\"],[0.2222222222222222,\"#7201a8\"],[0.3333333333333333,\"#9c179e\"],[0.4444444444444444,\"#bd3786\"],[0.5555555555555556,\"#d8576b\"],[0.6666666666666666,\"#ed7953\"],[0.7777777777777778,\"#fb9f3a\"],[0.8888888888888888,\"#fdca26\"],[1.0,\"#f0f921\"]],\"type\":\"surface\"}],\"table\":[{\"cells\":{\"fill\":{\"color\":\"#EBF0F8\"},\"line\":{\"color\":\"white\"}},\"header\":{\"fill\":{\"color\":\"#C8D4E3\"},\"line\":{\"color\":\"white\"}},\"type\":\"table\"}]},\"layout\":{\"annotationdefaults\":{\"arrowcolor\":\"#2a3f5f\",\"arrowhead\":0,\"arrowwidth\":1},\"autotypenumbers\":\"strict\",\"coloraxis\":{\"colorbar\":{\"outlinewidth\":0,\"ticks\":\"\"}},\"colorscale\":{\"diverging\":[[0,\"#8e0152\"],[0.1,\"#c51b7d\"],[0.2,\"#de77ae\"],[0.3,\"#f1b6da\"],[0.4,\"#fde0ef\"],[0.5,\"#f7f7f7\"],[0.6,\"#e6f5d0\"],[0.7,\"#b8e186\"],[0.8,\"#7fbc41\"],[0.9,\"#4d9221\"],[1,\"#276419\"]],\"sequential\":[[0.0,\"#0d0887\"],[0.1111111111111111,\"#46039f\"],[0.2222222222222222,\"#7201a8\"],[0.3333333333333333,\"#9c179e\"],[0.4444444444444444,\"#bd3786\"],[0.5555555555555556,\"#d8576b\"],[0.6666666666666666,\"#ed7953\"],[0.7777777777777778,\"#fb9f3a\"],[0.8888888888888888,\"#fdca26\"],[1.0,\"#f0f921\"]],\"sequentialminus\":[[0.0,\"#0d0887\"],[0.1111111111111111,\"#46039f\"],[0.2222222222222222,\"#7201a8\"],[0.3333333333333333,\"#9c179e\"],[0.4444444444444444,\"#bd3786\"],[0.5555555555555556,\"#d8576b\"],[0.6666666666666666,\"#ed7953\"],[0.7777777777777778,\"#fb9f3a\"],[0.8888888888888888,\"#fdca26\"],[1.0,\"#f0f921\"]]},\"colorway\":[\"#636efa\",\"#EF553B\",\"#00cc96\",\"#ab63fa\",\"#FFA15A\",\"#19d3f3\",\"#FF6692\",\"#B6E880\",\"#FF97FF\",\"#FECB52\"],\"font\":{\"color\":\"#2a3f5f\"},\"geo\":{\"bgcolor\":\"white\",\"lakecolor\":\"white\",\"landcolor\":\"#E5ECF6\",\"showlakes\":true,\"showland\":true,\"subunitcolor\":\"white\"},\"hoverlabel\":{\"align\":\"left\"},\"hovermode\":\"closest\",\"mapbox\":{\"style\":\"light\"},\"paper_bgcolor\":\"white\",\"plot_bgcolor\":\"#E5ECF6\",\"polar\":{\"angularaxis\":{\"gridcolor\":\"white\",\"linecolor\":\"white\",\"ticks\":\"\"},\"bgcolor\":\"#E5ECF6\",\"radialaxis\":{\"gridcolor\":\"white\",\"linecolor\":\"white\",\"ticks\":\"\"}},\"scene\":{\"xaxis\":{\"backgroundcolor\":\"#E5ECF6\",\"gridcolor\":\"white\",\"gridwidth\":2,\"linecolor\":\"white\",\"showbackground\":true,\"ticks\":\"\",\"zerolinecolor\":\"white\"},\"yaxis\":{\"backgroundcolor\":\"#E5ECF6\",\"gridcolor\":\"white\",\"gridwidth\":2,\"linecolor\":\"white\",\"showbackground\":true,\"ticks\":\"\",\"zerolinecolor\":\"white\"},\"zaxis\":{\"backgroundcolor\":\"#E5ECF6\",\"gridcolor\":\"white\",\"gridwidth\":2,\"linecolor\":\"white\",\"showbackground\":true,\"ticks\":\"\",\"zerolinecolor\":\"white\"}},\"shapedefaults\":{\"line\":{\"color\":\"#2a3f5f\"}},\"ternary\":{\"aaxis\":{\"gridcolor\":\"white\",\"linecolor\":\"white\",\"ticks\":\"\"},\"baxis\":{\"gridcolor\":\"white\",\"linecolor\":\"white\",\"ticks\":\"\"},\"bgcolor\":\"#E5ECF6\",\"caxis\":{\"gridcolor\":\"white\",\"linecolor\":\"white\",\"ticks\":\"\"}},\"title\":{\"x\":0.05},\"xaxis\":{\"automargin\":true,\"gridcolor\":\"white\",\"linecolor\":\"white\",\"ticks\":\"\",\"title\":{\"standoff\":15},\"zerolinecolor\":\"white\",\"zerolinewidth\":2},\"yaxis\":{\"automargin\":true,\"gridcolor\":\"white\",\"linecolor\":\"white\",\"ticks\":\"\",\"title\":{\"standoff\":15},\"zerolinecolor\":\"white\",\"zerolinewidth\":2}}},\"xaxis\":{\"anchor\":\"y\",\"domain\":[0.0,1.0],\"title\":{\"text\":\"Ensembel_Learning_Tech\"},\"categoryorder\":\"array\",\"categoryarray\":[\"Averag\",\"Weighted_Avg\",\"Baging_RandomForest\",\"Boosting_XGB\"]},\"yaxis\":{\"anchor\":\"x\",\"domain\":[0.0,1.0],\"title\":{\"text\":\"R2 Score\"}},\"legend\":{\"title\":{\"text\":\"Ensembel_Learning_Tech\"},\"tracegroupgap\":0},\"margin\":{\"t\":60},\"barmode\":\"relative\"},                        {\"responsive\": true}                    ).then(function(){\n",
              "                            \n",
              "var gd = document.getElementById('aba27a6a-499f-42f2-8ecd-396be39b8adf');\n",
              "var x = new MutationObserver(function (mutations, observer) {{\n",
              "        var display = window.getComputedStyle(gd).display;\n",
              "        if (!display || display === 'none') {{\n",
              "            console.log([gd, 'removed!']);\n",
              "            Plotly.purge(gd);\n",
              "            observer.disconnect();\n",
              "        }}\n",
              "}});\n",
              "\n",
              "// Listen for the removal of the full notebook cells\n",
              "var notebookContainer = gd.closest('#notebook-container');\n",
              "if (notebookContainer) {{\n",
              "    x.observe(notebookContainer, {childList: true});\n",
              "}}\n",
              "\n",
              "// Listen for the clearing of the current output cell\n",
              "var outputEl = gd.closest('.output');\n",
              "if (outputEl) {{\n",
              "    x.observe(outputEl, {childList: true});\n",
              "}}\n",
              "\n",
              "                        })                };                            </script>        </div>\n",
              "</body>\n",
              "</html>"
            ]
          },
          "metadata": {}
        }
      ]
    },
    {
      "cell_type": "markdown",
      "source": [
        "# Feature Selection"
      ],
      "metadata": {
        "id": "S8sLMr--iseS"
      }
    },
    {
      "cell_type": "code",
      "source": [
        "df1.corr()\n"
      ],
      "metadata": {
        "colab": {
          "base_uri": "https://localhost:8080/",
          "height": 600
        },
        "id": "fHZt2cAhiq3B",
        "outputId": "85646ee8-b34a-44fb-b0bd-b5aff0f34c6a"
      },
      "execution_count": 92,
      "outputs": [
        {
          "output_type": "execute_result",
          "data": {
            "text/plain": [
              "                           Relative_Compactness  Surface_Area     Wall_Area  \\\n",
              "Relative_Compactness               1.000000e+00 -9.919015e-01 -2.037817e-01   \n",
              "Surface_Area                      -9.919015e-01  1.000000e+00  1.955016e-01   \n",
              "Wall_Area                         -2.037817e-01  1.955016e-01  1.000000e+00   \n",
              "Roof_Area                         -8.688234e-01  8.807195e-01 -2.923165e-01   \n",
              "Overall_Height                     8.277473e-01 -8.581477e-01  2.809757e-01   \n",
              "Orientation                        4.678592e-17 -3.459372e-17 -2.429499e-17   \n",
              "Glazing_Area                      -2.960552e-15  3.636925e-15 -8.567455e-17   \n",
              "Glazing_Area_Distribution         -7.107006e-16  2.438409e-15  2.067384e-16   \n",
              "Heating_Load                       6.222722e-01 -6.581202e-01  4.556712e-01   \n",
              "Cooling_Load                       6.343391e-01 -6.729989e-01  4.271170e-01   \n",
              "\n",
              "                              Roof_Area  Overall_Height   Orientation  \\\n",
              "Relative_Compactness      -8.688234e-01    8.277473e-01  4.678592e-17   \n",
              "Surface_Area               8.807195e-01   -8.581477e-01 -3.459372e-17   \n",
              "Wall_Area                 -2.923165e-01    2.809757e-01 -2.429499e-17   \n",
              "Roof_Area                  1.000000e+00   -9.725122e-01 -5.830058e-17   \n",
              "Overall_Height            -9.725122e-01    1.000000e+00  4.492205e-17   \n",
              "Orientation               -5.830058e-17    4.492205e-17  1.000000e+00   \n",
              "Glazing_Area              -1.759011e-15    1.489134e-17 -9.406007e-16   \n",
              "Glazing_Area_Distribution -1.078071e-15   -2.920613e-17 -2.549352e-16   \n",
              "Heating_Load              -8.618283e-01    8.894307e-01 -2.586534e-03   \n",
              "Cooling_Load              -8.625466e-01    8.957852e-01  1.428960e-02   \n",
              "\n",
              "                           Glazing_Area  Glazing_Area_Distribution  \\\n",
              "Relative_Compactness      -2.960552e-15              -7.107006e-16   \n",
              "Surface_Area               3.636925e-15               2.438409e-15   \n",
              "Wall_Area                 -8.567455e-17               2.067384e-16   \n",
              "Roof_Area                 -1.759011e-15              -1.078071e-15   \n",
              "Overall_Height             1.489134e-17              -2.920613e-17   \n",
              "Orientation               -9.406007e-16              -2.549352e-16   \n",
              "Glazing_Area               1.000000e+00               2.129642e-01   \n",
              "Glazing_Area_Distribution  2.129642e-01               1.000000e+00   \n",
              "Heating_Load               2.698410e-01               8.736759e-02   \n",
              "Cooling_Load               2.075050e-01               5.052512e-02   \n",
              "\n",
              "                           Heating_Load  Cooling_Load  \n",
              "Relative_Compactness           0.622272      0.634339  \n",
              "Surface_Area                  -0.658120     -0.672999  \n",
              "Wall_Area                      0.455671      0.427117  \n",
              "Roof_Area                     -0.861828     -0.862547  \n",
              "Overall_Height                 0.889431      0.895785  \n",
              "Orientation                   -0.002587      0.014290  \n",
              "Glazing_Area                   0.269841      0.207505  \n",
              "Glazing_Area_Distribution      0.087368      0.050525  \n",
              "Heating_Load                   1.000000      0.975862  \n",
              "Cooling_Load                   0.975862      1.000000  "
            ],
            "text/html": [
              "\n",
              "  <div id=\"df-567c73b1-a60d-453c-8450-7efe3af06efb\">\n",
              "    <div class=\"colab-df-container\">\n",
              "      <div>\n",
              "<style scoped>\n",
              "    .dataframe tbody tr th:only-of-type {\n",
              "        vertical-align: middle;\n",
              "    }\n",
              "\n",
              "    .dataframe tbody tr th {\n",
              "        vertical-align: top;\n",
              "    }\n",
              "\n",
              "    .dataframe thead th {\n",
              "        text-align: right;\n",
              "    }\n",
              "</style>\n",
              "<table border=\"1\" class=\"dataframe\">\n",
              "  <thead>\n",
              "    <tr style=\"text-align: right;\">\n",
              "      <th></th>\n",
              "      <th>Relative_Compactness</th>\n",
              "      <th>Surface_Area</th>\n",
              "      <th>Wall_Area</th>\n",
              "      <th>Roof_Area</th>\n",
              "      <th>Overall_Height</th>\n",
              "      <th>Orientation</th>\n",
              "      <th>Glazing_Area</th>\n",
              "      <th>Glazing_Area_Distribution</th>\n",
              "      <th>Heating_Load</th>\n",
              "      <th>Cooling_Load</th>\n",
              "    </tr>\n",
              "  </thead>\n",
              "  <tbody>\n",
              "    <tr>\n",
              "      <th>Relative_Compactness</th>\n",
              "      <td>1.000000e+00</td>\n",
              "      <td>-9.919015e-01</td>\n",
              "      <td>-2.037817e-01</td>\n",
              "      <td>-8.688234e-01</td>\n",
              "      <td>8.277473e-01</td>\n",
              "      <td>4.678592e-17</td>\n",
              "      <td>-2.960552e-15</td>\n",
              "      <td>-7.107006e-16</td>\n",
              "      <td>0.622272</td>\n",
              "      <td>0.634339</td>\n",
              "    </tr>\n",
              "    <tr>\n",
              "      <th>Surface_Area</th>\n",
              "      <td>-9.919015e-01</td>\n",
              "      <td>1.000000e+00</td>\n",
              "      <td>1.955016e-01</td>\n",
              "      <td>8.807195e-01</td>\n",
              "      <td>-8.581477e-01</td>\n",
              "      <td>-3.459372e-17</td>\n",
              "      <td>3.636925e-15</td>\n",
              "      <td>2.438409e-15</td>\n",
              "      <td>-0.658120</td>\n",
              "      <td>-0.672999</td>\n",
              "    </tr>\n",
              "    <tr>\n",
              "      <th>Wall_Area</th>\n",
              "      <td>-2.037817e-01</td>\n",
              "      <td>1.955016e-01</td>\n",
              "      <td>1.000000e+00</td>\n",
              "      <td>-2.923165e-01</td>\n",
              "      <td>2.809757e-01</td>\n",
              "      <td>-2.429499e-17</td>\n",
              "      <td>-8.567455e-17</td>\n",
              "      <td>2.067384e-16</td>\n",
              "      <td>0.455671</td>\n",
              "      <td>0.427117</td>\n",
              "    </tr>\n",
              "    <tr>\n",
              "      <th>Roof_Area</th>\n",
              "      <td>-8.688234e-01</td>\n",
              "      <td>8.807195e-01</td>\n",
              "      <td>-2.923165e-01</td>\n",
              "      <td>1.000000e+00</td>\n",
              "      <td>-9.725122e-01</td>\n",
              "      <td>-5.830058e-17</td>\n",
              "      <td>-1.759011e-15</td>\n",
              "      <td>-1.078071e-15</td>\n",
              "      <td>-0.861828</td>\n",
              "      <td>-0.862547</td>\n",
              "    </tr>\n",
              "    <tr>\n",
              "      <th>Overall_Height</th>\n",
              "      <td>8.277473e-01</td>\n",
              "      <td>-8.581477e-01</td>\n",
              "      <td>2.809757e-01</td>\n",
              "      <td>-9.725122e-01</td>\n",
              "      <td>1.000000e+00</td>\n",
              "      <td>4.492205e-17</td>\n",
              "      <td>1.489134e-17</td>\n",
              "      <td>-2.920613e-17</td>\n",
              "      <td>0.889431</td>\n",
              "      <td>0.895785</td>\n",
              "    </tr>\n",
              "    <tr>\n",
              "      <th>Orientation</th>\n",
              "      <td>4.678592e-17</td>\n",
              "      <td>-3.459372e-17</td>\n",
              "      <td>-2.429499e-17</td>\n",
              "      <td>-5.830058e-17</td>\n",
              "      <td>4.492205e-17</td>\n",
              "      <td>1.000000e+00</td>\n",
              "      <td>-9.406007e-16</td>\n",
              "      <td>-2.549352e-16</td>\n",
              "      <td>-0.002587</td>\n",
              "      <td>0.014290</td>\n",
              "    </tr>\n",
              "    <tr>\n",
              "      <th>Glazing_Area</th>\n",
              "      <td>-2.960552e-15</td>\n",
              "      <td>3.636925e-15</td>\n",
              "      <td>-8.567455e-17</td>\n",
              "      <td>-1.759011e-15</td>\n",
              "      <td>1.489134e-17</td>\n",
              "      <td>-9.406007e-16</td>\n",
              "      <td>1.000000e+00</td>\n",
              "      <td>2.129642e-01</td>\n",
              "      <td>0.269841</td>\n",
              "      <td>0.207505</td>\n",
              "    </tr>\n",
              "    <tr>\n",
              "      <th>Glazing_Area_Distribution</th>\n",
              "      <td>-7.107006e-16</td>\n",
              "      <td>2.438409e-15</td>\n",
              "      <td>2.067384e-16</td>\n",
              "      <td>-1.078071e-15</td>\n",
              "      <td>-2.920613e-17</td>\n",
              "      <td>-2.549352e-16</td>\n",
              "      <td>2.129642e-01</td>\n",
              "      <td>1.000000e+00</td>\n",
              "      <td>0.087368</td>\n",
              "      <td>0.050525</td>\n",
              "    </tr>\n",
              "    <tr>\n",
              "      <th>Heating_Load</th>\n",
              "      <td>6.222722e-01</td>\n",
              "      <td>-6.581202e-01</td>\n",
              "      <td>4.556712e-01</td>\n",
              "      <td>-8.618283e-01</td>\n",
              "      <td>8.894307e-01</td>\n",
              "      <td>-2.586534e-03</td>\n",
              "      <td>2.698410e-01</td>\n",
              "      <td>8.736759e-02</td>\n",
              "      <td>1.000000</td>\n",
              "      <td>0.975862</td>\n",
              "    </tr>\n",
              "    <tr>\n",
              "      <th>Cooling_Load</th>\n",
              "      <td>6.343391e-01</td>\n",
              "      <td>-6.729989e-01</td>\n",
              "      <td>4.271170e-01</td>\n",
              "      <td>-8.625466e-01</td>\n",
              "      <td>8.957852e-01</td>\n",
              "      <td>1.428960e-02</td>\n",
              "      <td>2.075050e-01</td>\n",
              "      <td>5.052512e-02</td>\n",
              "      <td>0.975862</td>\n",
              "      <td>1.000000</td>\n",
              "    </tr>\n",
              "  </tbody>\n",
              "</table>\n",
              "</div>\n",
              "      <button class=\"colab-df-convert\" onclick=\"convertToInteractive('df-567c73b1-a60d-453c-8450-7efe3af06efb')\"\n",
              "              title=\"Convert this dataframe to an interactive table.\"\n",
              "              style=\"display:none;\">\n",
              "        \n",
              "  <svg xmlns=\"http://www.w3.org/2000/svg\" height=\"24px\"viewBox=\"0 0 24 24\"\n",
              "       width=\"24px\">\n",
              "    <path d=\"M0 0h24v24H0V0z\" fill=\"none\"/>\n",
              "    <path d=\"M18.56 5.44l.94 2.06.94-2.06 2.06-.94-2.06-.94-.94-2.06-.94 2.06-2.06.94zm-11 1L8.5 8.5l.94-2.06 2.06-.94-2.06-.94L8.5 2.5l-.94 2.06-2.06.94zm10 10l.94 2.06.94-2.06 2.06-.94-2.06-.94-.94-2.06-.94 2.06-2.06.94z\"/><path d=\"M17.41 7.96l-1.37-1.37c-.4-.4-.92-.59-1.43-.59-.52 0-1.04.2-1.43.59L10.3 9.45l-7.72 7.72c-.78.78-.78 2.05 0 2.83L4 21.41c.39.39.9.59 1.41.59.51 0 1.02-.2 1.41-.59l7.78-7.78 2.81-2.81c.8-.78.8-2.07 0-2.86zM5.41 20L4 18.59l7.72-7.72 1.47 1.35L5.41 20z\"/>\n",
              "  </svg>\n",
              "      </button>\n",
              "      \n",
              "  <style>\n",
              "    .colab-df-container {\n",
              "      display:flex;\n",
              "      flex-wrap:wrap;\n",
              "      gap: 12px;\n",
              "    }\n",
              "\n",
              "    .colab-df-convert {\n",
              "      background-color: #E8F0FE;\n",
              "      border: none;\n",
              "      border-radius: 50%;\n",
              "      cursor: pointer;\n",
              "      display: none;\n",
              "      fill: #1967D2;\n",
              "      height: 32px;\n",
              "      padding: 0 0 0 0;\n",
              "      width: 32px;\n",
              "    }\n",
              "\n",
              "    .colab-df-convert:hover {\n",
              "      background-color: #E2EBFA;\n",
              "      box-shadow: 0px 1px 2px rgba(60, 64, 67, 0.3), 0px 1px 3px 1px rgba(60, 64, 67, 0.15);\n",
              "      fill: #174EA6;\n",
              "    }\n",
              "\n",
              "    [theme=dark] .colab-df-convert {\n",
              "      background-color: #3B4455;\n",
              "      fill: #D2E3FC;\n",
              "    }\n",
              "\n",
              "    [theme=dark] .colab-df-convert:hover {\n",
              "      background-color: #434B5C;\n",
              "      box-shadow: 0px 1px 3px 1px rgba(0, 0, 0, 0.15);\n",
              "      filter: drop-shadow(0px 1px 2px rgba(0, 0, 0, 0.3));\n",
              "      fill: #FFFFFF;\n",
              "    }\n",
              "  </style>\n",
              "\n",
              "      <script>\n",
              "        const buttonEl =\n",
              "          document.querySelector('#df-567c73b1-a60d-453c-8450-7efe3af06efb button.colab-df-convert');\n",
              "        buttonEl.style.display =\n",
              "          google.colab.kernel.accessAllowed ? 'block' : 'none';\n",
              "\n",
              "        async function convertToInteractive(key) {\n",
              "          const element = document.querySelector('#df-567c73b1-a60d-453c-8450-7efe3af06efb');\n",
              "          const dataTable =\n",
              "            await google.colab.kernel.invokeFunction('convertToInteractive',\n",
              "                                                     [key], {});\n",
              "          if (!dataTable) return;\n",
              "\n",
              "          const docLinkHtml = 'Like what you see? Visit the ' +\n",
              "            '<a target=\"_blank\" href=https://colab.research.google.com/notebooks/data_table.ipynb>data table notebook</a>'\n",
              "            + ' to learn more about interactive tables.';\n",
              "          element.innerHTML = '';\n",
              "          dataTable['output_type'] = 'display_data';\n",
              "          await google.colab.output.renderOutput(dataTable, element);\n",
              "          const docLink = document.createElement('div');\n",
              "          docLink.innerHTML = docLinkHtml;\n",
              "          element.appendChild(docLink);\n",
              "        }\n",
              "      </script>\n",
              "    </div>\n",
              "  </div>\n",
              "  "
            ]
          },
          "metadata": {},
          "execution_count": 92
        }
      ]
    },
    {
      "cell_type": "code",
      "source": [
        "from sklearn.feature_selection import RFE\n",
        "estimato =  DecisionTreeRegressor(max_depth=6)\n",
        "selector = RFE(estimato, n_features_to_select=3, step=1)\n",
        "selector = selector.fit(x_train, y_train)\n",
        "# list(zip(['AREA', 'INT_SQFT', 'DIST_MAINROAD',\n",
        "#        'N_BEDROOM',''],selector.support_))\n",
        "list(zip(X.columns,selector.support_))"
      ],
      "metadata": {
        "colab": {
          "base_uri": "https://localhost:8080/"
        },
        "id": "L_G35amVo4_o",
        "outputId": "f49ee3d8-2662-4f96-e8ef-3749ca5704cc"
      },
      "execution_count": 93,
      "outputs": [
        {
          "output_type": "execute_result",
          "data": {
            "text/plain": [
              "[('Relative_Compactness', True),\n",
              " ('Surface_Area', False),\n",
              " ('Wall_Area', True),\n",
              " ('Roof_Area', False),\n",
              " ('Overall_Height', False),\n",
              " ('Orientation', False),\n",
              " ('Glazing_Area', True),\n",
              " ('Glazing_Area_Distribution', False)]"
            ]
          },
          "metadata": {},
          "execution_count": 93
        }
      ]
    },
    {
      "cell_type": "code",
      "source": [
        "from sklearn.feature_selection import SequentialFeatureSelector\n",
        "estimator = DecisionTreeRegressor(max_depth=6)\n",
        "sfs = SequentialFeatureSelector(estimator, n_features_to_select=3)\n",
        "sfs.fit(x_train, y_train)\n",
        "list(zip(X.columns,sfs.get_support()))"
      ],
      "metadata": {
        "colab": {
          "base_uri": "https://localhost:8080/"
        },
        "id": "IFK39wtRp3nO",
        "outputId": "372651a2-1fb6-4e77-fe43-82098201bb7c"
      },
      "execution_count": 94,
      "outputs": [
        {
          "output_type": "execute_result",
          "data": {
            "text/plain": [
              "[('Relative_Compactness', True),\n",
              " ('Surface_Area', False),\n",
              " ('Wall_Area', True),\n",
              " ('Roof_Area', False),\n",
              " ('Overall_Height', False),\n",
              " ('Orientation', False),\n",
              " ('Glazing_Area', True),\n",
              " ('Glazing_Area_Distribution', False)]"
            ]
          },
          "metadata": {},
          "execution_count": 94
        }
      ]
    }
  ]
}